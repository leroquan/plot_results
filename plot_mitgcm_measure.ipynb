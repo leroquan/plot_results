{
 "cells": [
  {
   "cell_type": "code",
   "execution_count": 1,
   "id": "initial_id",
   "metadata": {
    "ExecuteTime": {
     "end_time": "2025-02-25T15:33:59.300311Z",
     "start_time": "2025-02-25T15:33:49.616294Z"
    }
   },
   "outputs": [],
   "source": [
    "import netCDF4\n",
    "import matplotlib.pyplot as plt\n",
    "import matplotlib.ticker as ticker\n",
    "import json\n",
    "from datetime import datetime, timezone, timedelta\n",
    "import os\n",
    "import glob\n",
    "import numpy as np\n",
    "import pandas as pd\n",
    "import xarray as xr\n",
    "import xmitgcm as xm\n",
    "import time\n",
    "import socket\n",
    "\n",
    "# %matplotlib notebook"
   ]
  },
  {
   "cell_type": "code",
   "execution_count": 2,
   "id": "3942a98c9771493a",
   "metadata": {
    "ExecuteTime": {
     "end_time": "2025-02-25T15:33:59.443172Z",
     "start_time": "2025-02-25T15:33:59.301521Z"
    },
    "collapsed": false,
    "jupyter": {
     "outputs_hidden": false
    }
   },
   "outputs": [],
   "source": [
    "from datalakes import download_data_from_datalakes_dataset\n",
    "from alplakes import parse_alplakes_3d_timeserie_from_directory, get_3d_profile_from_api, open_json, parse_json_3d_profile_to_df, parse_alplakes_1d_from_directory\n",
    "from utils import save_json\n",
    "from mitgcm.utils_mitgcm import open_mitgcm_ds_from_config"
   ]
  },
  {
   "cell_type": "markdown",
   "id": "5763871c26f53ce3",
   "metadata": {
    "collapsed": false,
    "jupyter": {
     "outputs_hidden": false
    }
   },
   "source": [
    "# Comparison between MITgcm results, simstrat results (from Alplakes) and measurements from Datalakes\n",
    "This notebook displays :\n",
    "- the timeserie of the temperature at a given location and depth\n",
    "- the profile of the temperature at a given location and time\n",
    "- the heatmap of the profile at a given location\n",
    "\n",
    "It imports the measure from a netcdf file that can be dowloaded on the datalake platform (https://www.datalakes-eawag.ch/data).\n",
    "It imports local MITgcm simulation results."
   ]
  },
  {
   "cell_type": "code",
   "execution_count": 3,
   "id": "adab63e692a2ef67",
   "metadata": {
    "ExecuteTime": {
     "end_time": "2025-02-25T15:34:07.341562Z",
     "start_time": "2025-02-25T15:33:59.445279Z"
    },
    "collapsed": false,
    "jupyter": {
     "outputs_hidden": false
    }
   },
   "outputs": [],
   "source": [
    "lake_name = \"Zurich\"\n",
    "sta_name = 'lower_zurich'\n",
    "\n",
    "model = 'test_zurich'"
   ]
  },
  {
   "cell_type": "code",
   "execution_count": 4,
   "id": "91610b148f0a4a08",
   "metadata": {
    "ExecuteTime": {
     "end_time": "2025-02-25T15:34:07.746148Z",
     "start_time": "2025-02-25T15:34:07.343662Z"
    },
    "collapsed": false,
    "jupyter": {
     "outputs_hidden": false
    }
   },
   "outputs": [],
   "source": [
    "var_to_plot = 'THETA'"
   ]
  },
  {
   "cell_type": "code",
   "execution_count": 5,
   "id": "846cfec72b73aaff",
   "metadata": {
    "ExecuteTime": {
     "end_time": "2025-02-25T15:34:07.777034Z",
     "start_time": "2025-02-25T15:34:07.756478Z"
    }
   },
   "outputs": [],
   "source": [
    "with open(os.path.join('config_points.json'), 'r') as file:\n",
    "    config_points = json.load(file)[sta_name]\n",
    "    \n",
    "xc_mitgcm_station = config_points['xc_mitgcm_200m']\n",
    "yc_mitgcm_station = config_points['yc_mitgcm_200m']"
   ]
  },
  {
   "cell_type": "markdown",
   "id": "86e6557f21d17b11",
   "metadata": {
    "collapsed": false,
    "jupyter": {
     "outputs_hidden": false
    }
   },
   "source": [
    "## Import MITgcm results"
   ]
  },
  {
   "cell_type": "code",
   "execution_count": 6,
   "id": "8218bb22c9517e24",
   "metadata": {
    "ExecuteTime": {
     "end_time": "2025-02-25T16:10:24.774701Z",
     "start_time": "2025-02-25T15:34:07.778140Z"
    },
    "collapsed": false,
    "jupyter": {
     "outputs_hidden": false
    }
   },
   "outputs": [],
   "source": [
    "mitgcm_config, ds_to_plot = open_mitgcm_ds_from_config('mitgcm/config.json', model)"
   ]
  },
  {
   "cell_type": "markdown",
   "id": "ff5c3df4c36f13ce",
   "metadata": {
    "collapsed": false,
    "jupyter": {
     "outputs_hidden": false
    }
   },
   "source": [
    "## Import measure"
   ]
  },
  {
   "cell_type": "code",
   "execution_count": 7,
   "id": "888ea936-09ff-44e0-bcf3-56118e6c6b61",
   "metadata": {},
   "outputs": [],
   "source": [
    "#ds_to_plot['time']"
   ]
  },
  {
   "cell_type": "code",
   "execution_count": 8,
   "id": "8f4dcdbb5bb328d3",
   "metadata": {
    "ExecuteTime": {
     "end_time": "2025-02-25T16:10:24.789857Z",
     "start_time": "2025-02-25T16:10:24.775828Z"
    },
    "collapsed": false,
    "jupyter": {
     "outputs_hidden": false
    }
   },
   "outputs": [],
   "source": [
    "start_date = pd.to_datetime(ds_to_plot['time'].values[0]).to_pydatetime()  #datetime(2024, 1, 1, 0, 0, 0)\n",
    "end_date = pd.to_datetime(ds_to_plot['time'].values[-1]).to_pydatetime() #datetime(2025, 1, 1, 0, 0, 0)"
   ]
  },
  {
   "cell_type": "code",
   "execution_count": 9,
   "id": "32db83edb3e25ca0",
   "metadata": {
    "ExecuteTime": {
     "end_time": "2025-02-25T16:10:24.881435Z",
     "start_time": "2025-02-25T16:10:24.790929Z"
    },
    "collapsed": false,
    "jupyter": {
     "outputs_hidden": false
    }
   },
   "outputs": [],
   "source": [
    "#xr_measure = xr.open_dataset(f'./data/datalakes/geneva_idronaut/2024.nc')\n",
    "#xr_measure = xr.open_dataset(f'C:/Users/rasmusso/Documents/ZH/data/measurement kanton/zurich_profile_2024.xlsx')\n",
    "\n",
    "#use xlsx instead of nc\n",
    "df = pd.read_excel('../zurich_profile_2024.xlsx',header=1, engine='openpyxl')"
   ]
  },
  {
   "cell_type": "markdown",
   "id": "a99e278fea30aced",
   "metadata": {
    "collapsed": false,
    "jupyter": {
     "outputs_hidden": false
    }
   },
   "source": [
    "xr_measure = download_data_from_datalakes_dataset(667, start_date.replace(tzinfo=timezone.utc), end_date.replace(tzinfo=timezone.utc), \"idronaut\")"
   ]
  },
  {
   "cell_type": "markdown",
   "id": "306c967d79956e73",
   "metadata": {
    "collapsed": false,
    "jupyter": {
     "outputs_hidden": false
    }
   },
   "source": [
    "## Import simstrat alplakes 1d "
   ]
  },
  {
   "cell_type": "code",
   "execution_count": 10,
   "id": "9a914b0e52035d51",
   "metadata": {
    "ExecuteTime": {
     "end_time": "2025-02-25T16:10:25.127360Z",
     "start_time": "2025-02-25T16:10:24.882494Z"
    },
    "collapsed": false,
    "jupyter": {
     "outputs_hidden": false
    }
   },
   "outputs": [],
   "source": [
    "folder_path = '../simstrat_data'\n",
    "simstrat_data = parse_alplakes_1d_from_directory(folder_path)"
   ]
  },
  {
   "cell_type": "markdown",
   "id": "7ff48e918cbb054c",
   "metadata": {
    "collapsed": false,
    "jupyter": {
     "outputs_hidden": false
    }
   },
   "source": [
    "## Plot timeseries temperature at depth \"depth_simu\""
   ]
  },
  {
   "cell_type": "markdown",
   "id": "dca5e458-8474-4c3e-bb6e-1bf99f914d33",
   "metadata": {},
   "source": [
    "simstrat_data['temperature'].sel(time=date_plot_profil, method='nearest')"
   ]
  },
  {
   "cell_type": "code",
   "execution_count": 11,
   "id": "31d8fecc3ca7c602",
   "metadata": {
    "ExecuteTime": {
     "end_time": "2025-02-25T16:18:01.143475Z",
     "start_time": "2025-02-25T16:10:25.128429Z"
    },
    "collapsed": false,
    "jupyter": {
     "outputs_hidden": false
    },
    "scrolled": true
   },
   "outputs": [
    {
     "ename": "NameError",
     "evalue": "name 'xr_measure' is not defined",
     "output_type": "error",
     "traceback": [
      "\u001b[0;31m---------------------------------------------------------------------------\u001b[0m",
      "\u001b[0;31mNameError\u001b[0m                                 Traceback (most recent call last)",
      "Cell \u001b[0;32mIn[11], line 5\u001b[0m\n\u001b[1;32m      1\u001b[0m depth_plot\u001b[38;5;241m=\u001b[39m\u001b[38;5;241m-\u001b[39m\u001b[38;5;241m1\u001b[39m \u001b[38;5;66;03m# Value should be negative !!\u001b[39;00m\n\u001b[1;32m      3\u001b[0m fig, ax \u001b[38;5;241m=\u001b[39m plt\u001b[38;5;241m.\u001b[39msubplots(\u001b[38;5;241m1\u001b[39m,\u001b[38;5;241m1\u001b[39m,figsize\u001b[38;5;241m=\u001b[39m(\u001b[38;5;241m15\u001b[39m, \u001b[38;5;241m7\u001b[39m))\n\u001b[0;32m----> 5\u001b[0m \u001b[38;5;28;01mif\u001b[39;00m \u001b[43mxr_measure\u001b[49m \u001b[38;5;129;01mis\u001b[39;00m \u001b[38;5;129;01mnot\u001b[39;00m \u001b[38;5;28;01mNone\u001b[39;00m:\n\u001b[1;32m      6\u001b[0m     meas_selected \u001b[38;5;241m=\u001b[39m xr_measure[\u001b[38;5;124m'\u001b[39m\u001b[38;5;124mtemp\u001b[39m\u001b[38;5;124m'\u001b[39m]\u001b[38;5;241m.\u001b[39msel(depth\u001b[38;5;241m=\u001b[39mdepth_plot, method\u001b[38;5;241m=\u001b[39m\u001b[38;5;124m'\u001b[39m\u001b[38;5;124mnearest\u001b[39m\u001b[38;5;124m'\u001b[39m) \u001b[38;5;66;03m#.sel(time=slice(start_date,end_date))\u001b[39;00m\n\u001b[1;32m      7\u001b[0m     meas_selected\u001b[38;5;241m.\u001b[39mplot(label\u001b[38;5;241m=\u001b[39m\u001b[38;5;124mf\u001b[39m\u001b[38;5;124m'\u001b[39m\u001b[38;5;124mMeasure Idronaut\u001b[39m\u001b[38;5;124m'\u001b[39m, color\u001b[38;5;241m=\u001b[39m\u001b[38;5;124m'\u001b[39m\u001b[38;5;124mr\u001b[39m\u001b[38;5;124m'\u001b[39m)\n",
      "\u001b[0;31mNameError\u001b[0m: name 'xr_measure' is not defined"
     ]
    },
    {
     "data": {
      "image/png": "[encoded data removed]",
      "text/plain": [
       "<Figure size 1500x700 with 1 Axes>"
      ]
     },
     "metadata": {},
     "output_type": "display_data"
    }
   ],
   "source": [
    "depth_plot=-1 # Value should be negative !!\n",
    "\n",
    "fig, ax = plt.subplots(1,1,figsize=(15, 7))\n",
    "\n",
    "if xr_measure is not None:\n",
    "    meas_selected = xr_measure['temp'].sel(depth=depth_plot, method='nearest') #.sel(time=slice(start_date,end_date))\n",
    "    meas_selected.plot(label=f'Measure Idronaut', color='r')\n",
    "\n",
    "#simstrat_data['temperature'].sel(depth=-depth_plot, method='nearest').sel(time=slice(start_date,end_date)).plot(label=f'Simstrat 1D', color='g')\n",
    "\n",
    "sim_selected=ds_to_plot[var_to_plot].sel(Z=depth_plot, XC=xc_mitgcm_station, YC=yc_mitgcm_station, method='nearest') #.sel(time=slice(start_date, end_date))\n",
    "sim_selected.plot(label='Simulation MITgcm', color='b')\n",
    "\n",
    "plt.grid(True, which='both', linestyle='-', linewidth=0.5)\n",
    "plt.legend()\n",
    "ax.yaxis.set_major_locator(ticker.MultipleLocator(1))\n",
    "plt.title(f\"Temperature {sta_name} at depth {depth_plot}m\")\n",
    "\n",
    "#plt.savefig(rf\"output_plots\\{lake_name}\\geneva_1year_200m_{depth_plot}m.png\")"
   ]
  },
  {
   "cell_type": "markdown",
   "id": "5303226b4a8da33f",
   "metadata": {
    "collapsed": false,
    "jupyter": {
     "outputs_hidden": false
    }
   },
   "source": [
    "# Profile"
   ]
  },
  {
   "cell_type": "code",
   "execution_count": 19,
   "id": "181cc19aa2447c2f",
   "metadata": {
    "ExecuteTime": {
     "end_time": "2025-02-24T14:40:59.717437Z",
     "start_time": "2025-02-24T14:40:59.714198Z"
    },
    "collapsed": false,
    "jupyter": {
     "outputs_hidden": false
    }
   },
   "outputs": [
    {
     "data": {
      "text/plain": [
       "datetime.datetime(2024, 3, 6, 0, 0)"
      ]
     },
     "execution_count": 19,
     "metadata": {},
     "output_type": "execute_result"
    }
   ],
   "source": [
    "date_plot_profil = datetime(2024,3,6,0,0,0)\n",
    "date_plot_profil_str = date_plot_profil.strftime('%Y%m%d%H%M')\n",
    "date_plot_profil"
   ]
  },
  {
   "cell_type": "code",
   "execution_count": 20,
   "id": "e948b4cec6e8acaa",
   "metadata": {
    "ExecuteTime": {
     "end_time": "2025-02-24T14:40:48.579955Z",
     "start_time": "2025-02-24T14:40:48.562698Z"
    },
    "collapsed": false,
    "jupyter": {
     "outputs_hidden": false
    }
   },
   "outputs": [
    {
     "name": "stdout",
     "output_type": "stream",
     "text": [
      "['03.01.2024', '07.02.2024', '06.03.2024', '03.04.2024', '07.05.2024', '05.06.2024', '03.07.2024', '07.08.2024', '04.09.2024', '09.10.2024', '06.11.2024', '04.12.2024']\n"
     ]
    }
   ],
   "source": [
    "#xr_measure['time'][0]\n",
    "print(df.columns[1:].tolist())"
   ]
  },
  {
   "cell_type": "code",
   "execution_count": 21,
   "id": "c1818a18f3b10ee8",
   "metadata": {
    "ExecuteTime": {
     "end_time": "2025-02-24T14:43:15.037425Z",
     "start_time": "2025-02-24T14:41:02.919907Z"
    },
    "collapsed": false,
    "jupyter": {
     "outputs_hidden": false
    }
   },
   "outputs": [
    {
     "data": {
      "text/plain": [
       "<matplotlib.legend.Legend at 0x7ff0824e3910>"
      ]
     },
     "execution_count": 21,
     "metadata": {},
     "output_type": "execute_result"
    },
    {
     "data": {
      "image/png": "[encoded data removed]",
      "text/plain": [
       "<Figure size 700x1000 with 1 Axes>"
      ]
     },
     "metadata": {},
     "output_type": "display_data"
    }
   ],
   "source": [
    "fig = plt.figure(figsize=(7, 10))\n",
    "\n",
    "#meas_profile = xr_measure['temp'].sel(time=date_plot_profil, method='nearest')\n",
    "#plt.plot(meas_profile.values, meas_profile.depth.values, label=f'Measure Idronaut', color='r')\n",
    "\n",
    "# plot the xlsx format, just change the DATE\n",
    "plt.plot(df['06.03.2024'],-1*df.Depth, label=f'Measures Canton', color='r')\n",
    "# Convert Simstrat depth to negative and plot\n",
    "simstrat_depth_negative = -simstrat_data['depth'].values  # Convert to negative NumPy array\n",
    "simstrat_temperature = simstrat_data['temperature'].sel(time=date_plot_profil, method='nearest')\n",
    "plt.plot(simstrat_temperature.values, simstrat_depth_negative, label='Simstrat 1D', color='g')\n",
    "\n",
    "\n",
    "profile_to_plot = ds_to_plot['THETA'].sel(XC=xc_mitgcm_station, YC=yc_mitgcm_station, time=date_plot_profil, method='nearest')\n",
    "profile_to_plot.where(profile_to_plot != 0, np.nan).plot(y='Z', label='Simulation MITgcm', color='b')\n",
    "\n",
    "plt.title(f\"Temperature profile {sta_name} at time {date_plot_profil}\")\n",
    "plt.grid(True, which='both', linestyle='-', linewidth=0.5)\n",
    "plt.ylabel('Depth (m)')\n",
    "plt.ylim(bottom=-100)\n",
    "plt.xlabel('Temperature (°C)')\n",
    "plt.legend()\n",
    "#plt.savefig(rf\"output_plots\\{lake_name}\\profile_{date_plot_profil.date()} UTC.png\")"
   ]
  },
  {
   "cell_type": "code",
   "execution_count": null,
   "id": "b7f3dc5185ea3b04",
   "metadata": {
    "ExecuteTime": {
     "start_time": "2025-01-14T12:33:07.026127Z"
    },
    "collapsed": false,
    "jupyter": {
     "outputs_hidden": false
    }
   },
   "outputs": [],
   "source": []
  },
  {
   "cell_type": "code",
   "execution_count": null,
   "id": "f34eeff5a647ce56",
   "metadata": {
    "ExecuteTime": {
     "start_time": "2025-01-14T12:33:07.027229Z"
    },
    "collapsed": false,
    "jupyter": {
     "outputs_hidden": false
    }
   },
   "outputs": [],
   "source": []
  }
 ],
 "metadata": {
  "kernelspec": {
   "display_name": "plot_results",
   "language": "python",
   "name": "plot_results"
  },
  "language_info": {
   "codemirror_mode": {
    "name": "ipython",
    "version": 3
   },
   "file_extension": ".py",
   "mimetype": "text/x-python",
   "name": "python",
   "nbconvert_exporter": "python",
   "pygments_lexer": "ipython3",
   "version": "3.10.16"
  }
 },
 "nbformat": 4,
 "nbformat_minor": 5
}
