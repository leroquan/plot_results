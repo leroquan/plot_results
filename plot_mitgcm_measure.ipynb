{
 "cells": [
  {
   "cell_type": "code",
   "execution_count": 1,
   "id": "initial_id",
   "metadata": {
    "ExecuteTime": {
     "end_time": "2025-02-25T15:33:59.300311Z",
     "start_time": "2025-02-25T15:33:49.616294Z"
    }
   },
   "outputs": [],
   "source": [
    "import netCDF4\n",
    "import matplotlib.pyplot as plt\n",
    "import matplotlib.ticker as ticker\n",
    "import json\n",
    "from datetime import datetime, timezone, timedelta\n",
    "import os\n",
    "import glob\n",
    "import numpy as np\n",
    "import pandas as pd\n",
    "import xarray as xr\n",
    "import xmitgcm as xm\n",
    "import time\n",
    "import socket\n",
    "\n",
    "# %matplotlib notebook"
   ]
  },
  {
   "cell_type": "code",
   "execution_count": 2,
   "id": "3942a98c9771493a",
   "metadata": {
    "ExecuteTime": {
     "end_time": "2025-02-25T15:33:59.443172Z",
     "start_time": "2025-02-25T15:33:59.301521Z"
    },
    "collapsed": false,
    "jupyter": {
     "outputs_hidden": false
    }
   },
   "outputs": [],
   "source": [
    "from datalakes import download_data_from_datalakes_dataset\n",
    "from alplakes import parse_alplakes_3d_timeserie_from_directory, get_3d_profile_from_api, open_json, parse_json_3d_profile_to_df, parse_alplakes_1d_from_directory\n",
    "from utils import save_json\n",
    "from mitgcm.utils_mitgcm import open_mitgcm_ds_from_config"
   ]
  },
  {
   "cell_type": "markdown",
   "id": "5763871c26f53ce3",
   "metadata": {
    "collapsed": false,
    "jupyter": {
     "outputs_hidden": false
    }
   },
   "source": [
    "# Comparison between MITgcm results, simstrat results (from Alplakes) and measurements from Datalakes\n",
    "This notebook displays :\n",
    "- the timeserie of the temperature at a given location and depth\n",
    "- the profile of the temperature at a given location and time\n",
    "- the heatmap of the profile at a given location\n",
    "\n",
    "It imports the measure from a netcdf file that can be dowloaded on the datalake platform (https://www.datalakes-eawag.ch/data).\n",
    "It imports local MITgcm simulation results."
   ]
  },
  {
   "cell_type": "code",
   "execution_count": 3,
   "id": "adab63e692a2ef67",
   "metadata": {
    "ExecuteTime": {
     "end_time": "2025-02-25T15:34:07.341562Z",
     "start_time": "2025-02-25T15:33:59.445279Z"
    },
    "collapsed": false,
    "jupyter": {
     "outputs_hidden": false
    }
   },
   "outputs": [],
   "source": [
    "lake_name = \"Zurich\"\n",
    "sta_name = 'lower_zurich'\n",
    "\n",
    "model = 'test_zurich'"
   ]
  },
  {
   "cell_type": "code",
   "execution_count": 4,
   "id": "91610b148f0a4a08",
   "metadata": {
    "ExecuteTime": {
     "end_time": "2025-02-25T15:34:07.746148Z",
     "start_time": "2025-02-25T15:34:07.343662Z"
    },
    "collapsed": false,
    "jupyter": {
     "outputs_hidden": false
    }
   },
   "outputs": [],
   "source": [
    "var_to_plot = 'THETA'"
   ]
  },
  {
   "cell_type": "code",
   "execution_count": 5,
   "id": "846cfec72b73aaff",
   "metadata": {
    "ExecuteTime": {
     "end_time": "2025-02-25T15:34:07.777034Z",
     "start_time": "2025-02-25T15:34:07.756478Z"
    }
   },
   "outputs": [],
   "source": [
    "with open(os.path.join('config_points.json'), 'r') as file:\n",
    "    config_points = json.load(file)[sta_name]\n",
    "    \n",
    "xc_mitgcm_station = config_points['xc_mitgcm_200m']\n",
    "yc_mitgcm_station = config_points['yc_mitgcm_200m']"
   ]
  },
  {
   "cell_type": "markdown",
   "id": "86e6557f21d17b11",
   "metadata": {
    "collapsed": false,
    "jupyter": {
     "outputs_hidden": false
    }
   },
   "source": [
    "## Import MITgcm results"
   ]
  },
  {
   "cell_type": "code",
   "execution_count": 6,
   "id": "8218bb22c9517e24",
   "metadata": {
    "ExecuteTime": {
     "end_time": "2025-02-25T16:10:24.774701Z",
     "start_time": "2025-02-25T15:34:07.778140Z"
    },
    "collapsed": false,
    "jupyter": {
     "outputs_hidden": false
    }
   },
   "outputs": [],
   "source": [
    "mitgcm_config, ds_to_plot = open_mitgcm_ds_from_config('mitgcm/config.json', model)"
   ]
  },
  {
   "cell_type": "markdown",
   "id": "ff5c3df4c36f13ce",
   "metadata": {
    "collapsed": false,
    "jupyter": {
     "outputs_hidden": false
    }
   },
   "source": [
    "## Import measure"
   ]
  },
  {
   "cell_type": "code",
   "execution_count": 7,
   "id": "888ea936-09ff-44e0-bcf3-56118e6c6b61",
   "metadata": {},
   "outputs": [],
   "source": [
    "#ds_to_plot['time']"
   ]
  },
  {
   "cell_type": "code",
   "execution_count": 8,
   "id": "8f4dcdbb5bb328d3",
   "metadata": {
    "ExecuteTime": {
     "end_time": "2025-02-25T16:10:24.789857Z",
     "start_time": "2025-02-25T16:10:24.775828Z"
    },
    "collapsed": false,
    "jupyter": {
     "outputs_hidden": false
    }
   },
   "outputs": [],
   "source": [
    "start_date = pd.to_datetime(ds_to_plot['time'].values[0]).to_pydatetime()  #datetime(2024, 1, 1, 0, 0, 0)\n",
    "end_date = pd.to_datetime(ds_to_plot['time'].values[-1]).to_pydatetime() #datetime(2025, 1, 1, 0, 0, 0)"
   ]
  },
  {
   "cell_type": "code",
   "execution_count": 9,
   "id": "32db83edb3e25ca0",
   "metadata": {
    "ExecuteTime": {
     "end_time": "2025-02-25T16:10:24.881435Z",
     "start_time": "2025-02-25T16:10:24.790929Z"
    },
    "collapsed": false,
    "jupyter": {
     "outputs_hidden": false
    }
   },
   "outputs": [],
   "source": [
    "#xr_measure = xr.open_dataset(f'./data/datalakes/geneva_idronaut/2024.nc')\n",
    "#xr_measure = xr.open_dataset(f'C:/Users/rasmusso/Documents/ZH/data/measurement kanton/zurich_profile_2024.xlsx')\n",
    "\n",
    "#use xlsx instead of nc\n",
    "df = pd.read_excel('../zurich_profile_2024.xlsx',header=1, engine='openpyxl')"
   ]
  },
  {
   "cell_type": "markdown",
   "id": "a99e278fea30aced",
   "metadata": {
    "collapsed": false,
    "jupyter": {
     "outputs_hidden": false
    }
   },
   "source": [
    "xr_measure = download_data_from_datalakes_dataset(667, start_date.replace(tzinfo=timezone.utc), end_date.replace(tzinfo=timezone.utc), \"idronaut\")"
   ]
  },
  {
   "cell_type": "markdown",
   "id": "306c967d79956e73",
   "metadata": {
    "collapsed": false,
    "jupyter": {
     "outputs_hidden": false
    }
   },
   "source": [
    "## Import simstrat alplakes 1d "
   ]
  },
  {
   "cell_type": "code",
   "execution_count": 37,
   "id": "9a914b0e52035d51",
   "metadata": {
    "ExecuteTime": {
     "end_time": "2025-02-25T16:10:25.127360Z",
     "start_time": "2025-02-25T16:10:24.882494Z"
    },
    "collapsed": false,
    "jupyter": {
     "outputs_hidden": false
    }
   },
   "outputs": [
    {
     "data": {
      "text/html": [
       "<div><svg style=\"position: absolute; width: 0; height: 0; overflow: hidden\">\n",
       "<defs>\n",
       "<symbol id=\"icon-database\" viewBox=\"0 0 32 32\">\n",
       "<path d=\"M16 0c-8.837 0-16 2.239-16 5v4c0 2.761 7.163 5 16 5s16-2.239 16-5v-4c0-2.761-7.163-5-16-5z\"></path>\n",
       "<path d=\"M16 17c-8.837 0-16-2.239-16-5v6c0 2.761 7.163 5 16 5s16-2.239 16-5v-6c0 2.761-7.163 5-16 5z\"></path>\n",
       "<path d=\"M16 26c-8.837 0-16-2.239-16-5v6c0 2.761 7.163 5 16 5s16-2.239 16-5v-6c0 2.761-7.163 5-16 5z\"></path>\n",
       "</symbol>\n",
       "<symbol id=\"icon-file-text2\" viewBox=\"0 0 32 32\">\n",
       "<path d=\"M28.681 7.159c-0.694-0.947-1.662-2.053-2.724-3.116s-2.169-2.030-3.116-2.724c-1.612-1.182-2.393-1.319-2.841-1.319h-15.5c-1.378 0-2.5 1.121-2.5 2.5v27c0 1.378 1.122 2.5 2.5 2.5h23c1.378 0 2.5-1.122 2.5-2.5v-19.5c0-0.448-0.137-1.23-1.319-2.841zM24.543 5.457c0.959 0.959 1.712 1.825 2.268 2.543h-4.811v-4.811c0.718 0.556 1.584 1.309 2.543 2.268zM28 29.5c0 0.271-0.229 0.5-0.5 0.5h-23c-0.271 0-0.5-0.229-0.5-0.5v-27c0-0.271 0.229-0.5 0.5-0.5 0 0 15.499-0 15.5 0v7c0 0.552 0.448 1 1 1h7v19.5z\"></path>\n",
       "<path d=\"M23 26h-14c-0.552 0-1-0.448-1-1s0.448-1 1-1h14c0.552 0 1 0.448 1 1s-0.448 1-1 1z\"></path>\n",
       "<path d=\"M23 22h-14c-0.552 0-1-0.448-1-1s0.448-1 1-1h14c0.552 0 1 0.448 1 1s-0.448 1-1 1z\"></path>\n",
       "<path d=\"M23 18h-14c-0.552 0-1-0.448-1-1s0.448-1 1-1h14c0.552 0 1 0.448 1 1s-0.448 1-1 1z\"></path>\n",
       "</symbol>\n",
       "</defs>\n",
       "</svg>\n",
       "<style>/* CSS stylesheet for displaying xarray objects in jupyterlab.\n",
       " *\n",
       " */\n",
       "\n",
       ":root {\n",
       "  --xr-font-color0: var(--jp-content-font-color0, rgba(0, 0, 0, 1));\n",
       "  --xr-font-color2: var(--jp-content-font-color2, rgba(0, 0, 0, 0.54));\n",
       "  --xr-font-color3: var(--jp-content-font-color3, rgba(0, 0, 0, 0.38));\n",
       "  --xr-border-color: var(--jp-border-color2, #e0e0e0);\n",
       "  --xr-disabled-color: var(--jp-layout-color3, #bdbdbd);\n",
       "  --xr-background-color: var(--jp-layout-color0, white);\n",
       "  --xr-background-color-row-even: var(--jp-layout-color1, white);\n",
       "  --xr-background-color-row-odd: var(--jp-layout-color2, #eeeeee);\n",
       "}\n",
       "\n",
       "html[theme=\"dark\"],\n",
       "html[data-theme=\"dark\"],\n",
       "body[data-theme=\"dark\"],\n",
       "body.vscode-dark {\n",
       "  --xr-font-color0: rgba(255, 255, 255, 1);\n",
       "  --xr-font-color2: rgba(255, 255, 255, 0.54);\n",
       "  --xr-font-color3: rgba(255, 255, 255, 0.38);\n",
       "  --xr-border-color: #1f1f1f;\n",
       "  --xr-disabled-color: #515151;\n",
       "  --xr-background-color: #111111;\n",
       "  --xr-background-color-row-even: #111111;\n",
       "  --xr-background-color-row-odd: #313131;\n",
       "}\n",
       "\n",
       ".xr-wrap {\n",
       "  display: block !important;\n",
       "  min-width: 300px;\n",
       "  max-width: 700px;\n",
       "}\n",
       "\n",
       ".xr-text-repr-fallback {\n",
       "  /* fallback to plain text repr when CSS is not injected (untrusted notebook) */\n",
       "  display: none;\n",
       "}\n",
       "\n",
       ".xr-header {\n",
       "  padding-top: 6px;\n",
       "  padding-bottom: 6px;\n",
       "  margin-bottom: 4px;\n",
       "  border-bottom: solid 1px var(--xr-border-color);\n",
       "}\n",
       "\n",
       ".xr-header > div,\n",
       ".xr-header > ul {\n",
       "  display: inline;\n",
       "  margin-top: 0;\n",
       "  margin-bottom: 0;\n",
       "}\n",
       "\n",
       ".xr-obj-type,\n",
       ".xr-array-name {\n",
       "  margin-left: 2px;\n",
       "  margin-right: 10px;\n",
       "}\n",
       "\n",
       ".xr-obj-type {\n",
       "  color: var(--xr-font-color2);\n",
       "}\n",
       "\n",
       ".xr-sections {\n",
       "  padding-left: 0 !important;\n",
       "  display: grid;\n",
       "  grid-template-columns: 150px auto auto 1fr 0 20px 0 20px;\n",
       "}\n",
       "\n",
       ".xr-section-item {\n",
       "  display: contents;\n",
       "}\n",
       "\n",
       ".xr-section-item input {\n",
       "  display: inline-block;\n",
       "  opacity: 0;\n",
       "  height: 0;\n",
       "}\n",
       "\n",
       ".xr-section-item input + label {\n",
       "  color: var(--xr-disabled-color);\n",
       "}\n",
       "\n",
       ".xr-section-item input:enabled + label {\n",
       "  cursor: pointer;\n",
       "  color: var(--xr-font-color2);\n",
       "}\n",
       "\n",
       ".xr-section-item input:focus + label {\n",
       "  border: 2px solid var(--xr-font-color0);\n",
       "}\n",
       "\n",
       ".xr-section-item input:enabled + label:hover {\n",
       "  color: var(--xr-font-color0);\n",
       "}\n",
       "\n",
       ".xr-section-summary {\n",
       "  grid-column: 1;\n",
       "  color: var(--xr-font-color2);\n",
       "  font-weight: 500;\n",
       "}\n",
       "\n",
       ".xr-section-summary > span {\n",
       "  display: inline-block;\n",
       "  padding-left: 0.5em;\n",
       "}\n",
       "\n",
       ".xr-section-summary-in:disabled + label {\n",
       "  color: var(--xr-font-color2);\n",
       "}\n",
       "\n",
       ".xr-section-summary-in + label:before {\n",
       "  display: inline-block;\n",
       "  content: \"►\";\n",
       "  font-size: 11px;\n",
       "  width: 15px;\n",
       "  text-align: center;\n",
       "}\n",
       "\n",
       ".xr-section-summary-in:disabled + label:before {\n",
       "  color: var(--xr-disabled-color);\n",
       "}\n",
       "\n",
       ".xr-section-summary-in:checked + label:before {\n",
       "  content: \"▼\";\n",
       "}\n",
       "\n",
       ".xr-section-summary-in:checked + label > span {\n",
       "  display: none;\n",
       "}\n",
       "\n",
       ".xr-section-summary,\n",
       ".xr-section-inline-details {\n",
       "  padding-top: 4px;\n",
       "  padding-bottom: 4px;\n",
       "}\n",
       "\n",
       ".xr-section-inline-details {\n",
       "  grid-column: 2 / -1;\n",
       "}\n",
       "\n",
       ".xr-section-details {\n",
       "  display: none;\n",
       "  grid-column: 1 / -1;\n",
       "  margin-bottom: 5px;\n",
       "}\n",
       "\n",
       ".xr-section-summary-in:checked ~ .xr-section-details {\n",
       "  display: contents;\n",
       "}\n",
       "\n",
       ".xr-array-wrap {\n",
       "  grid-column: 1 / -1;\n",
       "  display: grid;\n",
       "  grid-template-columns: 20px auto;\n",
       "}\n",
       "\n",
       ".xr-array-wrap > label {\n",
       "  grid-column: 1;\n",
       "  vertical-align: top;\n",
       "}\n",
       "\n",
       ".xr-preview {\n",
       "  color: var(--xr-font-color3);\n",
       "}\n",
       "\n",
       ".xr-array-preview,\n",
       ".xr-array-data {\n",
       "  padding: 0 5px !important;\n",
       "  grid-column: 2;\n",
       "}\n",
       "\n",
       ".xr-array-data,\n",
       ".xr-array-in:checked ~ .xr-array-preview {\n",
       "  display: none;\n",
       "}\n",
       "\n",
       ".xr-array-in:checked ~ .xr-array-data,\n",
       ".xr-array-preview {\n",
       "  display: inline-block;\n",
       "}\n",
       "\n",
       ".xr-dim-list {\n",
       "  display: inline-block !important;\n",
       "  list-style: none;\n",
       "  padding: 0 !important;\n",
       "  margin: 0;\n",
       "}\n",
       "\n",
       ".xr-dim-list li {\n",
       "  display: inline-block;\n",
       "  padding: 0;\n",
       "  margin: 0;\n",
       "}\n",
       "\n",
       ".xr-dim-list:before {\n",
       "  content: \"(\";\n",
       "}\n",
       "\n",
       ".xr-dim-list:after {\n",
       "  content: \")\";\n",
       "}\n",
       "\n",
       ".xr-dim-list li:not(:last-child):after {\n",
       "  content: \",\";\n",
       "  padding-right: 5px;\n",
       "}\n",
       "\n",
       ".xr-has-index {\n",
       "  font-weight: bold;\n",
       "}\n",
       "\n",
       ".xr-var-list,\n",
       ".xr-var-item {\n",
       "  display: contents;\n",
       "}\n",
       "\n",
       ".xr-var-item > div,\n",
       ".xr-var-item label,\n",
       ".xr-var-item > .xr-var-name span {\n",
       "  background-color: var(--xr-background-color-row-even);\n",
       "  margin-bottom: 0;\n",
       "}\n",
       "\n",
       ".xr-var-item > .xr-var-name:hover span {\n",
       "  padding-right: 5px;\n",
       "}\n",
       "\n",
       ".xr-var-list > li:nth-child(odd) > div,\n",
       ".xr-var-list > li:nth-child(odd) > label,\n",
       ".xr-var-list > li:nth-child(odd) > .xr-var-name span {\n",
       "  background-color: var(--xr-background-color-row-odd);\n",
       "}\n",
       "\n",
       ".xr-var-name {\n",
       "  grid-column: 1;\n",
       "}\n",
       "\n",
       ".xr-var-dims {\n",
       "  grid-column: 2;\n",
       "}\n",
       "\n",
       ".xr-var-dtype {\n",
       "  grid-column: 3;\n",
       "  text-align: right;\n",
       "  color: var(--xr-font-color2);\n",
       "}\n",
       "\n",
       ".xr-var-preview {\n",
       "  grid-column: 4;\n",
       "}\n",
       "\n",
       ".xr-index-preview {\n",
       "  grid-column: 2 / 5;\n",
       "  color: var(--xr-font-color2);\n",
       "}\n",
       "\n",
       ".xr-var-name,\n",
       ".xr-var-dims,\n",
       ".xr-var-dtype,\n",
       ".xr-preview,\n",
       ".xr-attrs dt {\n",
       "  white-space: nowrap;\n",
       "  overflow: hidden;\n",
       "  text-overflow: ellipsis;\n",
       "  padding-right: 10px;\n",
       "}\n",
       "\n",
       ".xr-var-name:hover,\n",
       ".xr-var-dims:hover,\n",
       ".xr-var-dtype:hover,\n",
       ".xr-attrs dt:hover {\n",
       "  overflow: visible;\n",
       "  width: auto;\n",
       "  z-index: 1;\n",
       "}\n",
       "\n",
       ".xr-var-attrs,\n",
       ".xr-var-data,\n",
       ".xr-index-data {\n",
       "  display: none;\n",
       "  background-color: var(--xr-background-color) !important;\n",
       "  padding-bottom: 5px !important;\n",
       "}\n",
       "\n",
       ".xr-var-attrs-in:checked ~ .xr-var-attrs,\n",
       ".xr-var-data-in:checked ~ .xr-var-data,\n",
       ".xr-index-data-in:checked ~ .xr-index-data {\n",
       "  display: block;\n",
       "}\n",
       "\n",
       ".xr-var-data > table {\n",
       "  float: right;\n",
       "}\n",
       "\n",
       ".xr-var-name span,\n",
       ".xr-var-data,\n",
       ".xr-index-name div,\n",
       ".xr-index-data,\n",
       ".xr-attrs {\n",
       "  padding-left: 25px !important;\n",
       "}\n",
       "\n",
       ".xr-attrs,\n",
       ".xr-var-attrs,\n",
       ".xr-var-data,\n",
       ".xr-index-data {\n",
       "  grid-column: 1 / -1;\n",
       "}\n",
       "\n",
       "dl.xr-attrs {\n",
       "  padding: 0;\n",
       "  margin: 0;\n",
       "  display: grid;\n",
       "  grid-template-columns: 125px auto;\n",
       "}\n",
       "\n",
       ".xr-attrs dt,\n",
       ".xr-attrs dd {\n",
       "  padding: 0;\n",
       "  margin: 0;\n",
       "  float: left;\n",
       "  padding-right: 10px;\n",
       "  width: auto;\n",
       "}\n",
       "\n",
       ".xr-attrs dt {\n",
       "  font-weight: normal;\n",
       "  grid-column: 1;\n",
       "}\n",
       "\n",
       ".xr-attrs dt:hover span {\n",
       "  display: inline-block;\n",
       "  background: var(--xr-background-color);\n",
       "  padding-right: 10px;\n",
       "}\n",
       "\n",
       ".xr-attrs dd {\n",
       "  grid-column: 2;\n",
       "  white-space: pre-wrap;\n",
       "  word-break: break-all;\n",
       "}\n",
       "\n",
       ".xr-icon-database,\n",
       ".xr-icon-file-text2,\n",
       ".xr-no-icon {\n",
       "  display: inline-block;\n",
       "  vertical-align: middle;\n",
       "  width: 1em;\n",
       "  height: 1.5em !important;\n",
       "  stroke-width: 0;\n",
       "  stroke: currentColor;\n",
       "  fill: currentColor;\n",
       "}\n",
       "</style><pre class='xr-text-repr-fallback'>&lt;xarray.Dataset&gt; Size: 193kB\n",
       "Dimensions:      (depth: 136, time: 175)\n",
       "Coordinates:\n",
       "  * time         (time) datetime64[ns] 1kB 2024-02-15T04:00:02.880000 ... 202...\n",
       "  * depth        (depth) int64 1kB 135 134 133 132 131 130 129 ... 6 5 4 3 2 1 0\n",
       "Data variables:\n",
       "    temperature  (depth, time) float64 190kB 5.844 5.844 5.844 ... 6.391 6.345</pre><div class='xr-wrap' style='display:none'><div class='xr-header'><div class='xr-obj-type'>xarray.Dataset</div></div><ul class='xr-sections'><li class='xr-section-item'><input id='section-88aa8e63-87f3-48e6-98b8-dd0b8266bc93' class='xr-section-summary-in' type='checkbox' disabled ><label for='section-88aa8e63-87f3-48e6-98b8-dd0b8266bc93' class='xr-section-summary'  title='Expand/collapse section'>Dimensions:</label><div class='xr-section-inline-details'><ul class='xr-dim-list'><li><span class='xr-has-index'>depth</span>: 136</li><li><span class='xr-has-index'>time</span>: 175</li></ul></div><div class='xr-section-details'></div></li><li class='xr-section-item'><input id='section-98d163cf-0ee2-42b0-8473-ae9c8d68f17c' class='xr-section-summary-in' type='checkbox'  checked><label for='section-98d163cf-0ee2-42b0-8473-ae9c8d68f17c' class='xr-section-summary' >Coordinates: <span>(2)</span></label><div class='xr-section-inline-details'></div><div class='xr-section-details'><ul class='xr-var-list'><li class='xr-var-item'><div class='xr-var-name'><span class='xr-has-index'>time</span></div><div class='xr-var-dims'>(time)</div><div class='xr-var-dtype'>datetime64[ns]</div><div class='xr-var-preview xr-preview'>2024-02-15T04:00:02.880000 ... 2...</div><input id='attrs-2704cd55-d441-43c6-875a-1403063c017b' class='xr-var-attrs-in' type='checkbox' disabled><label for='attrs-2704cd55-d441-43c6-875a-1403063c017b' title='Show/Hide attributes'><svg class='icon xr-icon-file-text2'><use xlink:href='#icon-file-text2'></use></svg></label><input id='data-764f2353-9cc4-4471-8bd8-c21ebec1cdb1' class='xr-var-data-in' type='checkbox'><label for='data-764f2353-9cc4-4471-8bd8-c21ebec1cdb1' title='Show/Hide data repr'><svg class='icon xr-icon-database'><use xlink:href='#icon-database'></use></svg></label><div class='xr-var-attrs'><dl class='xr-attrs'></dl></div><div class='xr-var-data'><pre>array([&#x27;2024-02-15T04:00:02.880000000&#x27;, &#x27;2024-02-15T07:00:02.880000000&#x27;,\n",
       "       &#x27;2024-02-15T10:00:02.880000000&#x27;, &#x27;2024-02-15T13:00:02.880000000&#x27;,\n",
       "       &#x27;2024-02-15T16:00:02.880000000&#x27;, &#x27;2024-02-15T19:00:02.880000000&#x27;,\n",
       "       &#x27;2024-02-15T22:00:02.880000000&#x27;, &#x27;2024-02-16T01:00:02.880000000&#x27;,\n",
       "       &#x27;2024-02-16T04:00:02.880000000&#x27;, &#x27;2024-02-16T07:00:02.880000000&#x27;,\n",
       "       &#x27;2024-02-16T10:00:02.880000000&#x27;, &#x27;2024-02-16T13:00:02.880000000&#x27;,\n",
       "       &#x27;2024-02-16T16:00:02.880000000&#x27;, &#x27;2024-02-16T19:00:02.880000000&#x27;,\n",
       "       &#x27;2024-02-16T22:00:02.880000000&#x27;, &#x27;2024-02-17T01:00:02.880000000&#x27;,\n",
       "       &#x27;2024-02-17T04:00:02.880000000&#x27;, &#x27;2024-02-17T07:00:02.880000000&#x27;,\n",
       "       &#x27;2024-02-17T10:00:02.880000000&#x27;, &#x27;2024-02-17T13:00:02.880000000&#x27;,\n",
       "       &#x27;2024-02-17T16:00:02.880000000&#x27;, &#x27;2024-02-17T19:00:02.880000000&#x27;,\n",
       "       &#x27;2024-02-17T22:00:02.880000000&#x27;, &#x27;2024-02-18T01:00:02.880000000&#x27;,\n",
       "       &#x27;2024-02-18T04:00:02.880000000&#x27;, &#x27;2024-02-18T07:00:02.880000000&#x27;,\n",
       "       &#x27;2024-02-18T10:00:02.880000000&#x27;, &#x27;2024-02-18T13:00:02.880000000&#x27;,\n",
       "       &#x27;2024-02-18T16:00:02.880000000&#x27;, &#x27;2024-02-18T19:00:02.880000000&#x27;,\n",
       "       &#x27;2024-02-18T22:00:02.880000000&#x27;, &#x27;2024-02-19T01:00:02.880000000&#x27;,\n",
       "       &#x27;2024-02-19T04:00:02.880000000&#x27;, &#x27;2024-02-19T07:00:02.880000000&#x27;,\n",
       "       &#x27;2024-02-19T10:00:02.880000000&#x27;, &#x27;2024-02-19T13:00:02.880000000&#x27;,\n",
       "       &#x27;2024-02-19T16:00:02.880000000&#x27;, &#x27;2024-02-19T19:00:02.880000000&#x27;,\n",
       "       &#x27;2024-02-19T22:00:02.880000000&#x27;, &#x27;2024-02-20T01:00:02.880000000&#x27;,\n",
       "       &#x27;2024-02-20T04:00:02.880000000&#x27;, &#x27;2024-02-20T07:00:02.880000000&#x27;,\n",
       "       &#x27;2024-02-20T10:00:02.880000000&#x27;, &#x27;2024-02-20T13:00:02.880000000&#x27;,\n",
       "       &#x27;2024-02-20T16:00:02.880000000&#x27;, &#x27;2024-02-20T19:00:02.880000000&#x27;,\n",
       "       &#x27;2024-02-20T22:00:02.880000000&#x27;, &#x27;2024-02-21T01:00:02.880000000&#x27;,\n",
       "       &#x27;2024-02-21T04:00:02.880000000&#x27;, &#x27;2024-02-21T07:00:02.880000000&#x27;,\n",
       "       &#x27;2024-02-21T10:00:02.880000000&#x27;, &#x27;2024-02-21T13:00:02.880000000&#x27;,\n",
       "       &#x27;2024-02-21T16:00:02.880000000&#x27;, &#x27;2024-02-21T19:00:02.880000000&#x27;,\n",
       "       &#x27;2024-02-21T22:00:02.880000000&#x27;, &#x27;2024-02-22T01:00:02.880000000&#x27;,\n",
       "       &#x27;2024-02-22T04:00:02.880000000&#x27;, &#x27;2024-02-22T07:00:02.880000000&#x27;,\n",
       "       &#x27;2024-02-22T10:00:02.880000000&#x27;, &#x27;2024-02-22T13:00:02.880000000&#x27;,\n",
       "       &#x27;2024-02-22T16:00:02.880000000&#x27;, &#x27;2024-02-22T19:00:02.880000000&#x27;,\n",
       "       &#x27;2024-02-22T22:00:02.880000000&#x27;, &#x27;2024-02-23T01:00:02.880000000&#x27;,\n",
       "       &#x27;2024-02-23T04:00:02.880000000&#x27;, &#x27;2024-02-23T07:00:02.880000000&#x27;,\n",
       "       &#x27;2024-02-23T10:00:02.880000000&#x27;, &#x27;2024-02-23T13:00:02.880000000&#x27;,\n",
       "       &#x27;2024-02-23T16:00:02.880000000&#x27;, &#x27;2024-02-23T19:00:02.880000000&#x27;,\n",
       "       &#x27;2024-02-23T22:00:02.880000000&#x27;, &#x27;2024-02-24T01:00:02.880000000&#x27;,\n",
       "       &#x27;2024-02-24T04:00:02.880000000&#x27;, &#x27;2024-02-24T07:00:02.880000000&#x27;,\n",
       "       &#x27;2024-02-24T10:00:02.880000000&#x27;, &#x27;2024-02-24T13:00:02.880000000&#x27;,\n",
       "       &#x27;2024-02-24T16:00:02.880000000&#x27;, &#x27;2024-02-24T19:00:02.880000000&#x27;,\n",
       "       &#x27;2024-02-24T22:00:02.880000000&#x27;, &#x27;2024-02-25T01:00:02.880000000&#x27;,\n",
       "       &#x27;2024-02-25T04:00:02.880000000&#x27;, &#x27;2024-02-25T07:00:02.880000000&#x27;,\n",
       "       &#x27;2024-02-25T10:00:02.880000000&#x27;, &#x27;2024-02-25T13:00:02.880000000&#x27;,\n",
       "       &#x27;2024-02-25T16:00:02.880000000&#x27;, &#x27;2024-02-25T19:00:02.880000000&#x27;,\n",
       "       &#x27;2024-02-25T22:00:02.880000000&#x27;, &#x27;2024-02-26T01:00:02.880000000&#x27;,\n",
       "       &#x27;2024-02-26T04:00:02.880000000&#x27;, &#x27;2024-02-26T07:00:02.880000000&#x27;,\n",
       "       &#x27;2024-02-26T10:00:02.880000000&#x27;, &#x27;2024-02-26T13:00:02.880000000&#x27;,\n",
       "       &#x27;2024-02-26T16:00:02.880000000&#x27;, &#x27;2024-02-26T19:00:02.880000000&#x27;,\n",
       "       &#x27;2024-02-26T22:00:02.880000000&#x27;, &#x27;2024-02-27T01:00:02.880000000&#x27;,\n",
       "       &#x27;2024-02-27T04:00:02.880000000&#x27;, &#x27;2024-02-27T07:00:02.880000000&#x27;,\n",
       "       &#x27;2024-02-27T10:00:02.880000000&#x27;, &#x27;2024-02-27T13:00:02.880000000&#x27;,\n",
       "       &#x27;2024-02-27T16:00:02.880000000&#x27;, &#x27;2024-02-27T19:00:02.880000000&#x27;,\n",
       "       &#x27;2024-02-27T22:00:02.880000000&#x27;, &#x27;2024-02-28T01:00:02.880000000&#x27;,\n",
       "       &#x27;2024-02-28T04:00:02.880000000&#x27;, &#x27;2024-02-28T07:00:02.880000000&#x27;,\n",
       "       &#x27;2024-02-28T10:00:02.880000000&#x27;, &#x27;2024-02-28T13:00:02.880000000&#x27;,\n",
       "       &#x27;2024-02-28T16:00:02.880000000&#x27;, &#x27;2024-02-28T19:00:02.880000000&#x27;,\n",
       "       &#x27;2024-02-28T22:00:02.880000000&#x27;, &#x27;2024-02-29T01:00:02.880000000&#x27;,\n",
       "       &#x27;2024-02-29T04:00:02.880000000&#x27;, &#x27;2024-02-29T07:00:02.880000000&#x27;,\n",
       "       &#x27;2024-02-29T10:00:02.880000000&#x27;, &#x27;2024-02-29T13:00:02.880000000&#x27;,\n",
       "       &#x27;2024-02-29T16:00:02.880000000&#x27;, &#x27;2024-02-29T19:00:02.880000000&#x27;,\n",
       "       &#x27;2024-02-29T22:00:02.880000000&#x27;, &#x27;2024-03-01T01:00:02.880000000&#x27;,\n",
       "       &#x27;2024-03-01T04:00:02.880000000&#x27;, &#x27;2024-03-01T07:00:02.880000000&#x27;,\n",
       "       &#x27;2024-03-01T10:00:02.880000000&#x27;, &#x27;2024-03-01T13:00:02.880000000&#x27;,\n",
       "       &#x27;2024-03-01T16:00:02.880000000&#x27;, &#x27;2024-03-01T19:00:02.880000000&#x27;,\n",
       "       &#x27;2024-03-01T22:00:02.880000000&#x27;, &#x27;2024-03-02T01:00:02.880000000&#x27;,\n",
       "       &#x27;2024-03-02T04:00:02.880000000&#x27;, &#x27;2024-03-02T07:00:02.880000000&#x27;,\n",
       "       &#x27;2024-03-02T10:00:02.880000000&#x27;, &#x27;2024-03-02T13:00:02.880000000&#x27;,\n",
       "       &#x27;2024-03-02T16:00:02.880000000&#x27;, &#x27;2024-03-02T19:00:02.880000000&#x27;,\n",
       "       &#x27;2024-03-02T22:00:02.880000000&#x27;, &#x27;2024-03-03T01:00:02.880000000&#x27;,\n",
       "       &#x27;2024-03-03T04:00:02.880000000&#x27;, &#x27;2024-03-03T07:00:02.880000000&#x27;,\n",
       "       &#x27;2024-03-03T10:00:02.880000000&#x27;, &#x27;2024-03-03T13:00:02.880000000&#x27;,\n",
       "       &#x27;2024-03-03T16:00:02.880000000&#x27;, &#x27;2024-03-03T19:00:02.880000000&#x27;,\n",
       "       &#x27;2024-03-03T22:00:02.880000000&#x27;, &#x27;2024-03-04T01:00:02.880000000&#x27;,\n",
       "       &#x27;2024-03-04T04:00:02.880000000&#x27;, &#x27;2024-03-04T07:00:02.880000000&#x27;,\n",
       "       &#x27;2024-03-04T10:00:02.880000000&#x27;, &#x27;2024-03-04T13:00:02.880000000&#x27;,\n",
       "       &#x27;2024-03-04T16:00:02.880000000&#x27;, &#x27;2024-03-04T19:00:02.880000000&#x27;,\n",
       "       &#x27;2024-03-04T22:00:02.880000000&#x27;, &#x27;2024-03-05T01:00:02.880000000&#x27;,\n",
       "       &#x27;2024-03-05T04:00:02.880000000&#x27;, &#x27;2024-03-05T07:00:02.880000000&#x27;,\n",
       "       &#x27;2024-03-05T10:00:02.880000000&#x27;, &#x27;2024-03-05T13:00:02.880000000&#x27;,\n",
       "       &#x27;2024-03-05T16:00:02.880000000&#x27;, &#x27;2024-03-05T19:00:02.880000000&#x27;,\n",
       "       &#x27;2024-03-05T22:00:02.880000000&#x27;, &#x27;2024-03-06T01:00:02.880000000&#x27;,\n",
       "       &#x27;2024-03-06T04:00:02.880000000&#x27;, &#x27;2024-03-06T07:00:02.880000000&#x27;,\n",
       "       &#x27;2024-03-06T10:00:02.880000000&#x27;, &#x27;2024-03-06T13:00:02.880000000&#x27;,\n",
       "       &#x27;2024-03-06T16:00:02.880000000&#x27;, &#x27;2024-03-06T19:00:02.880000000&#x27;,\n",
       "       &#x27;2024-03-06T22:00:02.880000000&#x27;, &#x27;2024-03-07T01:00:02.880000000&#x27;,\n",
       "       &#x27;2024-03-07T04:00:02.880000000&#x27;, &#x27;2024-03-07T07:00:02.880000000&#x27;,\n",
       "       &#x27;2024-03-07T10:00:02.880000000&#x27;, &#x27;2024-03-07T13:00:02.880000000&#x27;,\n",
       "       &#x27;2024-03-07T16:00:02.880000000&#x27;, &#x27;2024-03-07T19:00:02.880000000&#x27;,\n",
       "       &#x27;2024-03-07T22:00:02.880000000&#x27;], dtype=&#x27;datetime64[ns]&#x27;)</pre></div></li><li class='xr-var-item'><div class='xr-var-name'><span class='xr-has-index'>depth</span></div><div class='xr-var-dims'>(depth)</div><div class='xr-var-dtype'>int64</div><div class='xr-var-preview xr-preview'>135 134 133 132 131 ... 4 3 2 1 0</div><input id='attrs-f28326e9-2669-40dd-83f2-d5f409c5e834' class='xr-var-attrs-in' type='checkbox' disabled><label for='attrs-f28326e9-2669-40dd-83f2-d5f409c5e834' title='Show/Hide attributes'><svg class='icon xr-icon-file-text2'><use xlink:href='#icon-file-text2'></use></svg></label><input id='data-842007cc-869a-49bc-97d8-8c0c8878db7c' class='xr-var-data-in' type='checkbox'><label for='data-842007cc-869a-49bc-97d8-8c0c8878db7c' title='Show/Hide data repr'><svg class='icon xr-icon-database'><use xlink:href='#icon-database'></use></svg></label><div class='xr-var-attrs'><dl class='xr-attrs'></dl></div><div class='xr-var-data'><pre>array([135, 134, 133, 132, 131, 130, 129, 128, 127, 126, 125, 124, 123, 122,\n",
       "       121, 120, 119, 118, 117, 116, 115, 114, 113, 112, 111, 110, 109, 108,\n",
       "       107, 106, 105, 104, 103, 102, 101, 100,  99,  98,  97,  96,  95,  94,\n",
       "        93,  92,  91,  90,  89,  88,  87,  86,  85,  84,  83,  82,  81,  80,\n",
       "        79,  78,  77,  76,  75,  74,  73,  72,  71,  70,  69,  68,  67,  66,\n",
       "        65,  64,  63,  62,  61,  60,  59,  58,  57,  56,  55,  54,  53,  52,\n",
       "        51,  50,  49,  48,  47,  46,  45,  44,  43,  42,  41,  40,  39,  38,\n",
       "        37,  36,  35,  34,  33,  32,  31,  30,  29,  28,  27,  26,  25,  24,\n",
       "        23,  22,  21,  20,  19,  18,  17,  16,  15,  14,  13,  12,  11,  10,\n",
       "         9,   8,   7,   6,   5,   4,   3,   2,   1,   0])</pre></div></li></ul></div></li><li class='xr-section-item'><input id='section-4e49ab6f-6214-482b-9e26-e7fcbcf7b20d' class='xr-section-summary-in' type='checkbox'  checked><label for='section-4e49ab6f-6214-482b-9e26-e7fcbcf7b20d' class='xr-section-summary' >Data variables: <span>(1)</span></label><div class='xr-section-inline-details'></div><div class='xr-section-details'><ul class='xr-var-list'><li class='xr-var-item'><div class='xr-var-name'><span>temperature</span></div><div class='xr-var-dims'>(depth, time)</div><div class='xr-var-dtype'>float64</div><div class='xr-var-preview xr-preview'>5.844 5.844 5.844 ... 6.391 6.345</div><input id='attrs-7c6dc643-6dcd-46aa-b1bf-e12b0240cdf8' class='xr-var-attrs-in' type='checkbox' disabled><label for='attrs-7c6dc643-6dcd-46aa-b1bf-e12b0240cdf8' title='Show/Hide attributes'><svg class='icon xr-icon-file-text2'><use xlink:href='#icon-file-text2'></use></svg></label><input id='data-02a7856e-cd66-4f65-afd6-5382b4bd8fad' class='xr-var-data-in' type='checkbox'><label for='data-02a7856e-cd66-4f65-afd6-5382b4bd8fad' title='Show/Hide data repr'><svg class='icon xr-icon-database'><use xlink:href='#icon-database'></use></svg></label><div class='xr-var-attrs'><dl class='xr-attrs'></dl></div><div class='xr-var-data'><pre>array([[5.844, 5.844, 5.844, ..., 5.842, 5.842, 5.842],\n",
       "       [5.844, 5.844, 5.844, ..., 5.842, 5.842, 5.842],\n",
       "       [5.844, 5.844, 5.844, ..., 5.842, 5.842, 5.842],\n",
       "       ...,\n",
       "       [5.946, 5.921, 5.957, ..., 6.454, 6.408, 6.364],\n",
       "       [5.939, 5.914, 5.968, ..., 6.454, 6.402, 6.357],\n",
       "       [5.929, 5.903, 5.985, ..., 6.45 , 6.391, 6.345]])</pre></div></li></ul></div></li><li class='xr-section-item'><input id='section-a4ea8421-263d-458c-ac77-5e2bef42f624' class='xr-section-summary-in' type='checkbox'  ><label for='section-a4ea8421-263d-458c-ac77-5e2bef42f624' class='xr-section-summary' >Indexes: <span>(2)</span></label><div class='xr-section-inline-details'></div><div class='xr-section-details'><ul class='xr-var-list'><li class='xr-var-item'><div class='xr-index-name'><div>time</div></div><div class='xr-index-preview'>PandasIndex</div><input type='checkbox' disabled/><label></label><input id='index-5ca53b2e-cd3f-43d7-a19e-cfcef66f46b8' class='xr-index-data-in' type='checkbox'/><label for='index-5ca53b2e-cd3f-43d7-a19e-cfcef66f46b8' title='Show/Hide index repr'><svg class='icon xr-icon-database'><use xlink:href='#icon-database'></use></svg></label><div class='xr-index-data'><pre>PandasIndex(DatetimeIndex([&#x27;2024-02-15 04:00:02.880000&#x27;, &#x27;2024-02-15 07:00:02.880000&#x27;,\n",
       "               &#x27;2024-02-15 10:00:02.880000&#x27;, &#x27;2024-02-15 13:00:02.880000&#x27;,\n",
       "               &#x27;2024-02-15 16:00:02.880000&#x27;, &#x27;2024-02-15 19:00:02.880000&#x27;,\n",
       "               &#x27;2024-02-15 22:00:02.880000&#x27;, &#x27;2024-02-16 01:00:02.880000&#x27;,\n",
       "               &#x27;2024-02-16 04:00:02.880000&#x27;, &#x27;2024-02-16 07:00:02.880000&#x27;,\n",
       "               ...\n",
       "               &#x27;2024-03-06 19:00:02.880000&#x27;, &#x27;2024-03-06 22:00:02.880000&#x27;,\n",
       "               &#x27;2024-03-07 01:00:02.880000&#x27;, &#x27;2024-03-07 04:00:02.880000&#x27;,\n",
       "               &#x27;2024-03-07 07:00:02.880000&#x27;, &#x27;2024-03-07 10:00:02.880000&#x27;,\n",
       "               &#x27;2024-03-07 13:00:02.880000&#x27;, &#x27;2024-03-07 16:00:02.880000&#x27;,\n",
       "               &#x27;2024-03-07 19:00:02.880000&#x27;, &#x27;2024-03-07 22:00:02.880000&#x27;],\n",
       "              dtype=&#x27;datetime64[ns]&#x27;, name=&#x27;time&#x27;, length=175, freq=None))</pre></div></li><li class='xr-var-item'><div class='xr-index-name'><div>depth</div></div><div class='xr-index-preview'>PandasIndex</div><input type='checkbox' disabled/><label></label><input id='index-98251786-1c31-48ad-9481-e612c55db9b2' class='xr-index-data-in' type='checkbox'/><label for='index-98251786-1c31-48ad-9481-e612c55db9b2' title='Show/Hide index repr'><svg class='icon xr-icon-database'><use xlink:href='#icon-database'></use></svg></label><div class='xr-index-data'><pre>PandasIndex(Index([135, 134, 133, 132, 131, 130, 129, 128, 127, 126,\n",
       "       ...\n",
       "         9,   8,   7,   6,   5,   4,   3,   2,   1,   0],\n",
       "      dtype=&#x27;int64&#x27;, name=&#x27;depth&#x27;, length=136))</pre></div></li></ul></div></li><li class='xr-section-item'><input id='section-d6d13265-0ee5-4940-8b74-a83eefa12006' class='xr-section-summary-in' type='checkbox' disabled ><label for='section-d6d13265-0ee5-4940-8b74-a83eefa12006' class='xr-section-summary'  title='Expand/collapse section'>Attributes: <span>(0)</span></label><div class='xr-section-inline-details'></div><div class='xr-section-details'><dl class='xr-attrs'></dl></div></li></ul></div></div>"
      ],
      "text/plain": [
       "<xarray.Dataset> Size: 193kB\n",
       "Dimensions:      (depth: 136, time: 175)\n",
       "Coordinates:\n",
       "  * time         (time) datetime64[ns] 1kB 2024-02-15T04:00:02.880000 ... 202...\n",
       "  * depth        (depth) int64 1kB 135 134 133 132 131 130 129 ... 6 5 4 3 2 1 0\n",
       "Data variables:\n",
       "    temperature  (depth, time) float64 190kB 5.844 5.844 5.844 ... 6.391 6.345"
      ]
     },
     "execution_count": 37,
     "metadata": {},
     "output_type": "execute_result"
    }
   ],
   "source": [
    "folder_path = '../simstrat_data'\n",
    "simstrat_data = parse_alplakes_1d_from_directory(folder_path)\n",
    "simstrat_data"
   ]
  },
  {
   "cell_type": "markdown",
   "id": "7ff48e918cbb054c",
   "metadata": {
    "collapsed": false,
    "jupyter": {
     "outputs_hidden": false
    }
   },
   "source": [
    "## Plot timeseries temperature at depth \"depth_simu\""
   ]
  },
  {
   "cell_type": "code",
   "execution_count": 43,
   "id": "d09feff9-b7b7-4859-9074-cf997baf6c50",
   "metadata": {},
   "outputs": [],
   "source": [
    "#simstrat_data['temperature'].sel(time=date_plot_profil, method='nearest')"
   ]
  },
  {
   "cell_type": "markdown",
   "id": "2a052ee0-cc92-4141-b736-75daa80c18ea",
   "metadata": {
    "ExecuteTime": {
     "end_time": "2025-02-25T16:18:01.143475Z",
     "start_time": "2025-02-25T16:10:25.128429Z"
    },
    "collapsed": false,
    "jupyter": {
     "outputs_hidden": false
    },
    "scrolled": true
   },
   "source": [
    "depth_plot=-1 # Value should be negative !!\n",
    "\n",
    "fig, ax = plt.subplots(1,1,figsize=(15, 7))\n",
    "\n",
    "if xr_measure is not None:\n",
    "    meas_selected = xr_measure['temp'].sel(depth=depth_plot, method='nearest') #.sel(time=slice(start_date,end_date))\n",
    "    meas_selected.plot(label=f'Measure Idronaut', color='r')\n",
    "\n",
    "#simstrat_data['temperature'].sel(depth=-depth_plot, method='nearest').sel(time=slice(start_date,end_date)).plot(label=f'Simstrat 1D', color='g')\n",
    "\n",
    "sim_selected=ds_to_plot[var_to_plot].sel(Z=depth_plot, XC=xc_mitgcm_station, YC=yc_mitgcm_station, method='nearest') #.sel(time=slice(start_date, end_date))\n",
    "sim_selected.plot(label='Simulation MITgcm', color='b')\n",
    "\n",
    "plt.grid(True, which='both', linestyle='-', linewidth=0.5)\n",
    "plt.legend()\n",
    "ax.yaxis.set_major_locator(ticker.MultipleLocator(1))\n",
    "plt.title(f\"Temperature {sta_name} at depth {depth_plot}m\")\n",
    "\n",
    "#plt.savefig(rf\"output_plots\\{lake_name}\\geneva_1year_200m_{depth_plot}m.png\")"
   ]
  },
  {
   "cell_type": "markdown",
   "id": "5303226b4a8da33f",
   "metadata": {
    "collapsed": false,
    "jupyter": {
     "outputs_hidden": false
    }
   },
   "source": [
    "# Profile"
   ]
  },
  {
   "cell_type": "code",
   "execution_count": 46,
   "id": "181cc19aa2447c2f",
   "metadata": {
    "ExecuteTime": {
     "end_time": "2025-02-24T14:40:59.717437Z",
     "start_time": "2025-02-24T14:40:59.714198Z"
    },
    "collapsed": false,
    "jupyter": {
     "outputs_hidden": false
    }
   },
   "outputs": [
    {
     "name": "stdout",
     "output_type": "stream",
     "text": [
      "['03.01.2024', '07.02.2024', '06.03.2024', '03.04.2024', '07.05.2024', '05.06.2024', '03.07.2024', '07.08.2024', '04.09.2024', '09.10.2024', '06.11.2024', '04.12.2024']\n"
     ]
    },
    {
     "data": {
      "text/plain": [
       "datetime.datetime(2024, 5, 7, 0, 0)"
      ]
     },
     "execution_count": 46,
     "metadata": {},
     "output_type": "execute_result"
    }
   ],
   "source": [
    "print(df.columns[1:].to_list())\n",
    "date_plot_profil = datetime(2024,5,7,0,0,0)\n",
    "date_plot_profil_str = date_plot_profil.strftime('%Y%m%d%H%M')\n",
    "date_plot_profil"
   ]
  },
  {
   "cell_type": "code",
   "execution_count": 47,
   "id": "c1818a18f3b10ee8",
   "metadata": {
    "ExecuteTime": {
     "end_time": "2025-02-24T14:43:15.037425Z",
     "start_time": "2025-02-24T14:41:02.919907Z"
    },
    "collapsed": false,
    "jupyter": {
     "outputs_hidden": false
    }
   },
   "outputs": [
    {
     "data": {
      "image/png": "[encoded data removed]",
      "text/plain": [
       "<Figure size 700x1000 with 1 Axes>"
      ]
     },
     "metadata": {},
     "output_type": "display_data"
    }
   ],
   "source": [
    "fig = plt.figure(figsize=(7, 10))\n",
    "\n",
    "#meas_profile = xr_measure['temp'].sel(time=date_plot_profil, method='nearest')\n",
    "#plt.plot(meas_profile.values, meas_profile.depth.values, label=f'Measure Idronaut', color='r')\n",
    "\n",
    "# plot the xlsx format, just change the DATE\n",
    "plt.plot(df[ '07.05.2024'],-1*df.Depth, label=f'Measures Canton', color='r')\n",
    "# Convert Simstrat depth to negative and plot\n",
    "simstrat_depth_negative = -simstrat_data['depth'].values  # Convert to negative NumPy array\n",
    "simstrat_temperature = simstrat_data['temperature'].sel(time=date_plot_profil, method='nearest')\n",
    "plt.plot(simstrat_temperature.values, simstrat_depth_negative, label='Simstrat 1D', color='g')\n",
    "\n",
    "\n",
    "profile_to_plot = ds_to_plot['THETA'].sel(XC=xc_mitgcm_station, YC=yc_mitgcm_station, time=date_plot_profil, method='nearest')\n",
    "profile_to_plot.where(profile_to_plot != 0, np.nan).plot(y='Z', label='Simulation MITgcm', color='b')\n",
    "\n",
    "plt.title(f\"Temperature profile {sta_name} at time {date_plot_profil}\")\n",
    "plt.grid(True, which='both', linestyle='-', linewidth=0.5)\n",
    "plt.ylabel('Depth (m)')\n",
    "plt.ylim(bottom=-100)\n",
    "plt.xlabel('Temperature (°C)')\n",
    "plt.legend()\n",
    "plt.savefig(rf\"output_plots\\{lake_name}\\profile_{date_plot_profil.date()} UTC.png\")"
   ]
  },
  {
   "cell_type": "code",
   "execution_count": null,
   "id": "b7f3dc5185ea3b04",
   "metadata": {
    "ExecuteTime": {
     "start_time": "2025-01-14T12:33:07.026127Z"
    },
    "collapsed": false,
    "jupyter": {
     "outputs_hidden": false
    }
   },
   "outputs": [],
   "source": []
  },
  {
   "cell_type": "code",
   "execution_count": null,
   "id": "f34eeff5a647ce56",
   "metadata": {
    "ExecuteTime": {
     "start_time": "2025-01-14T12:33:07.027229Z"
    },
    "collapsed": false,
    "jupyter": {
     "outputs_hidden": false
    }
   },
   "outputs": [],
   "source": []
  }
 ],
 "metadata": {
  "kernelspec": {
   "display_name": "plot_results",
   "language": "python",
   "name": "plot_results"
  },
  "language_info": {
   "codemirror_mode": {
    "name": "ipython",
    "version": 3
   },
   "file_extension": ".py",
   "mimetype": "text/x-python",
   "name": "python",
   "nbconvert_exporter": "python",
   "pygments_lexer": "ipython3",
   "version": "3.10.16"
  }
 },
 "nbformat": 4,
 "nbformat_minor": 5
}
