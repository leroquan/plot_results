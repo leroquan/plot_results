{
 "cells": [
  {
   "cell_type": "code",
   "execution_count": 22,
   "id": "3a4be84559193fb",
   "metadata": {
    "ExecuteTime": {
     "end_time": "2024-09-23T13:24:24.883520Z",
     "start_time": "2024-09-23T13:24:24.839801Z"
    },
    "collapsed": false,
    "jupyter": {
     "outputs_hidden": false
    }
   },
   "outputs": [
    {
     "data": {
      "application/javascript": [
       "(function(root) {\n",
       "  function now() {\n",
       "    return new Date();\n",
       "  }\n",
       "\n",
       "  var force = true;\n",
       "  var py_version = '3.3.4'.replace('rc', '-rc.').replace('.dev', '-dev.');\n",
       "  var reloading = false;\n",
       "  var Bokeh = root.Bokeh;\n",
       "\n",
       "  if (typeof (root._bokeh_timeout) === \"undefined\" || force) {\n",
       "    root._bokeh_timeout = Date.now() + 5000;\n",
       "    root._bokeh_failed_load = false;\n",
       "  }\n",
       "\n",
       "  function run_callbacks() {\n",
       "    try {\n",
       "      root._bokeh_onload_callbacks.forEach(function(callback) {\n",
       "        if (callback != null)\n",
       "          callback();\n",
       "      });\n",
       "    } finally {\n",
       "      delete root._bokeh_onload_callbacks;\n",
       "    }\n",
       "    console.debug(\"Bokeh: all callbacks have finished\");\n",
       "  }\n",
       "\n",
       "  function load_libs(css_urls, js_urls, js_modules, js_exports, callback) {\n",
       "    if (css_urls == null) css_urls = [];\n",
       "    if (js_urls == null) js_urls = [];\n",
       "    if (js_modules == null) js_modules = [];\n",
       "    if (js_exports == null) js_exports = {};\n",
       "\n",
       "    root._bokeh_onload_callbacks.push(callback);\n",
       "\n",
       "    if (root._bokeh_is_loading > 0) {\n",
       "      console.debug(\"Bokeh: BokehJS is being loaded, scheduling callback at\", now());\n",
       "      return null;\n",
       "    }\n",
       "    if (js_urls.length === 0 && js_modules.length === 0 && Object.keys(js_exports).length === 0) {\n",
       "      run_callbacks();\n",
       "      return null;\n",
       "    }\n",
       "    if (!reloading) {\n",
       "      console.debug(\"Bokeh: BokehJS not loaded, scheduling load and callback at\", now());\n",
       "    }\n",
       "\n",
       "    function on_load() {\n",
       "      root._bokeh_is_loading--;\n",
       "      if (root._bokeh_is_loading === 0) {\n",
       "        console.debug(\"Bokeh: all BokehJS libraries/stylesheets loaded\");\n",
       "        run_callbacks()\n",
       "      }\n",
       "    }\n",
       "    window._bokeh_on_load = on_load\n",
       "\n",
       "    function on_error() {\n",
       "      console.error(\"failed to load \" + url);\n",
       "    }\n",
       "\n",
       "    var skip = [];\n",
       "    if (window.requirejs) {\n",
       "      window.requirejs.config({'packages': {}, 'paths': {'jspanel': 'https://cdn.jsdelivr.net/npm/jspanel4@4.12.0/dist/jspanel', 'jspanel-modal': 'https://cdn.jsdelivr.net/npm/jspanel4@4.12.0/dist/extensions/modal/jspanel.modal', 'jspanel-tooltip': 'https://cdn.jsdelivr.net/npm/jspanel4@4.12.0/dist/extensions/tooltip/jspanel.tooltip', 'jspanel-hint': 'https://cdn.jsdelivr.net/npm/jspanel4@4.12.0/dist/extensions/hint/jspanel.hint', 'jspanel-layout': 'https://cdn.jsdelivr.net/npm/jspanel4@4.12.0/dist/extensions/layout/jspanel.layout', 'jspanel-contextmenu': 'https://cdn.jsdelivr.net/npm/jspanel4@4.12.0/dist/extensions/contextmenu/jspanel.contextmenu', 'jspanel-dock': 'https://cdn.jsdelivr.net/npm/jspanel4@4.12.0/dist/extensions/dock/jspanel.dock', 'gridstack': 'https://cdn.jsdelivr.net/npm/gridstack@7.2.3/dist/gridstack-all', 'notyf': 'https://cdn.jsdelivr.net/npm/notyf@3/notyf.min'}, 'shim': {'jspanel': {'exports': 'jsPanel'}, 'gridstack': {'exports': 'GridStack'}}});\n",
       "      require([\"jspanel\"], function(jsPanel) {\n",
       "\twindow.jsPanel = jsPanel\n",
       "\ton_load()\n",
       "      })\n",
       "      require([\"jspanel-modal\"], function() {\n",
       "\ton_load()\n",
       "      })\n",
       "      require([\"jspanel-tooltip\"], function() {\n",
       "\ton_load()\n",
       "      })\n",
       "      require([\"jspanel-hint\"], function() {\n",
       "\ton_load()\n",
       "      })\n",
       "      require([\"jspanel-layout\"], function() {\n",
       "\ton_load()\n",
       "      })\n",
       "      require([\"jspanel-contextmenu\"], function() {\n",
       "\ton_load()\n",
       "      })\n",
       "      require([\"jspanel-dock\"], function() {\n",
       "\ton_load()\n",
       "      })\n",
       "      require([\"gridstack\"], function(GridStack) {\n",
       "\twindow.GridStack = GridStack\n",
       "\ton_load()\n",
       "      })\n",
       "      require([\"notyf\"], function() {\n",
       "\ton_load()\n",
       "      })\n",
       "      root._bokeh_is_loading = css_urls.length + 9;\n",
       "    } else {\n",
       "      root._bokeh_is_loading = css_urls.length + js_urls.length + js_modules.length + Object.keys(js_exports).length;\n",
       "    }\n",
       "\n",
       "    var existing_stylesheets = []\n",
       "    var links = document.getElementsByTagName('link')\n",
       "    for (var i = 0; i < links.length; i++) {\n",
       "      var link = links[i]\n",
       "      if (link.href != null) {\n",
       "\texisting_stylesheets.push(link.href)\n",
       "      }\n",
       "    }\n",
       "    for (var i = 0; i < css_urls.length; i++) {\n",
       "      var url = css_urls[i];\n",
       "      if (existing_stylesheets.indexOf(url) !== -1) {\n",
       "\ton_load()\n",
       "\tcontinue;\n",
       "      }\n",
       "      const element = document.createElement(\"link\");\n",
       "      element.onload = on_load;\n",
       "      element.onerror = on_error;\n",
       "      element.rel = \"stylesheet\";\n",
       "      element.type = \"text/css\";\n",
       "      element.href = url;\n",
       "      console.debug(\"Bokeh: injecting link tag for BokehJS stylesheet: \", url);\n",
       "      document.body.appendChild(element);\n",
       "    }    if (((window['jsPanel'] !== undefined) && (!(window['jsPanel'] instanceof HTMLElement))) || window.requirejs) {\n",
       "      var urls = ['https://cdn.holoviz.org/panel/1.3.8/dist/bundled/floatpanel/jspanel4@4.12.0/dist/jspanel.js', 'https://cdn.holoviz.org/panel/1.3.8/dist/bundled/floatpanel/jspanel4@4.12.0/dist/extensions/modal/jspanel.modal.js', 'https://cdn.holoviz.org/panel/1.3.8/dist/bundled/floatpanel/jspanel4@4.12.0/dist/extensions/tooltip/jspanel.tooltip.js', 'https://cdn.holoviz.org/panel/1.3.8/dist/bundled/floatpanel/jspanel4@4.12.0/dist/extensions/hint/jspanel.hint.js', 'https://cdn.holoviz.org/panel/1.3.8/dist/bundled/floatpanel/jspanel4@4.12.0/dist/extensions/layout/jspanel.layout.js', 'https://cdn.holoviz.org/panel/1.3.8/dist/bundled/floatpanel/jspanel4@4.12.0/dist/extensions/contextmenu/jspanel.contextmenu.js', 'https://cdn.holoviz.org/panel/1.3.8/dist/bundled/floatpanel/jspanel4@4.12.0/dist/extensions/dock/jspanel.dock.js'];\n",
       "      for (var i = 0; i < urls.length; i++) {\n",
       "        skip.push(urls[i])\n",
       "      }\n",
       "    }    if (((window['GridStack'] !== undefined) && (!(window['GridStack'] instanceof HTMLElement))) || window.requirejs) {\n",
       "      var urls = ['https://cdn.holoviz.org/panel/1.3.8/dist/bundled/gridstack/gridstack@7.2.3/dist/gridstack-all.js'];\n",
       "      for (var i = 0; i < urls.length; i++) {\n",
       "        skip.push(urls[i])\n",
       "      }\n",
       "    }    if (((window['Notyf'] !== undefined) && (!(window['Notyf'] instanceof HTMLElement))) || window.requirejs) {\n",
       "      var urls = ['https://cdn.holoviz.org/panel/1.3.8/dist/bundled/notificationarea/notyf@3/notyf.min.js'];\n",
       "      for (var i = 0; i < urls.length; i++) {\n",
       "        skip.push(urls[i])\n",
       "      }\n",
       "    }    var existing_scripts = []\n",
       "    var scripts = document.getElementsByTagName('script')\n",
       "    for (var i = 0; i < scripts.length; i++) {\n",
       "      var script = scripts[i]\n",
       "      if (script.src != null) {\n",
       "\texisting_scripts.push(script.src)\n",
       "      }\n",
       "    }\n",
       "    for (var i = 0; i < js_urls.length; i++) {\n",
       "      var url = js_urls[i];\n",
       "      if (skip.indexOf(url) !== -1 || existing_scripts.indexOf(url) !== -1) {\n",
       "\tif (!window.requirejs) {\n",
       "\t  on_load();\n",
       "\t}\n",
       "\tcontinue;\n",
       "      }\n",
       "      var element = document.createElement('script');\n",
       "      element.onload = on_load;\n",
       "      element.onerror = on_error;\n",
       "      element.async = false;\n",
       "      element.src = url;\n",
       "      console.debug(\"Bokeh: injecting script tag for BokehJS library: \", url);\n",
       "      document.head.appendChild(element);\n",
       "    }\n",
       "    for (var i = 0; i < js_modules.length; i++) {\n",
       "      var url = js_modules[i];\n",
       "      if (skip.indexOf(url) !== -1 || existing_scripts.indexOf(url) !== -1) {\n",
       "\tif (!window.requirejs) {\n",
       "\t  on_load();\n",
       "\t}\n",
       "\tcontinue;\n",
       "      }\n",
       "      var element = document.createElement('script');\n",
       "      element.onload = on_load;\n",
       "      element.onerror = on_error;\n",
       "      element.async = false;\n",
       "      element.src = url;\n",
       "      element.type = \"module\";\n",
       "      console.debug(\"Bokeh: injecting script tag for BokehJS library: \", url);\n",
       "      document.head.appendChild(element);\n",
       "    }\n",
       "    for (const name in js_exports) {\n",
       "      var url = js_exports[name];\n",
       "      if (skip.indexOf(url) >= 0 || root[name] != null) {\n",
       "\tif (!window.requirejs) {\n",
       "\t  on_load();\n",
       "\t}\n",
       "\tcontinue;\n",
       "      }\n",
       "      var element = document.createElement('script');\n",
       "      element.onerror = on_error;\n",
       "      element.async = false;\n",
       "      element.type = \"module\";\n",
       "      console.debug(\"Bokeh: injecting script tag for BokehJS library: \", url);\n",
       "      element.textContent = `\n",
       "      import ${name} from \"${url}\"\n",
       "      window.${name} = ${name}\n",
       "      window._bokeh_on_load()\n",
       "      `\n",
       "      document.head.appendChild(element);\n",
       "    }\n",
       "    if (!js_urls.length && !js_modules.length) {\n",
       "      on_load()\n",
       "    }\n",
       "  };\n",
       "\n",
       "  function inject_raw_css(css) {\n",
       "    const element = document.createElement(\"style\");\n",
       "    element.appendChild(document.createTextNode(css));\n",
       "    document.body.appendChild(element);\n",
       "  }\n",
       "\n",
       "  var js_urls = [\"https://cdn.bokeh.org/bokeh/release/bokeh-3.3.4.min.js\", \"https://cdn.bokeh.org/bokeh/release/bokeh-gl-3.3.4.min.js\", \"https://cdn.bokeh.org/bokeh/release/bokeh-widgets-3.3.4.min.js\", \"https://cdn.bokeh.org/bokeh/release/bokeh-tables-3.3.4.min.js\", \"https://cdn.holoviz.org/panel/1.3.8/dist/panel.min.js\"];\n",
       "  var js_modules = [];\n",
       "  var js_exports = {};\n",
       "  var css_urls = [];\n",
       "  var inline_js = [    function(Bokeh) {\n",
       "      Bokeh.set_log_level(\"info\");\n",
       "    },\n",
       "function(Bokeh) {} // ensure no trailing comma for IE\n",
       "  ];\n",
       "\n",
       "  function run_inline_js() {\n",
       "    if ((root.Bokeh !== undefined) || (force === true)) {\n",
       "      for (var i = 0; i < inline_js.length; i++) {\n",
       "\ttry {\n",
       "          inline_js[i].call(root, root.Bokeh);\n",
       "\t} catch(e) {\n",
       "\t  if (!reloading) {\n",
       "\t    throw e;\n",
       "\t  }\n",
       "\t}\n",
       "      }\n",
       "      // Cache old bokeh versions\n",
       "      if (Bokeh != undefined && !reloading) {\n",
       "\tvar NewBokeh = root.Bokeh;\n",
       "\tif (Bokeh.versions === undefined) {\n",
       "\t  Bokeh.versions = new Map();\n",
       "\t}\n",
       "\tif (NewBokeh.version !== Bokeh.version) {\n",
       "\t  Bokeh.versions.set(NewBokeh.version, NewBokeh)\n",
       "\t}\n",
       "\troot.Bokeh = Bokeh;\n",
       "      }} else if (Date.now() < root._bokeh_timeout) {\n",
       "      setTimeout(run_inline_js, 100);\n",
       "    } else if (!root._bokeh_failed_load) {\n",
       "      console.log(\"Bokeh: BokehJS failed to load within specified timeout.\");\n",
       "      root._bokeh_failed_load = true;\n",
       "    }\n",
       "    root._bokeh_is_initializing = false\n",
       "  }\n",
       "\n",
       "  function load_or_wait() {\n",
       "    // Implement a backoff loop that tries to ensure we do not load multiple\n",
       "    // versions of Bokeh and its dependencies at the same time.\n",
       "    // In recent versions we use the root._bokeh_is_initializing flag\n",
       "    // to determine whether there is an ongoing attempt to initialize\n",
       "    // bokeh, however for backward compatibility we also try to ensure\n",
       "    // that we do not start loading a newer (Panel>=1.0 and Bokeh>3) version\n",
       "    // before older versions are fully initialized.\n",
       "    if (root._bokeh_is_initializing && Date.now() > root._bokeh_timeout) {\n",
       "      root._bokeh_is_initializing = false;\n",
       "      root._bokeh_onload_callbacks = undefined;\n",
       "      console.log(\"Bokeh: BokehJS was loaded multiple times but one version failed to initialize.\");\n",
       "      load_or_wait();\n",
       "    } else if (root._bokeh_is_initializing || (typeof root._bokeh_is_initializing === \"undefined\" && root._bokeh_onload_callbacks !== undefined)) {\n",
       "      setTimeout(load_or_wait, 100);\n",
       "    } else {\n",
       "      root._bokeh_is_initializing = true\n",
       "      root._bokeh_onload_callbacks = []\n",
       "      var bokeh_loaded = Bokeh != null && (Bokeh.version === py_version || (Bokeh.versions !== undefined && Bokeh.versions.has(py_version)));\n",
       "      if (!reloading && !bokeh_loaded) {\n",
       "\troot.Bokeh = undefined;\n",
       "      }\n",
       "      load_libs(css_urls, js_urls, js_modules, js_exports, function() {\n",
       "\tconsole.debug(\"Bokeh: BokehJS plotting callback run at\", now());\n",
       "\trun_inline_js();\n",
       "      });\n",
       "    }\n",
       "  }\n",
       "  // Give older versions of the autoload script a head-start to ensure\n",
       "  // they initialize before we start loading newer version.\n",
       "  setTimeout(load_or_wait, 100)\n",
       "}(window));"
      ],
      "application/vnd.holoviews_load.v0+json": "(function(root) {\n  function now() {\n    return new Date();\n  }\n\n  var force = true;\n  var py_version = '3.3.4'.replace('rc', '-rc.').replace('.dev', '-dev.');\n  var reloading = false;\n  var Bokeh = root.Bokeh;\n\n  if (typeof (root._bokeh_timeout) === \"undefined\" || force) {\n    root._bokeh_timeout = Date.now() + 5000;\n    root._bokeh_failed_load = false;\n  }\n\n  function run_callbacks() {\n    try {\n      root._bokeh_onload_callbacks.forEach(function(callback) {\n        if (callback != null)\n          callback();\n      });\n    } finally {\n      delete root._bokeh_onload_callbacks;\n    }\n    console.debug(\"Bokeh: all callbacks have finished\");\n  }\n\n  function load_libs(css_urls, js_urls, js_modules, js_exports, callback) {\n    if (css_urls == null) css_urls = [];\n    if (js_urls == null) js_urls = [];\n    if (js_modules == null) js_modules = [];\n    if (js_exports == null) js_exports = {};\n\n    root._bokeh_onload_callbacks.push(callback);\n\n    if (root._bokeh_is_loading > 0) {\n      console.debug(\"Bokeh: BokehJS is being loaded, scheduling callback at\", now());\n      return null;\n    }\n    if (js_urls.length === 0 && js_modules.length === 0 && Object.keys(js_exports).length === 0) {\n      run_callbacks();\n      return null;\n    }\n    if (!reloading) {\n      console.debug(\"Bokeh: BokehJS not loaded, scheduling load and callback at\", now());\n    }\n\n    function on_load() {\n      root._bokeh_is_loading--;\n      if (root._bokeh_is_loading === 0) {\n        console.debug(\"Bokeh: all BokehJS libraries/stylesheets loaded\");\n        run_callbacks()\n      }\n    }\n    window._bokeh_on_load = on_load\n\n    function on_error() {\n      console.error(\"failed to load \" + url);\n    }\n\n    var skip = [];\n    if (window.requirejs) {\n      window.requirejs.config({'packages': {}, 'paths': {'jspanel': 'https://cdn.jsdelivr.net/npm/jspanel4@4.12.0/dist/jspanel', 'jspanel-modal': 'https://cdn.jsdelivr.net/npm/jspanel4@4.12.0/dist/extensions/modal/jspanel.modal', 'jspanel-tooltip': 'https://cdn.jsdelivr.net/npm/jspanel4@4.12.0/dist/extensions/tooltip/jspanel.tooltip', 'jspanel-hint': 'https://cdn.jsdelivr.net/npm/jspanel4@4.12.0/dist/extensions/hint/jspanel.hint', 'jspanel-layout': 'https://cdn.jsdelivr.net/npm/jspanel4@4.12.0/dist/extensions/layout/jspanel.layout', 'jspanel-contextmenu': 'https://cdn.jsdelivr.net/npm/jspanel4@4.12.0/dist/extensions/contextmenu/jspanel.contextmenu', 'jspanel-dock': 'https://cdn.jsdelivr.net/npm/jspanel4@4.12.0/dist/extensions/dock/jspanel.dock', 'gridstack': 'https://cdn.jsdelivr.net/npm/gridstack@7.2.3/dist/gridstack-all', 'notyf': 'https://cdn.jsdelivr.net/npm/notyf@3/notyf.min'}, 'shim': {'jspanel': {'exports': 'jsPanel'}, 'gridstack': {'exports': 'GridStack'}}});\n      require([\"jspanel\"], function(jsPanel) {\n\twindow.jsPanel = jsPanel\n\ton_load()\n      })\n      require([\"jspanel-modal\"], function() {\n\ton_load()\n      })\n      require([\"jspanel-tooltip\"], function() {\n\ton_load()\n      })\n      require([\"jspanel-hint\"], function() {\n\ton_load()\n      })\n      require([\"jspanel-layout\"], function() {\n\ton_load()\n      })\n      require([\"jspanel-contextmenu\"], function() {\n\ton_load()\n      })\n      require([\"jspanel-dock\"], function() {\n\ton_load()\n      })\n      require([\"gridstack\"], function(GridStack) {\n\twindow.GridStack = GridStack\n\ton_load()\n      })\n      require([\"notyf\"], function() {\n\ton_load()\n      })\n      root._bokeh_is_loading = css_urls.length + 9;\n    } else {\n      root._bokeh_is_loading = css_urls.length + js_urls.length + js_modules.length + Object.keys(js_exports).length;\n    }\n\n    var existing_stylesheets = []\n    var links = document.getElementsByTagName('link')\n    for (var i = 0; i < links.length; i++) {\n      var link = links[i]\n      if (link.href != null) {\n\texisting_stylesheets.push(link.href)\n      }\n    }\n    for (var i = 0; i < css_urls.length; i++) {\n      var url = css_urls[i];\n      if (existing_stylesheets.indexOf(url) !== -1) {\n\ton_load()\n\tcontinue;\n      }\n      const element = document.createElement(\"link\");\n      element.onload = on_load;\n      element.onerror = on_error;\n      element.rel = \"stylesheet\";\n      element.type = \"text/css\";\n      element.href = url;\n      console.debug(\"Bokeh: injecting link tag for BokehJS stylesheet: \", url);\n      document.body.appendChild(element);\n    }    if (((window['jsPanel'] !== undefined) && (!(window['jsPanel'] instanceof HTMLElement))) || window.requirejs) {\n      var urls = ['https://cdn.holoviz.org/panel/1.3.8/dist/bundled/floatpanel/jspanel4@4.12.0/dist/jspanel.js', 'https://cdn.holoviz.org/panel/1.3.8/dist/bundled/floatpanel/jspanel4@4.12.0/dist/extensions/modal/jspanel.modal.js', 'https://cdn.holoviz.org/panel/1.3.8/dist/bundled/floatpanel/jspanel4@4.12.0/dist/extensions/tooltip/jspanel.tooltip.js', 'https://cdn.holoviz.org/panel/1.3.8/dist/bundled/floatpanel/jspanel4@4.12.0/dist/extensions/hint/jspanel.hint.js', 'https://cdn.holoviz.org/panel/1.3.8/dist/bundled/floatpanel/jspanel4@4.12.0/dist/extensions/layout/jspanel.layout.js', 'https://cdn.holoviz.org/panel/1.3.8/dist/bundled/floatpanel/jspanel4@4.12.0/dist/extensions/contextmenu/jspanel.contextmenu.js', 'https://cdn.holoviz.org/panel/1.3.8/dist/bundled/floatpanel/jspanel4@4.12.0/dist/extensions/dock/jspanel.dock.js'];\n      for (var i = 0; i < urls.length; i++) {\n        skip.push(urls[i])\n      }\n    }    if (((window['GridStack'] !== undefined) && (!(window['GridStack'] instanceof HTMLElement))) || window.requirejs) {\n      var urls = ['https://cdn.holoviz.org/panel/1.3.8/dist/bundled/gridstack/gridstack@7.2.3/dist/gridstack-all.js'];\n      for (var i = 0; i < urls.length; i++) {\n        skip.push(urls[i])\n      }\n    }    if (((window['Notyf'] !== undefined) && (!(window['Notyf'] instanceof HTMLElement))) || window.requirejs) {\n      var urls = ['https://cdn.holoviz.org/panel/1.3.8/dist/bundled/notificationarea/notyf@3/notyf.min.js'];\n      for (var i = 0; i < urls.length; i++) {\n        skip.push(urls[i])\n      }\n    }    var existing_scripts = []\n    var scripts = document.getElementsByTagName('script')\n    for (var i = 0; i < scripts.length; i++) {\n      var script = scripts[i]\n      if (script.src != null) {\n\texisting_scripts.push(script.src)\n      }\n    }\n    for (var i = 0; i < js_urls.length; i++) {\n      var url = js_urls[i];\n      if (skip.indexOf(url) !== -1 || existing_scripts.indexOf(url) !== -1) {\n\tif (!window.requirejs) {\n\t  on_load();\n\t}\n\tcontinue;\n      }\n      var element = document.createElement('script');\n      element.onload = on_load;\n      element.onerror = on_error;\n      element.async = false;\n      element.src = url;\n      console.debug(\"Bokeh: injecting script tag for BokehJS library: \", url);\n      document.head.appendChild(element);\n    }\n    for (var i = 0; i < js_modules.length; i++) {\n      var url = js_modules[i];\n      if (skip.indexOf(url) !== -1 || existing_scripts.indexOf(url) !== -1) {\n\tif (!window.requirejs) {\n\t  on_load();\n\t}\n\tcontinue;\n      }\n      var element = document.createElement('script');\n      element.onload = on_load;\n      element.onerror = on_error;\n      element.async = false;\n      element.src = url;\n      element.type = \"module\";\n      console.debug(\"Bokeh: injecting script tag for BokehJS library: \", url);\n      document.head.appendChild(element);\n    }\n    for (const name in js_exports) {\n      var url = js_exports[name];\n      if (skip.indexOf(url) >= 0 || root[name] != null) {\n\tif (!window.requirejs) {\n\t  on_load();\n\t}\n\tcontinue;\n      }\n      var element = document.createElement('script');\n      element.onerror = on_error;\n      element.async = false;\n      element.type = \"module\";\n      console.debug(\"Bokeh: injecting script tag for BokehJS library: \", url);\n      element.textContent = `\n      import ${name} from \"${url}\"\n      window.${name} = ${name}\n      window._bokeh_on_load()\n      `\n      document.head.appendChild(element);\n    }\n    if (!js_urls.length && !js_modules.length) {\n      on_load()\n    }\n  };\n\n  function inject_raw_css(css) {\n    const element = document.createElement(\"style\");\n    element.appendChild(document.createTextNode(css));\n    document.body.appendChild(element);\n  }\n\n  var js_urls = [\"https://cdn.bokeh.org/bokeh/release/bokeh-3.3.4.min.js\", \"https://cdn.bokeh.org/bokeh/release/bokeh-gl-3.3.4.min.js\", \"https://cdn.bokeh.org/bokeh/release/bokeh-widgets-3.3.4.min.js\", \"https://cdn.bokeh.org/bokeh/release/bokeh-tables-3.3.4.min.js\", \"https://cdn.holoviz.org/panel/1.3.8/dist/panel.min.js\"];\n  var js_modules = [];\n  var js_exports = {};\n  var css_urls = [];\n  var inline_js = [    function(Bokeh) {\n      Bokeh.set_log_level(\"info\");\n    },\nfunction(Bokeh) {} // ensure no trailing comma for IE\n  ];\n\n  function run_inline_js() {\n    if ((root.Bokeh !== undefined) || (force === true)) {\n      for (var i = 0; i < inline_js.length; i++) {\n\ttry {\n          inline_js[i].call(root, root.Bokeh);\n\t} catch(e) {\n\t  if (!reloading) {\n\t    throw e;\n\t  }\n\t}\n      }\n      // Cache old bokeh versions\n      if (Bokeh != undefined && !reloading) {\n\tvar NewBokeh = root.Bokeh;\n\tif (Bokeh.versions === undefined) {\n\t  Bokeh.versions = new Map();\n\t}\n\tif (NewBokeh.version !== Bokeh.version) {\n\t  Bokeh.versions.set(NewBokeh.version, NewBokeh)\n\t}\n\troot.Bokeh = Bokeh;\n      }} else if (Date.now() < root._bokeh_timeout) {\n      setTimeout(run_inline_js, 100);\n    } else if (!root._bokeh_failed_load) {\n      console.log(\"Bokeh: BokehJS failed to load within specified timeout.\");\n      root._bokeh_failed_load = true;\n    }\n    root._bokeh_is_initializing = false\n  }\n\n  function load_or_wait() {\n    // Implement a backoff loop that tries to ensure we do not load multiple\n    // versions of Bokeh and its dependencies at the same time.\n    // In recent versions we use the root._bokeh_is_initializing flag\n    // to determine whether there is an ongoing attempt to initialize\n    // bokeh, however for backward compatibility we also try to ensure\n    // that we do not start loading a newer (Panel>=1.0 and Bokeh>3) version\n    // before older versions are fully initialized.\n    if (root._bokeh_is_initializing && Date.now() > root._bokeh_timeout) {\n      root._bokeh_is_initializing = false;\n      root._bokeh_onload_callbacks = undefined;\n      console.log(\"Bokeh: BokehJS was loaded multiple times but one version failed to initialize.\");\n      load_or_wait();\n    } else if (root._bokeh_is_initializing || (typeof root._bokeh_is_initializing === \"undefined\" && root._bokeh_onload_callbacks !== undefined)) {\n      setTimeout(load_or_wait, 100);\n    } else {\n      root._bokeh_is_initializing = true\n      root._bokeh_onload_callbacks = []\n      var bokeh_loaded = Bokeh != null && (Bokeh.version === py_version || (Bokeh.versions !== undefined && Bokeh.versions.has(py_version)));\n      if (!reloading && !bokeh_loaded) {\n\troot.Bokeh = undefined;\n      }\n      load_libs(css_urls, js_urls, js_modules, js_exports, function() {\n\tconsole.debug(\"Bokeh: BokehJS plotting callback run at\", now());\n\trun_inline_js();\n      });\n    }\n  }\n  // Give older versions of the autoload script a head-start to ensure\n  // they initialize before we start loading newer version.\n  setTimeout(load_or_wait, 100)\n}(window));"
     },
     "metadata": {},
     "output_type": "display_data"
    },
    {
     "data": {
      "application/javascript": [
       "\n",
       "if ((window.PyViz === undefined) || (window.PyViz instanceof HTMLElement)) {\n",
       "  window.PyViz = {comms: {}, comm_status:{}, kernels:{}, receivers: {}, plot_index: []}\n",
       "}\n",
       "\n",
       "\n",
       "    function JupyterCommManager() {\n",
       "    }\n",
       "\n",
       "    JupyterCommManager.prototype.register_target = function(plot_id, comm_id, msg_handler) {\n",
       "      if (window.comm_manager || ((window.Jupyter !== undefined) && (Jupyter.notebook.kernel != null))) {\n",
       "        var comm_manager = window.comm_manager || Jupyter.notebook.kernel.comm_manager;\n",
       "        comm_manager.register_target(comm_id, function(comm) {\n",
       "          comm.on_msg(msg_handler);\n",
       "        });\n",
       "      } else if ((plot_id in window.PyViz.kernels) && (window.PyViz.kernels[plot_id])) {\n",
       "        window.PyViz.kernels[plot_id].registerCommTarget(comm_id, function(comm) {\n",
       "          comm.onMsg = msg_handler;\n",
       "        });\n",
       "      } else if (typeof google != 'undefined' && google.colab.kernel != null) {\n",
       "        google.colab.kernel.comms.registerTarget(comm_id, (comm) => {\n",
       "          var messages = comm.messages[Symbol.asyncIterator]();\n",
       "          function processIteratorResult(result) {\n",
       "            var message = result.value;\n",
       "            console.log(message)\n",
       "            var content = {data: message.data, comm_id};\n",
       "            var buffers = []\n",
       "            for (var buffer of message.buffers || []) {\n",
       "              buffers.push(new DataView(buffer))\n",
       "            }\n",
       "            var metadata = message.metadata || {};\n",
       "            var msg = {content, buffers, metadata}\n",
       "            msg_handler(msg);\n",
       "            return messages.next().then(processIteratorResult);\n",
       "          }\n",
       "          return messages.next().then(processIteratorResult);\n",
       "        })\n",
       "      }\n",
       "    }\n",
       "\n",
       "    JupyterCommManager.prototype.get_client_comm = function(plot_id, comm_id, msg_handler) {\n",
       "      if (comm_id in window.PyViz.comms) {\n",
       "        return window.PyViz.comms[comm_id];\n",
       "      } else if (window.comm_manager || ((window.Jupyter !== undefined) && (Jupyter.notebook.kernel != null))) {\n",
       "        var comm_manager = window.comm_manager || Jupyter.notebook.kernel.comm_manager;\n",
       "        var comm = comm_manager.new_comm(comm_id, {}, {}, {}, comm_id);\n",
       "        if (msg_handler) {\n",
       "          comm.on_msg(msg_handler);\n",
       "        }\n",
       "      } else if ((plot_id in window.PyViz.kernels) && (window.PyViz.kernels[plot_id])) {\n",
       "        var comm = window.PyViz.kernels[plot_id].connectToComm(comm_id);\n",
       "        comm.open();\n",
       "        if (msg_handler) {\n",
       "          comm.onMsg = msg_handler;\n",
       "        }\n",
       "      } else if (typeof google != 'undefined' && google.colab.kernel != null) {\n",
       "        var comm_promise = google.colab.kernel.comms.open(comm_id)\n",
       "        comm_promise.then((comm) => {\n",
       "          window.PyViz.comms[comm_id] = comm;\n",
       "          if (msg_handler) {\n",
       "            var messages = comm.messages[Symbol.asyncIterator]();\n",
       "            function processIteratorResult(result) {\n",
       "              var message = result.value;\n",
       "              var content = {data: message.data};\n",
       "              var metadata = message.metadata || {comm_id};\n",
       "              var msg = {content, metadata}\n",
       "              msg_handler(msg);\n",
       "              return messages.next().then(processIteratorResult);\n",
       "            }\n",
       "            return messages.next().then(processIteratorResult);\n",
       "          }\n",
       "        }) \n",
       "        var sendClosure = (data, metadata, buffers, disposeOnDone) => {\n",
       "          return comm_promise.then((comm) => {\n",
       "            comm.send(data, metadata, buffers, disposeOnDone);\n",
       "          });\n",
       "        };\n",
       "        var comm = {\n",
       "          send: sendClosure\n",
       "        };\n",
       "      }\n",
       "      window.PyViz.comms[comm_id] = comm;\n",
       "      return comm;\n",
       "    }\n",
       "    window.PyViz.comm_manager = new JupyterCommManager();\n",
       "    \n",
       "\n",
       "\n",
       "var JS_MIME_TYPE = 'application/javascript';\n",
       "var HTML_MIME_TYPE = 'text/html';\n",
       "var EXEC_MIME_TYPE = 'application/vnd.holoviews_exec.v0+json';\n",
       "var CLASS_NAME = 'output';\n",
       "\n",
       "/**\n",
       " * Render data to the DOM node\n",
       " */\n",
       "function render(props, node) {\n",
       "  var div = document.createElement(\"div\");\n",
       "  var script = document.createElement(\"script\");\n",
       "  node.appendChild(div);\n",
       "  node.appendChild(script);\n",
       "}\n",
       "\n",
       "/**\n",
       " * Handle when a new output is added\n",
       " */\n",
       "function handle_add_output(event, handle) {\n",
       "  var output_area = handle.output_area;\n",
       "  var output = handle.output;\n",
       "  if ((output.data == undefined) || (!output.data.hasOwnProperty(EXEC_MIME_TYPE))) {\n",
       "    return\n",
       "  }\n",
       "  var id = output.metadata[EXEC_MIME_TYPE][\"id\"];\n",
       "  var toinsert = output_area.element.find(\".\" + CLASS_NAME.split(' ')[0]);\n",
       "  if (id !== undefined) {\n",
       "    var nchildren = toinsert.length;\n",
       "    var html_node = toinsert[nchildren-1].children[0];\n",
       "    html_node.innerHTML = output.data[HTML_MIME_TYPE];\n",
       "    var scripts = [];\n",
       "    var nodelist = html_node.querySelectorAll(\"script\");\n",
       "    for (var i in nodelist) {\n",
       "      if (nodelist.hasOwnProperty(i)) {\n",
       "        scripts.push(nodelist[i])\n",
       "      }\n",
       "    }\n",
       "\n",
       "    scripts.forEach( function (oldScript) {\n",
       "      var newScript = document.createElement(\"script\");\n",
       "      var attrs = [];\n",
       "      var nodemap = oldScript.attributes;\n",
       "      for (var j in nodemap) {\n",
       "        if (nodemap.hasOwnProperty(j)) {\n",
       "          attrs.push(nodemap[j])\n",
       "        }\n",
       "      }\n",
       "      attrs.forEach(function(attr) { newScript.setAttribute(attr.name, attr.value) });\n",
       "      newScript.appendChild(document.createTextNode(oldScript.innerHTML));\n",
       "      oldScript.parentNode.replaceChild(newScript, oldScript);\n",
       "    });\n",
       "    if (JS_MIME_TYPE in output.data) {\n",
       "      toinsert[nchildren-1].children[1].textContent = output.data[JS_MIME_TYPE];\n",
       "    }\n",
       "    output_area._hv_plot_id = id;\n",
       "    if ((window.Bokeh !== undefined) && (id in Bokeh.index)) {\n",
       "      window.PyViz.plot_index[id] = Bokeh.index[id];\n",
       "    } else {\n",
       "      window.PyViz.plot_index[id] = null;\n",
       "    }\n",
       "  } else if (output.metadata[EXEC_MIME_TYPE][\"server_id\"] !== undefined) {\n",
       "    var bk_div = document.createElement(\"div\");\n",
       "    bk_div.innerHTML = output.data[HTML_MIME_TYPE];\n",
       "    var script_attrs = bk_div.children[0].attributes;\n",
       "    for (var i = 0; i < script_attrs.length; i++) {\n",
       "      toinsert[toinsert.length - 1].childNodes[1].setAttribute(script_attrs[i].name, script_attrs[i].value);\n",
       "    }\n",
       "    // store reference to server id on output_area\n",
       "    output_area._bokeh_server_id = output.metadata[EXEC_MIME_TYPE][\"server_id\"];\n",
       "  }\n",
       "}\n",
       "\n",
       "/**\n",
       " * Handle when an output is cleared or removed\n",
       " */\n",
       "function handle_clear_output(event, handle) {\n",
       "  var id = handle.cell.output_area._hv_plot_id;\n",
       "  var server_id = handle.cell.output_area._bokeh_server_id;\n",
       "  if (((id === undefined) || !(id in PyViz.plot_index)) && (server_id !== undefined)) { return; }\n",
       "  var comm = window.PyViz.comm_manager.get_client_comm(\"hv-extension-comm\", \"hv-extension-comm\", function () {});\n",
       "  if (server_id !== null) {\n",
       "    comm.send({event_type: 'server_delete', 'id': server_id});\n",
       "    return;\n",
       "  } else if (comm !== null) {\n",
       "    comm.send({event_type: 'delete', 'id': id});\n",
       "  }\n",
       "  delete PyViz.plot_index[id];\n",
       "  if ((window.Bokeh !== undefined) & (id in window.Bokeh.index)) {\n",
       "    var doc = window.Bokeh.index[id].model.document\n",
       "    doc.clear();\n",
       "    const i = window.Bokeh.documents.indexOf(doc);\n",
       "    if (i > -1) {\n",
       "      window.Bokeh.documents.splice(i, 1);\n",
       "    }\n",
       "  }\n",
       "}\n",
       "\n",
       "/**\n",
       " * Handle kernel restart event\n",
       " */\n",
       "function handle_kernel_cleanup(event, handle) {\n",
       "  delete PyViz.comms[\"hv-extension-comm\"];\n",
       "  window.PyViz.plot_index = {}\n",
       "}\n",
       "\n",
       "/**\n",
       " * Handle update_display_data messages\n",
       " */\n",
       "function handle_update_output(event, handle) {\n",
       "  handle_clear_output(event, {cell: {output_area: handle.output_area}})\n",
       "  handle_add_output(event, handle)\n",
       "}\n",
       "\n",
       "function register_renderer(events, OutputArea) {\n",
       "  function append_mime(data, metadata, element) {\n",
       "    // create a DOM node to render to\n",
       "    var toinsert = this.create_output_subarea(\n",
       "    metadata,\n",
       "    CLASS_NAME,\n",
       "    EXEC_MIME_TYPE\n",
       "    );\n",
       "    this.keyboard_manager.register_events(toinsert);\n",
       "    // Render to node\n",
       "    var props = {data: data, metadata: metadata[EXEC_MIME_TYPE]};\n",
       "    render(props, toinsert[0]);\n",
       "    element.append(toinsert);\n",
       "    return toinsert\n",
       "  }\n",
       "\n",
       "  events.on('output_added.OutputArea', handle_add_output);\n",
       "  events.on('output_updated.OutputArea', handle_update_output);\n",
       "  events.on('clear_output.CodeCell', handle_clear_output);\n",
       "  events.on('delete.Cell', handle_clear_output);\n",
       "  events.on('kernel_ready.Kernel', handle_kernel_cleanup);\n",
       "\n",
       "  OutputArea.prototype.register_mime_type(EXEC_MIME_TYPE, append_mime, {\n",
       "    safe: true,\n",
       "    index: 0\n",
       "  });\n",
       "}\n",
       "\n",
       "if (window.Jupyter !== undefined) {\n",
       "  try {\n",
       "    var events = require('base/js/events');\n",
       "    var OutputArea = require('notebook/js/outputarea').OutputArea;\n",
       "    if (OutputArea.prototype.mime_types().indexOf(EXEC_MIME_TYPE) == -1) {\n",
       "      register_renderer(events, OutputArea);\n",
       "    }\n",
       "  } catch(err) {\n",
       "  }\n",
       "}\n"
      ],
      "application/vnd.holoviews_load.v0+json": "\nif ((window.PyViz === undefined) || (window.PyViz instanceof HTMLElement)) {\n  window.PyViz = {comms: {}, comm_status:{}, kernels:{}, receivers: {}, plot_index: []}\n}\n\n\n    function JupyterCommManager() {\n    }\n\n    JupyterCommManager.prototype.register_target = function(plot_id, comm_id, msg_handler) {\n      if (window.comm_manager || ((window.Jupyter !== undefined) && (Jupyter.notebook.kernel != null))) {\n        var comm_manager = window.comm_manager || Jupyter.notebook.kernel.comm_manager;\n        comm_manager.register_target(comm_id, function(comm) {\n          comm.on_msg(msg_handler);\n        });\n      } else if ((plot_id in window.PyViz.kernels) && (window.PyViz.kernels[plot_id])) {\n        window.PyViz.kernels[plot_id].registerCommTarget(comm_id, function(comm) {\n          comm.onMsg = msg_handler;\n        });\n      } else if (typeof google != 'undefined' && google.colab.kernel != null) {\n        google.colab.kernel.comms.registerTarget(comm_id, (comm) => {\n          var messages = comm.messages[Symbol.asyncIterator]();\n          function processIteratorResult(result) {\n            var message = result.value;\n            console.log(message)\n            var content = {data: message.data, comm_id};\n            var buffers = []\n            for (var buffer of message.buffers || []) {\n              buffers.push(new DataView(buffer))\n            }\n            var metadata = message.metadata || {};\n            var msg = {content, buffers, metadata}\n            msg_handler(msg);\n            return messages.next().then(processIteratorResult);\n          }\n          return messages.next().then(processIteratorResult);\n        })\n      }\n    }\n\n    JupyterCommManager.prototype.get_client_comm = function(plot_id, comm_id, msg_handler) {\n      if (comm_id in window.PyViz.comms) {\n        return window.PyViz.comms[comm_id];\n      } else if (window.comm_manager || ((window.Jupyter !== undefined) && (Jupyter.notebook.kernel != null))) {\n        var comm_manager = window.comm_manager || Jupyter.notebook.kernel.comm_manager;\n        var comm = comm_manager.new_comm(comm_id, {}, {}, {}, comm_id);\n        if (msg_handler) {\n          comm.on_msg(msg_handler);\n        }\n      } else if ((plot_id in window.PyViz.kernels) && (window.PyViz.kernels[plot_id])) {\n        var comm = window.PyViz.kernels[plot_id].connectToComm(comm_id);\n        comm.open();\n        if (msg_handler) {\n          comm.onMsg = msg_handler;\n        }\n      } else if (typeof google != 'undefined' && google.colab.kernel != null) {\n        var comm_promise = google.colab.kernel.comms.open(comm_id)\n        comm_promise.then((comm) => {\n          window.PyViz.comms[comm_id] = comm;\n          if (msg_handler) {\n            var messages = comm.messages[Symbol.asyncIterator]();\n            function processIteratorResult(result) {\n              var message = result.value;\n              var content = {data: message.data};\n              var metadata = message.metadata || {comm_id};\n              var msg = {content, metadata}\n              msg_handler(msg);\n              return messages.next().then(processIteratorResult);\n            }\n            return messages.next().then(processIteratorResult);\n          }\n        }) \n        var sendClosure = (data, metadata, buffers, disposeOnDone) => {\n          return comm_promise.then((comm) => {\n            comm.send(data, metadata, buffers, disposeOnDone);\n          });\n        };\n        var comm = {\n          send: sendClosure\n        };\n      }\n      window.PyViz.comms[comm_id] = comm;\n      return comm;\n    }\n    window.PyViz.comm_manager = new JupyterCommManager();\n    \n\n\nvar JS_MIME_TYPE = 'application/javascript';\nvar HTML_MIME_TYPE = 'text/html';\nvar EXEC_MIME_TYPE = 'application/vnd.holoviews_exec.v0+json';\nvar CLASS_NAME = 'output';\n\n/**\n * Render data to the DOM node\n */\nfunction render(props, node) {\n  var div = document.createElement(\"div\");\n  var script = document.createElement(\"script\");\n  node.appendChild(div);\n  node.appendChild(script);\n}\n\n/**\n * Handle when a new output is added\n */\nfunction handle_add_output(event, handle) {\n  var output_area = handle.output_area;\n  var output = handle.output;\n  if ((output.data == undefined) || (!output.data.hasOwnProperty(EXEC_MIME_TYPE))) {\n    return\n  }\n  var id = output.metadata[EXEC_MIME_TYPE][\"id\"];\n  var toinsert = output_area.element.find(\".\" + CLASS_NAME.split(' ')[0]);\n  if (id !== undefined) {\n    var nchildren = toinsert.length;\n    var html_node = toinsert[nchildren-1].children[0];\n    html_node.innerHTML = output.data[HTML_MIME_TYPE];\n    var scripts = [];\n    var nodelist = html_node.querySelectorAll(\"script\");\n    for (var i in nodelist) {\n      if (nodelist.hasOwnProperty(i)) {\n        scripts.push(nodelist[i])\n      }\n    }\n\n    scripts.forEach( function (oldScript) {\n      var newScript = document.createElement(\"script\");\n      var attrs = [];\n      var nodemap = oldScript.attributes;\n      for (var j in nodemap) {\n        if (nodemap.hasOwnProperty(j)) {\n          attrs.push(nodemap[j])\n        }\n      }\n      attrs.forEach(function(attr) { newScript.setAttribute(attr.name, attr.value) });\n      newScript.appendChild(document.createTextNode(oldScript.innerHTML));\n      oldScript.parentNode.replaceChild(newScript, oldScript);\n    });\n    if (JS_MIME_TYPE in output.data) {\n      toinsert[nchildren-1].children[1].textContent = output.data[JS_MIME_TYPE];\n    }\n    output_area._hv_plot_id = id;\n    if ((window.Bokeh !== undefined) && (id in Bokeh.index)) {\n      window.PyViz.plot_index[id] = Bokeh.index[id];\n    } else {\n      window.PyViz.plot_index[id] = null;\n    }\n  } else if (output.metadata[EXEC_MIME_TYPE][\"server_id\"] !== undefined) {\n    var bk_div = document.createElement(\"div\");\n    bk_div.innerHTML = output.data[HTML_MIME_TYPE];\n    var script_attrs = bk_div.children[0].attributes;\n    for (var i = 0; i < script_attrs.length; i++) {\n      toinsert[toinsert.length - 1].childNodes[1].setAttribute(script_attrs[i].name, script_attrs[i].value);\n    }\n    // store reference to server id on output_area\n    output_area._bokeh_server_id = output.metadata[EXEC_MIME_TYPE][\"server_id\"];\n  }\n}\n\n/**\n * Handle when an output is cleared or removed\n */\nfunction handle_clear_output(event, handle) {\n  var id = handle.cell.output_area._hv_plot_id;\n  var server_id = handle.cell.output_area._bokeh_server_id;\n  if (((id === undefined) || !(id in PyViz.plot_index)) && (server_id !== undefined)) { return; }\n  var comm = window.PyViz.comm_manager.get_client_comm(\"hv-extension-comm\", \"hv-extension-comm\", function () {});\n  if (server_id !== null) {\n    comm.send({event_type: 'server_delete', 'id': server_id});\n    return;\n  } else if (comm !== null) {\n    comm.send({event_type: 'delete', 'id': id});\n  }\n  delete PyViz.plot_index[id];\n  if ((window.Bokeh !== undefined) & (id in window.Bokeh.index)) {\n    var doc = window.Bokeh.index[id].model.document\n    doc.clear();\n    const i = window.Bokeh.documents.indexOf(doc);\n    if (i > -1) {\n      window.Bokeh.documents.splice(i, 1);\n    }\n  }\n}\n\n/**\n * Handle kernel restart event\n */\nfunction handle_kernel_cleanup(event, handle) {\n  delete PyViz.comms[\"hv-extension-comm\"];\n  window.PyViz.plot_index = {}\n}\n\n/**\n * Handle update_display_data messages\n */\nfunction handle_update_output(event, handle) {\n  handle_clear_output(event, {cell: {output_area: handle.output_area}})\n  handle_add_output(event, handle)\n}\n\nfunction register_renderer(events, OutputArea) {\n  function append_mime(data, metadata, element) {\n    // create a DOM node to render to\n    var toinsert = this.create_output_subarea(\n    metadata,\n    CLASS_NAME,\n    EXEC_MIME_TYPE\n    );\n    this.keyboard_manager.register_events(toinsert);\n    // Render to node\n    var props = {data: data, metadata: metadata[EXEC_MIME_TYPE]};\n    render(props, toinsert[0]);\n    element.append(toinsert);\n    return toinsert\n  }\n\n  events.on('output_added.OutputArea', handle_add_output);\n  events.on('output_updated.OutputArea', handle_update_output);\n  events.on('clear_output.CodeCell', handle_clear_output);\n  events.on('delete.Cell', handle_clear_output);\n  events.on('kernel_ready.Kernel', handle_kernel_cleanup);\n\n  OutputArea.prototype.register_mime_type(EXEC_MIME_TYPE, append_mime, {\n    safe: true,\n    index: 0\n  });\n}\n\nif (window.Jupyter !== undefined) {\n  try {\n    var events = require('base/js/events');\n    var OutputArea = require('notebook/js/outputarea').OutputArea;\n    if (OutputArea.prototype.mime_types().indexOf(EXEC_MIME_TYPE) == -1) {\n      register_renderer(events, OutputArea);\n    }\n  } catch(err) {\n  }\n}\n"
     },
     "metadata": {},
     "output_type": "display_data"
    },
    {
     "data": {
      "text/html": [
       "<style>*[data-root-id],\n",
       "*[data-root-id] > * {\n",
       "  box-sizing: border-box;\n",
       "  font-family: var(--jp-ui-font-family);\n",
       "  font-size: var(--jp-ui-font-size1);\n",
       "  color: var(--vscode-editor-foreground, var(--jp-ui-font-color1));\n",
       "}\n",
       "\n",
       "/* Override VSCode background color */\n",
       ".cell-output-ipywidget-background:has(\n",
       "    > .cell-output-ipywidget-background > .lm-Widget > *[data-root-id]\n",
       "  ),\n",
       ".cell-output-ipywidget-background:has(> .lm-Widget > *[data-root-id]) {\n",
       "  background-color: transparent !important;\n",
       "}\n",
       "</style>"
      ]
     },
     "metadata": {},
     "output_type": "display_data"
    },
    {
     "data": {
      "application/vnd.holoviews_exec.v0+json": "",
      "text/html": [
       "<div id='p1658'>\n",
       "  <div id=\"e282d0ae-fb35-438f-97b5-0491a5ef49f7\" data-root-id=\"p1658\" style=\"display: contents;\"></div>\n",
       "</div>\n",
       "<script type=\"application/javascript\">(function(root) {\n",
       "  var docs_json = {\"02773522-c094-4d1a-9754-f9f8a5529db0\":{\"version\":\"3.3.4\",\"title\":\"Bokeh Application\",\"roots\":[{\"type\":\"object\",\"name\":\"panel.models.browser.BrowserInfo\",\"id\":\"p1658\"},{\"type\":\"object\",\"name\":\"panel.models.comm_manager.CommManager\",\"id\":\"p1659\",\"attributes\":{\"plot_id\":\"p1658\",\"comm_id\":\"1c6c60fb21674da1bea52aa166a8cd4a\",\"client_comm_id\":\"245a6f9dec904c0c80dced63ee0ba589\"}}],\"defs\":[{\"type\":\"model\",\"name\":\"ReactiveHTML1\"},{\"type\":\"model\",\"name\":\"FlexBox1\",\"properties\":[{\"name\":\"align_content\",\"kind\":\"Any\",\"default\":\"flex-start\"},{\"name\":\"align_items\",\"kind\":\"Any\",\"default\":\"flex-start\"},{\"name\":\"flex_direction\",\"kind\":\"Any\",\"default\":\"row\"},{\"name\":\"flex_wrap\",\"kind\":\"Any\",\"default\":\"wrap\"},{\"name\":\"justify_content\",\"kind\":\"Any\",\"default\":\"flex-start\"}]},{\"type\":\"model\",\"name\":\"FloatPanel1\",\"properties\":[{\"name\":\"config\",\"kind\":\"Any\",\"default\":{\"type\":\"map\"}},{\"name\":\"contained\",\"kind\":\"Any\",\"default\":true},{\"name\":\"position\",\"kind\":\"Any\",\"default\":\"right-top\"},{\"name\":\"offsetx\",\"kind\":\"Any\",\"default\":null},{\"name\":\"offsety\",\"kind\":\"Any\",\"default\":null},{\"name\":\"theme\",\"kind\":\"Any\",\"default\":\"primary\"},{\"name\":\"status\",\"kind\":\"Any\",\"default\":\"normalized\"}]},{\"type\":\"model\",\"name\":\"GridStack1\",\"properties\":[{\"name\":\"mode\",\"kind\":\"Any\",\"default\":\"warn\"},{\"name\":\"ncols\",\"kind\":\"Any\",\"default\":null},{\"name\":\"nrows\",\"kind\":\"Any\",\"default\":null},{\"name\":\"allow_resize\",\"kind\":\"Any\",\"default\":true},{\"name\":\"allow_drag\",\"kind\":\"Any\",\"default\":true},{\"name\":\"state\",\"kind\":\"Any\",\"default\":[]}]},{\"type\":\"model\",\"name\":\"drag1\",\"properties\":[{\"name\":\"slider_width\",\"kind\":\"Any\",\"default\":5},{\"name\":\"slider_color\",\"kind\":\"Any\",\"default\":\"black\"},{\"name\":\"value\",\"kind\":\"Any\",\"default\":50}]},{\"type\":\"model\",\"name\":\"click1\",\"properties\":[{\"name\":\"terminal_output\",\"kind\":\"Any\",\"default\":\"\"},{\"name\":\"debug_name\",\"kind\":\"Any\",\"default\":\"\"},{\"name\":\"clears\",\"kind\":\"Any\",\"default\":0}]},{\"type\":\"model\",\"name\":\"copy_to_clipboard1\",\"properties\":[{\"name\":\"fill\",\"kind\":\"Any\",\"default\":\"none\"},{\"name\":\"value\",\"kind\":\"Any\",\"default\":null}]},{\"type\":\"model\",\"name\":\"FastWrapper1\",\"properties\":[{\"name\":\"object\",\"kind\":\"Any\",\"default\":null},{\"name\":\"style\",\"kind\":\"Any\",\"default\":null}]},{\"type\":\"model\",\"name\":\"NotificationAreaBase1\",\"properties\":[{\"name\":\"js_events\",\"kind\":\"Any\",\"default\":{\"type\":\"map\"}},{\"name\":\"position\",\"kind\":\"Any\",\"default\":\"bottom-right\"},{\"name\":\"_clear\",\"kind\":\"Any\",\"default\":0}]},{\"type\":\"model\",\"name\":\"NotificationArea1\",\"properties\":[{\"name\":\"js_events\",\"kind\":\"Any\",\"default\":{\"type\":\"map\"}},{\"name\":\"notifications\",\"kind\":\"Any\",\"default\":[]},{\"name\":\"position\",\"kind\":\"Any\",\"default\":\"bottom-right\"},{\"name\":\"_clear\",\"kind\":\"Any\",\"default\":0},{\"name\":\"types\",\"kind\":\"Any\",\"default\":[{\"type\":\"map\",\"entries\":[[\"type\",\"warning\"],[\"background\",\"#ffc107\"],[\"icon\",{\"type\":\"map\",\"entries\":[[\"className\",\"fas fa-exclamation-triangle\"],[\"tagName\",\"i\"],[\"color\",\"white\"]]}]]},{\"type\":\"map\",\"entries\":[[\"type\",\"info\"],[\"background\",\"#007bff\"],[\"icon\",{\"type\":\"map\",\"entries\":[[\"className\",\"fas fa-info-circle\"],[\"tagName\",\"i\"],[\"color\",\"white\"]]}]]}]}]},{\"type\":\"model\",\"name\":\"Notification\",\"properties\":[{\"name\":\"background\",\"kind\":\"Any\",\"default\":null},{\"name\":\"duration\",\"kind\":\"Any\",\"default\":3000},{\"name\":\"icon\",\"kind\":\"Any\",\"default\":null},{\"name\":\"message\",\"kind\":\"Any\",\"default\":\"\"},{\"name\":\"notification_type\",\"kind\":\"Any\",\"default\":null},{\"name\":\"_destroyed\",\"kind\":\"Any\",\"default\":false}]},{\"type\":\"model\",\"name\":\"TemplateActions1\",\"properties\":[{\"name\":\"open_modal\",\"kind\":\"Any\",\"default\":0},{\"name\":\"close_modal\",\"kind\":\"Any\",\"default\":0}]},{\"type\":\"model\",\"name\":\"BootstrapTemplateActions1\",\"properties\":[{\"name\":\"open_modal\",\"kind\":\"Any\",\"default\":0},{\"name\":\"close_modal\",\"kind\":\"Any\",\"default\":0}]},{\"type\":\"model\",\"name\":\"MaterialTemplateActions1\",\"properties\":[{\"name\":\"open_modal\",\"kind\":\"Any\",\"default\":0},{\"name\":\"close_modal\",\"kind\":\"Any\",\"default\":0}]}]}};\n",
       "  var render_items = [{\"docid\":\"02773522-c094-4d1a-9754-f9f8a5529db0\",\"roots\":{\"p1658\":\"e282d0ae-fb35-438f-97b5-0491a5ef49f7\"},\"root_ids\":[\"p1658\"]}];\n",
       "  var docs = Object.values(docs_json)\n",
       "  if (!docs) {\n",
       "    return\n",
       "  }\n",
       "  const py_version = docs[0].version.replace('rc', '-rc.').replace('.dev', '-dev.')\n",
       "  function embed_document(root) {\n",
       "    var Bokeh = get_bokeh(root)\n",
       "    Bokeh.embed.embed_items_notebook(docs_json, render_items);\n",
       "    for (const render_item of render_items) {\n",
       "      for (const root_id of render_item.root_ids) {\n",
       "\tconst id_el = document.getElementById(root_id)\n",
       "\tif (id_el.children.length && (id_el.children[0].className === 'bk-root')) {\n",
       "\t  const root_el = id_el.children[0]\n",
       "\t  root_el.id = root_el.id + '-rendered'\n",
       "\t}\n",
       "      }\n",
       "    }\n",
       "  }\n",
       "  function get_bokeh(root) {\n",
       "    if (root.Bokeh === undefined) {\n",
       "      return null\n",
       "    } else if (root.Bokeh.version !== py_version) {\n",
       "      if (root.Bokeh.versions === undefined || !root.Bokeh.versions.has(py_version)) {\n",
       "\treturn null\n",
       "      }\n",
       "      return root.Bokeh.versions.get(py_version);\n",
       "    } else if (root.Bokeh.version === py_version) {\n",
       "      return root.Bokeh\n",
       "    }\n",
       "    return null\n",
       "  }\n",
       "  function is_loaded(root) {\n",
       "    var Bokeh = get_bokeh(root)\n",
       "    return (Bokeh != null && Bokeh.Panel !== undefined)\n",
       "  }\n",
       "  if (is_loaded(root)) {\n",
       "    embed_document(root);\n",
       "  } else {\n",
       "    var attempts = 0;\n",
       "    var timer = setInterval(function(root) {\n",
       "      if (is_loaded(root)) {\n",
       "        clearInterval(timer);\n",
       "        embed_document(root);\n",
       "      } else if (document.readyState == \"complete\") {\n",
       "        attempts++;\n",
       "        if (attempts > 200) {\n",
       "          clearInterval(timer);\n",
       "\t  var Bokeh = get_bokeh(root)\n",
       "\t  if (Bokeh == null || Bokeh.Panel == null) {\n",
       "            console.warn(\"Panel: ERROR: Unable to run Panel code because Bokeh or Panel library is missing\");\n",
       "\t  } else {\n",
       "\t    console.warn(\"Panel: WARNING: Attempting to render but not all required libraries could be resolved.\")\n",
       "\t    embed_document(root)\n",
       "\t  }\n",
       "        }\n",
       "      }\n",
       "    }, 25, root)\n",
       "  }\n",
       "})(window);</script>"
      ]
     },
     "metadata": {
      "application/vnd.holoviews_exec.v0+json": {
       "id": "p1658"
      }
     },
     "output_type": "display_data"
    },
    {
     "data": {
      "text/html": [
       "\n",
       "<div class=\"logo-block\">\n",
       "<img src='data:image/png;base64,iVBORw0KGgoAAAANSUhEUgAAAEAAAABACAYAAACqaXHeAAAABHNCSVQICAgIfAhkiAAAAAlwSFlz\n",
       "AAAB+wAAAfsBxc2miwAAABl0RVh0U29mdHdhcmUAd3d3Lmlua3NjYXBlLm9yZ5vuPBoAAA6zSURB\n",
       "VHic7ZtpeFRVmsf/5966taWqUlUJ2UioBBJiIBAwCZtog9IOgjqACsogKtqirT2ttt069nQ/zDzt\n",
       "tI4+CrJIREFaFgWhBXpUNhHZQoKBkIUASchWla1S+3ar7r1nPkDaCAnZKoQP/D7mnPOe9/xy76n3\n",
       "nFSAW9ziFoPFNED2LLK5wcyBDObkb8ZkxuaoSYlI6ZcOKq1eWFdedqNzGHQBk9RMEwFAASkk0Xw3\n",
       "ETacDNi2vtvc7L0ROdw0AjoSotQVkKSvHQz/wRO1lScGModBFbDMaNRN1A4tUBCS3lk7BWhQkgpD\n",
       "lG4852/+7DWr1R3uHAZVQDsbh6ZPN7CyxUrCzJMRouusj0ipRwD2uKm0Zn5d2dFwzX1TCGhnmdGo\n",
       "G62Nna+isiUqhkzuKrkQaJlPEv5mFl2fvGg2t/VnzkEV8F5ioioOEWkLG86fvbpthynjdhXYZziQ\n",
       "x1hC9J2NFyi8vCTt91Fh04KGip0AaG9zuCk2wQCVyoNU3Hjezee9bq92duzzTmxsRJoy+jEZZZYo\n",
       "GTKJ6SJngdJqAfRzpze0+jHreUtPc7gpBLQnIYK6BYp/uGhw9YK688eu7v95ysgshcg9qSLMo3JC\n",
       "4jqLKQFBgdKDPoQ+Pltb8dUyQLpeDjeVgI6EgLIQFT5tEl3rn2losHVsexbZ3EyT9wE1uGdkIPcy\n",
       "BGxn8QUq1QrA5nqW5i2tLqvrrM9NK6AdkVIvL9E9bZL/oyfMVd/jqvc8LylzRBKDJSzIExwhQzuL\n",
       "QYGQj4rHfFTc8mUdu3E7yoLtbTe9gI4EqVgVkug2i5+uXGo919ixbRog+3fTbQ8qJe4ZOYNfMoTI\n",
       "OoshUNosgO60AisX15aeI2PSIp5KiFLI9ubb1vV3Qb2ltwLakUCDAkWX7/nHKRmmGIl9VgYsUhJm\n",
       "2NXjKYADtM1ygne9QQDIXlk49FBstMKx66D1v4+XuQr7vqTe0VcBHQlRWiOCbmmSYe2SqtL6q5rJ\n",
       "zsTb7lKx3FKOYC4DoqyS/B5bvLPxvD9Qtf6saxYLQGJErmDOdOMr/zo96km1nElr8bmPOBwI9COv\n",
       "HnFPRIwmkSOv9kcAS4heRsidOkpeWBgZM+UBrTFAXNYL5Vf2ii9c1trNzpYdaoVil3WIc+wdk+gQ\n",
       "noie3ecCcxt9ITcLAPWt/laGEO/9U6PmzZkenTtsSMQ8uYywJVW+grCstAvCIaAdArAsIWkRDDs/\n",
       "KzLm2YcjY1Lv0UdW73HabE9n6V66cxSzfEmuJssTpKGVp+0vHq73FwL46eOjpMpbRAnNmJFrGJNu\n",
       "Ukf9Yrz+3rghiumCKNXXWPhLYcjxGsIpoCMsIRoFITkW8AuyM8jC1+/QLx4bozCEJIq38+1rtpR6\n",
       "V/yzb8eBlRb3fo5l783N0CWolAzJHaVNzkrTzlEp2bQ2q3TC5gn6wpnoQAmwSiGh2GitnTmVMc5O\n",
       "UyfKWUKCIsU7+fZDKwqdT6DDpvkzAX4/+AMFjk0tDp5GRXLpQ2MUmhgDp5gxQT8+Y7hyPsMi8uxF\n",
       "71H0oebujHALECjFKaW9Lm68n18wXp2kVzIcABytD5iXFzg+WVXkegpAsOOYziqo0OkK76GyquC3\n",
       "ltZAzMhhqlSNmmWTE5T6e3IN05ITFLM4GdN0vtZ3ob8Jh1NAKXFbm5PtLU/eqTSlGjkNAJjdgn/N\n",
       "aedXa0tdi7+t9G0FIF49rtMSEgAs1kDLkTPO7ebm4IUWeyh1bKomXqlgMG6kJmHcSM0clYLJ8XtR\n",
       "1GTnbV3F6I5wCGikAb402npp1h1s7LQUZZSMIfALFOuL3UUrfnS8+rez7v9qcold5tilgHbO1fjK\n",
       "9ubb17u9oshxzMiUBKXWqJNxd+fqb0tLVs4lILFnK71H0Ind7uiPgACVcFJlrb0tV6DzxqqTIhUM\n",
       "CwDf1/rrVhTa33/3pGPxJYdQ2l2cbgVcQSosdx8uqnDtbGjh9SlDVSMNWhlnilfqZk42Th2ZpLpf\n",
       "xrHec5e815zrr0dfBZSwzkZfqsv+1FS1KUknUwPARVvItfKUY+cn57yP7qv07UE3p8B2uhUwLk09\n",
       "e0SCOrK+hbdYHYLjRIl71wWzv9jpEoeOHhGRrJAzyEyNiJuUqX0g2sBN5kGK6y2Blp5M3lsB9Qh4\n",
       "y2Ja6x6+i0ucmKgwMATwhSjdUu49tKrQ/pvN5d53ml2CGwCmJipmKjgmyuaXzNeL2a0AkQ01Th5j\n",
       "2DktO3Jyk8f9vcOBQHV94OK+fPumJmvQHxJoWkaKWq9Vs+yUsbq0zGT1I4RgeH2b5wef7+c7bl8F\n",
       "eKgoHVVZa8ZPEORzR6sT1BzDUAD/d9F78e2Tzv99v8D+fLVTqAKAsbGamKey1Mt9Ann4eH3gTXTz\n",
       "idWtAJ8PQWOk7NzSeQn/OTHDuEikVF1R4z8BQCy+6D1aWRfY0tTGG2OM8rRoPaeIj5ZHzJxszElN\n",
       "VM8K8JS5WOfv8mzRnQAKoEhmt8gyPM4lU9SmBK1MCQBnW4KONT86v1hZ1PbwSXPw4JWussVjtH9Y\n",
       "NCoiL9UoH/6PSu8jFrfY2t36erQHXLIEakMi1SydmzB31h3GGXFDFNPaK8Rme9B79Ixrd0WN+1ij\n",
       "NRQ/doRmuFLBkHSTOm5GruG+pFjFdAmorG4IXH1Qua6ASniclfFtDYt+oUjKipPrCQB7QBQ2lrgP\n",
       "fFzm+9XWUtcqJ3/5vDLDpJ79XHZk3u8nGZ42qlj1+ydtbxysCezrydp6ugmipNJ7WBPB5tydY0jP\n",
       "HaVNzs3QzeE4ZpTbI+ZbnSFPbVOw9vsfnVvqWnirPyCNGD08IlqtYkh2hjZ5dErEQzoNm+6ykyOt\n",
       "Lt5/PQEuSRRKo22VkydK+vvS1XEKlhCJAnsqvcVvH7f/ZU2R67eXbMEGAMiIV5oWZWiWvz5Fv2xG\n",
       "sjqNJQRvn3Rs2lji/lNP19VjAQDgD7FHhujZB9OGqYxRkZxixgRDVlqS6uEOFaJUVu0rPFzctrnF\n",
       "JqijImVp8dEKVWyUXDk92zAuMZ6bFwpBU1HrOw6AdhQgUooChb0+ItMbWJitSo5Ws3IAOGEOtL53\n",
       "0vHZih9sC4vtofZ7Qu6523V/fmGcds1TY3V36pUsBwAbSlxnVh2xLfAD/IAIMDf7XYIkNmXfpp2l\n",
       "18rkAJAy9HKFaIr/qULkeQQKy9zf1JgDB2uaeFNGijo5QsUyacNUUTOnGO42xSnv4oOwpDi1zYkc\n",
       "efUc3I5Gk6PhyTuVKaOGyLUAYPGIoY9Pu/atL/L92+4q9wbflRJ2Trpm/jPjdBtfnqB/dIThcl8A\n",
       "KG7hbRuKnb8qsQsVvVlTrwQAQMUlf3kwJI24Z4JhPMtcfng5GcH49GsrxJpGvvHIaeem2ma+KSjQ\n",
       "lIwUdYyCY8j4dE1KzijNnIP2llF2wcXNnsoapw9XxsgYAl6k+KzUXbi2yP3KR2ecf6z3BFsBICdW\n",
       "nvnIaG3eHybqX7vbpEqUMT+9OL4Qpe8VON7dXuFd39v19FoAABRVePbGGuXTszO0P7tu6lghUonE\n",
       "llRdrhArLvmKdh9u29jcFiRRkfLUxBiFNiqSU9icoZQHo5mYBI1MBgBH6wMNb+U7Pnw337H4gi1Y\n",
       "ciWs+uks3Z9fztUvfzxTm9Ne8XXkvQLHNytOOZeiD4e0PgkAIAYCYknKUNUDSXEKzdWNpnil7r4p\n",
       "xqkjTarZMtk/K8TQ6Qve78qqvXurGwIJqcOUKfUWHsm8KGvxSP68YudXq4pcj39X49uOK2X142O0\n",
       "Tz5/u/7TVybqH0rSya6ZBwD21/gubbrgWdDgEOx9WUhfBaC2ibcEBYm7a7x+ukrBMNcEZggyR0TE\n",
       "T8zUPjikQ4VosQZbTpS4vqizBKvqmvjsqnpfzaZyx9JPiz1/bfGKdgD45XB1zoIMzYbfTdS/NClB\n",
       "Gct0USiY3YL/g0LHy/uq/Ef6uo5+n0R/vyhp17Klpge763f8rMu6YU/zrn2nml+2WtH+Z+5IAAFc\n",
       "2bUTdTDOSNa9+cQY7YLsOIXhevEkCvzph7a8laecz/Un/z4/Ae04XeL3UQb57IwU9ZDr9UuKVajv\n",
       "nxp1+1UVIo/LjztZkKH59fO3G/JemqCfmaCRqbqbd90ZZ8FfjtkfAyD0J/9+C2h1hDwsSxvGjNDc\n",
       "b4zk5NfrSwiQblLHzZhg+Jf4aPlUwpDqkQqa9nimbt1/TDH8OitGMaQnj+RJS6B1fbF7SY1TqO5v\n",
       "/v0WAADl1f7zokgS7s7VT2DZ7pegUjBM7mjtiDZbcN4j0YrHH0rXpCtY0qPX0cVL0rv5jv/ZXend\n",
       "0u/EESYBAFBU4T4Qa5TflZOhTe7pmKpaP8kCVUVw1+yhXfJWvn1P3hnXi33JsTN6PnP3hHZ8Z3/h\n",
       "aLHzmkNPuPj7Bc/F/Q38CwjTpSwQXgE4Vmwry9tpfq/ZFgqFMy4AVDtCvi8rvMvOmv0N4YwbVgEA\n",
       "sPM72/KVnzfspmH7HQGCRLG2yL1+z8XwvPcdCbsAANh+xPzstgMtxeGKt+6MK3/tacfvwhWvIwMi\n",
       "oKEBtm0H7W+UVfkc/Y1V0BhoPlDr/w1w/eu1vjIgAgDg22OtX6/eYfnEz/focrZTHAFR+PSs56/7\n",
       "q32nwpjazxgwAQCwcU/T62t3WL7r6/jVRa6/byp1rei+Z98ZUAEAhEPHPc8fKnTU9nbgtnOe8h0l\n",
       "9hcGIqmODLQAHCy2Xti6v/XNRivf43f4fFvIteu854+VHnR7q9tfBlwAAGz+pnndB9vM26UebAe8\n",
       "SLHujPOTPVW+rwY+sxskAAC2HrA8t2Vvc7ffP1r9o+vwR2dcr92InIAbKKC1FZ5tB1tf+/G8p8sv\n",
       "N/9Q5zd/XR34LYCwV5JdccMEAMDBk45DH243r/X4xGvqxFa/GNpS7n6rwOwNWwHVE26oAADYurf1\n",
       "zx/utOzt+DMKYM0p17YtZZ5VNzqfsB2HewG1WXE8PoZ7gOclbTIvynZf9JV+fqZtfgs/8F/Nu5rB\n",
       "EIBmJ+8QRMmpU7EzGRsf2FzuePqYRbzh/zE26EwdrT10f6r6o8HOYzCJB9Dpff8tbnGLG8L/A/WE\n",
       "roTBs2RqAAAAAElFTkSuQmCC'\n",
       "     style='height:25px; border-radius:12px; display: inline-block; float: left; vertical-align: middle'></img>\n",
       "\n",
       "\n",
       "  <img src='data:image/png;base64,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'\n",
       "       style='height:15px; border-radius:12px; display: inline-block; float: left'></img>\n",
       "  \n",
       "\n",
       "\n",
       "\n",
       "\n",
       "</div>\n"
      ]
     },
     "metadata": {},
     "output_type": "display_data"
    }
   ],
   "source": [
    "import numpy as np\n",
    "import os\n",
    "from datetime import datetime\n",
    "import matplotlib.pyplot as plt\n",
    "import xarray as xr\n",
    "import holoviews as hv\n",
    "hv.extension('bokeh')"
   ]
  },
  {
   "cell_type": "code",
   "execution_count": 23,
   "id": "7a97c3544454788f",
   "metadata": {
    "ExecuteTime": {
     "end_time": "2024-09-23T13:24:24.914582Z",
     "start_time": "2024-09-23T13:24:24.898525Z"
    },
    "collapsed": false,
    "jupyter": {
     "outputs_hidden": false
    }
   },
   "outputs": [],
   "source": [
    "def translate_grid_to_origin(x: np.ndarray, y: np.ndarray, dx: float, dy: float) -> (np.ndarray, np.ndarray):\n",
    "    trans_x = x + dx\n",
    "    trans_y = y + dy\n",
    "    \n",
    "    return trans_x,trans_y\n",
    "\n",
    "def get_grid_angle(x0: float, y0: float, x1: float, y1: float)-> float:\n",
    "    grid_angle = np.arctan2(y1 - y0, x1 - x0)\n",
    "\n",
    "    return grid_angle\n",
    "\n",
    "def rotate_grid(x: np.ndarray, y: np.ndarray, x0: float, y0: float, rotation_angle: float) -> (np.ndarray, np.ndarray):\n",
    "    x_translated_to_zero, y_translated_to_zero = translate_grid_to_origin(x, y, -x0, -y0)\n",
    "\n",
    "    x_rotated = np.cos(rotation_angle) * x_translated_to_zero - np.sin(rotation_angle) * y_translated_to_zero\n",
    "    y_rotated = np.sin(rotation_angle) * x_translated_to_zero + np.cos(rotation_angle) * y_translated_to_zero\n",
    "\n",
    "    x_translated_back, y_translated_back = translate_grid_to_origin(x_rotated, y_rotated, x0, y0)\n",
    "\n",
    "    return x_translated_back, y_translated_back"
   ]
  },
  {
   "cell_type": "markdown",
   "id": "bb34341a-4754-4105-bfdc-58be3653c256",
   "metadata": {},
   "source": [
    "## Get particles"
   ]
  },
  {
   "cell_type": "code",
   "execution_count": 24,
   "id": "e2c290fa609cef44",
   "metadata": {
    "ExecuteTime": {
     "end_time": "2024-09-23T13:24:24.945829Z",
     "start_time": "2024-09-23T13:24:24.915759Z"
    },
    "collapsed": false,
    "jupyter": {
     "outputs_hidden": false
    }
   },
   "outputs": [
    {
     "name": "stderr",
     "output_type": "stream",
     "text": [
      "C:\\Users\\leroquan\\AppData\\Local\\anaconda3\\Lib\\site-packages\\xarray\\coding\\times.py:254: RuntimeWarning: invalid value encountered in cast\n",
      "  flat_num_dates_ns_int = (flat_num_dates * _NS_PER_TIME_DELTA[delta]).astype(\n"
     ]
    }
   ],
   "source": [
    "particle_folder = r\"Q:\\Diverses\\Scratch-Disk\\Surf\\Leroquais\\geneva-field-trip_20240924\"\n",
    "particles = xr.open_dataset(os.path.join(particle_folder, \"PT_2409_2609_geneva_run.nc\"))\n",
    "date_init_particles = xr.open_dataset(os.path.join(particle_folder, \"PT_2409_2609_geneva_inout.nc\"))"
   ]
  },
  {
   "cell_type": "markdown",
   "id": "1cc9f3df431f1441",
   "metadata": {
    "collapsed": false,
    "jupyter": {
     "outputs_hidden": false
    }
   },
   "source": [
    "### Filter by initial date"
   ]
  },
  {
   "cell_type": "code",
   "execution_count": 37,
   "id": "c2631791374c1dd0",
   "metadata": {
    "ExecuteTime": {
     "end_time": "2024-09-23T13:31:12.141600Z",
     "start_time": "2024-09-23T13:31:12.119857Z"
    },
    "collapsed": false,
    "jupyter": {
     "outputs_hidden": false
    }
   },
   "outputs": [],
   "source": [
    "filter_start_date = datetime(2024, 9, 24, 0,0,0)\n",
    "filter_end_date = datetime(2024, 9, 25, 0,0,0)\n",
    "\n",
    "t_ini = date_init_particles['t_ini'].values\n",
    "pid = date_init_particles['pid'].values\n",
    "\n",
    "mask = (t_ini >= np.datetime64(filter_start_date)) & (t_ini <= np.datetime64(filter_end_date))\n",
    "filtered_pid = pid[mask]\n",
    "filtered_particles = particles.sel(pid=filtered_pid)"
   ]
  },
  {
   "cell_type": "code",
   "execution_count": 38,
   "id": "03b824d7-e683-4588-9b62-5731ebf62806",
   "metadata": {},
   "outputs": [
    {
     "data": {
      "text/plain": [
       "array([   1,    2,    3, ..., 3798, 3799, 3800])"
      ]
     },
     "execution_count": 38,
     "metadata": {},
     "output_type": "execute_result"
    }
   ],
   "source": [
    "filtered_particles['pid'].values"
   ]
  },
  {
   "cell_type": "markdown",
   "id": "18c80dd47f9e8dd6",
   "metadata": {
    "collapsed": false,
    "jupyter": {
     "outputs_hidden": false
    }
   },
   "source": [
    "### Select plot date "
   ]
  },
  {
   "cell_type": "code",
   "execution_count": 81,
   "id": "6e3dca9e-b50c-4a69-adfb-b4a2a443eb7a",
   "metadata": {
    "scrolled": true
   },
   "outputs": [
    {
     "data": {
      "text/plain": [
       "array(['2024-09-24T06:15:00.000000000', '2024-09-24T06:25:00.000000000',\n",
       "       '2024-09-24T06:35:00.000000000', '2024-09-24T06:45:00.000000000',\n",
       "       '2024-09-24T06:55:00.000000000', '2024-09-24T07:05:00.000000000',\n",
       "       '2024-09-24T07:15:00.000000000', '2024-09-24T07:25:00.000000000',\n",
       "       '2024-09-24T07:35:00.000000000', '2024-09-24T07:45:00.000000000',\n",
       "       '2024-09-24T07:55:00.000000000', '2024-09-24T08:05:00.000000000',\n",
       "       '2024-09-24T08:15:00.000000000', '2024-09-24T08:25:00.000000000',\n",
       "       '2024-09-24T08:35:00.000000000', '2024-09-24T08:45:00.000000000',\n",
       "       '2024-09-24T08:55:00.000000000', '2024-09-24T09:05:00.000000000',\n",
       "       '2024-09-24T09:15:00.000000000', '2024-09-24T09:25:00.000000000',\n",
       "       '2024-09-24T09:35:00.000000000', '2024-09-24T09:45:00.000000000',\n",
       "       '2024-09-24T09:55:00.000000000', '2024-09-24T10:05:00.000000000',\n",
       "       '2024-09-24T10:15:00.000000000', '2024-09-24T10:25:00.000000000',\n",
       "       '2024-09-24T10:35:00.000000000', '2024-09-24T10:45:00.000000000',\n",
       "       '2024-09-24T10:55:00.000000000', '2024-09-24T11:05:00.000000000',\n",
       "       '2024-09-24T11:15:00.000000000', '2024-09-24T11:25:00.000000000',\n",
       "       '2024-09-24T11:35:00.000000000', '2024-09-24T11:45:00.000000000',\n",
       "       '2024-09-24T11:55:00.000000000', '2024-09-24T12:05:00.000000000',\n",
       "       '2024-09-24T12:15:00.000000000', '2024-09-24T12:25:00.000000000',\n",
       "       '2024-09-24T12:35:00.000000000', '2024-09-24T12:45:00.000000000',\n",
       "       '2024-09-24T12:55:00.000000000', '2024-09-24T13:05:00.000000000',\n",
       "       '2024-09-24T13:15:00.000000000', '2024-09-24T13:25:00.000000000',\n",
       "       '2024-09-24T13:35:00.000000000', '2024-09-24T13:45:00.000000000',\n",
       "       '2024-09-24T13:55:00.000000000', '2024-09-24T14:05:00.000000000',\n",
       "       '2024-09-24T14:15:00.000000000', '2024-09-24T14:25:00.000000000',\n",
       "       '2024-09-24T14:35:00.000000000', '2024-09-24T14:45:00.000000000',\n",
       "       '2024-09-24T14:55:00.000000000', '2024-09-24T15:05:00.000000000',\n",
       "       '2024-09-24T15:15:00.000000000', '2024-09-24T15:25:00.000000000',\n",
       "       '2024-09-24T15:35:00.000000000', '2024-09-24T15:45:00.000000000',\n",
       "       '2024-09-24T15:55:00.000000000', '2024-09-24T16:05:00.000000000',\n",
       "       '2024-09-24T16:15:00.000000000', '2024-09-24T16:25:00.000000000',\n",
       "       '2024-09-24T16:35:00.000000000', '2024-09-24T16:45:00.000000000',\n",
       "       '2024-09-24T16:55:00.000000000', '2024-09-24T17:05:00.000000000',\n",
       "       '2024-09-24T17:15:00.000000000', '2024-09-24T17:25:00.000000000',\n",
       "       '2024-09-24T17:35:00.000000000', '2024-09-24T17:45:00.000000000',\n",
       "       '2024-09-24T17:55:00.000000000', '2024-09-24T18:05:00.000000000',\n",
       "       '2024-09-24T18:15:00.000000000', '2024-09-24T18:25:00.000000000',\n",
       "       '2024-09-24T18:35:00.000000000', '2024-09-24T18:45:00.000000000',\n",
       "       '2024-09-24T18:55:00.000000000', '2024-09-24T19:05:00.000000000',\n",
       "       '2024-09-24T19:15:00.000000000', '2024-09-24T19:25:00.000000000',\n",
       "       '2024-09-24T19:35:00.000000000', '2024-09-24T19:45:00.000000000',\n",
       "       '2024-09-24T19:55:00.000000000', '2024-09-24T20:05:00.000000000',\n",
       "       '2024-09-24T20:15:00.000000000', '2024-09-24T20:25:00.000000000',\n",
       "       '2024-09-24T20:35:00.000000000', '2024-09-24T20:45:00.000000000',\n",
       "       '2024-09-24T20:55:00.000000000', '2024-09-24T21:05:00.000000000',\n",
       "       '2024-09-24T21:15:00.000000000', '2024-09-24T21:25:00.000000000',\n",
       "       '2024-09-24T21:35:00.000000000', '2024-09-24T21:45:00.000000000',\n",
       "       '2024-09-24T21:55:00.000000000', '2024-09-24T22:05:00.000000000',\n",
       "       '2024-09-24T22:15:00.000000000', '2024-09-24T22:25:00.000000000',\n",
       "       '2024-09-24T22:35:00.000000000', '2024-09-24T22:45:00.000000000',\n",
       "       '2024-09-24T22:55:00.000000000', '2024-09-24T23:05:00.000000000',\n",
       "       '2024-09-24T23:15:00.000000000', '2024-09-24T23:25:00.000000000',\n",
       "       '2024-09-24T23:35:00.000000000', '2024-09-24T23:45:00.000000000',\n",
       "       '2024-09-24T23:55:00.000000000', '2024-09-25T00:05:00.000000000',\n",
       "       '2024-09-25T00:15:00.000000000', '2024-09-25T00:25:00.000000000',\n",
       "       '2024-09-25T00:35:00.000000000', '2024-09-25T00:45:00.000000000',\n",
       "       '2024-09-25T00:55:00.000000000', '2024-09-25T01:05:00.000000000',\n",
       "       '2024-09-25T01:15:00.000000000', '2024-09-25T01:25:00.000000000',\n",
       "       '2024-09-25T01:35:00.000000000', '2024-09-25T01:45:00.000000000',\n",
       "       '2024-09-25T01:55:00.000000000', '2024-09-25T02:05:00.000000000',\n",
       "       '2024-09-25T02:15:00.000000000', '2024-09-25T02:25:00.000000000',\n",
       "       '2024-09-25T02:35:00.000000000', '2024-09-25T02:45:00.000000000',\n",
       "       '2024-09-25T02:55:00.000000000', '2024-09-25T03:05:00.000000000',\n",
       "       '2024-09-25T03:15:00.000000000', '2024-09-25T03:25:00.000000000',\n",
       "       '2024-09-25T03:35:00.000000000', '2024-09-25T03:45:00.000000000',\n",
       "       '2024-09-25T03:55:00.000000000', '2024-09-25T04:05:00.000000000',\n",
       "       '2024-09-25T04:15:00.000000000', '2024-09-25T04:25:00.000000000',\n",
       "       '2024-09-25T04:35:00.000000000', '2024-09-25T04:45:00.000000000',\n",
       "       '2024-09-25T04:55:00.000000000', '2024-09-25T05:05:00.000000000',\n",
       "       '2024-09-25T05:15:00.000000000', '2024-09-25T05:25:00.000000000',\n",
       "       '2024-09-25T05:35:00.000000000', '2024-09-25T05:45:00.000000000',\n",
       "       '2024-09-25T05:55:00.000000000', '2024-09-25T06:05:00.000000000',\n",
       "       '2024-09-25T06:15:00.000000000', '2024-09-25T06:25:00.000000000',\n",
       "       '2024-09-25T06:35:00.000000000', '2024-09-25T06:45:00.000000000',\n",
       "       '2024-09-25T06:55:00.000000000', '2024-09-25T07:05:00.000000000',\n",
       "       '2024-09-25T07:15:00.000000000', '2024-09-25T07:25:00.000000000',\n",
       "       '2024-09-25T07:35:00.000000000', '2024-09-25T07:45:00.000000000',\n",
       "       '2024-09-25T07:55:00.000000000', '2024-09-25T08:05:00.000000000',\n",
       "       '2024-09-25T08:15:00.000000000', '2024-09-25T08:25:00.000000000',\n",
       "       '2024-09-25T08:35:00.000000000', '2024-09-25T08:45:00.000000000',\n",
       "       '2024-09-25T08:55:00.000000000', '2024-09-25T09:05:00.000000000',\n",
       "       '2024-09-25T09:15:00.000000000', '2024-09-25T09:25:00.000000000',\n",
       "       '2024-09-25T09:35:00.000000000', '2024-09-25T09:45:00.000000000',\n",
       "       '2024-09-25T09:55:00.000000000', '2024-09-25T10:05:00.000000000',\n",
       "       '2024-09-25T10:15:00.000000000', '2024-09-25T10:25:00.000000000',\n",
       "       '2024-09-25T10:35:00.000000000', '2024-09-25T10:45:00.000000000',\n",
       "       '2024-09-25T10:55:00.000000000', '2024-09-25T11:05:00.000000000',\n",
       "       '2024-09-25T11:15:00.000000000', '2024-09-25T11:25:00.000000000',\n",
       "       '2024-09-25T11:35:00.000000000', '2024-09-25T11:45:00.000000000',\n",
       "       '2024-09-25T11:55:00.000000000', '2024-09-25T12:05:00.000000000',\n",
       "       '2024-09-25T12:15:00.000000000', '2024-09-25T12:25:00.000000000',\n",
       "       '2024-09-25T12:35:00.000000000', '2024-09-25T12:45:00.000000000',\n",
       "       '2024-09-25T12:55:00.000000000', '2024-09-25T13:05:00.000000000',\n",
       "       '2024-09-25T13:15:00.000000000', '2024-09-25T13:25:00.000000000',\n",
       "       '2024-09-25T13:35:00.000000000', '2024-09-25T13:45:00.000000000',\n",
       "       '2024-09-25T13:55:00.000000000', '2024-09-25T14:05:00.000000000',\n",
       "       '2024-09-25T14:15:00.000000000', '2024-09-25T14:25:00.000000000',\n",
       "       '2024-09-25T14:35:00.000000000', '2024-09-25T14:45:00.000000000',\n",
       "       '2024-09-25T14:55:00.000000000', '2024-09-25T15:05:00.000000000',\n",
       "       '2024-09-25T15:15:00.000000000', '2024-09-25T15:25:00.000000000',\n",
       "       '2024-09-25T15:35:00.000000000', '2024-09-25T15:45:00.000000000',\n",
       "       '2024-09-25T15:55:00.000000000', '2024-09-25T16:05:00.000000000',\n",
       "       '2024-09-25T16:15:00.000000000', '2024-09-25T16:25:00.000000000',\n",
       "       '2024-09-25T16:35:00.000000000', '2024-09-25T16:45:00.000000000',\n",
       "       '2024-09-25T16:55:00.000000000', '2024-09-25T17:05:00.000000000',\n",
       "       '2024-09-25T17:15:00.000000000', '2024-09-25T17:25:00.000000000',\n",
       "       '2024-09-25T17:35:00.000000000', '2024-09-25T17:45:00.000000000',\n",
       "       '2024-09-25T17:55:00.000000000', '2024-09-25T18:05:00.000000000',\n",
       "       '2024-09-25T18:15:00.000000000', '2024-09-25T18:25:00.000000000',\n",
       "       '2024-09-25T18:35:00.000000000', '2024-09-25T18:45:00.000000000',\n",
       "       '2024-09-25T18:55:00.000000000', '2024-09-25T19:05:00.000000000',\n",
       "       '2024-09-25T19:15:00.000000000', '2024-09-25T19:25:00.000000000',\n",
       "       '2024-09-25T19:35:00.000000000', '2024-09-25T19:45:00.000000000',\n",
       "       '2024-09-25T19:55:00.000000000', '2024-09-25T20:05:00.000000000',\n",
       "       '2024-09-25T20:15:00.000000000', '2024-09-25T20:25:00.000000000',\n",
       "       '2024-09-25T20:35:00.000000000', '2024-09-25T20:45:00.000000000',\n",
       "       '2024-09-25T20:55:00.000000000', '2024-09-25T21:05:00.000000000',\n",
       "       '2024-09-25T21:15:00.000000000', '2024-09-25T21:25:00.000000000',\n",
       "       '2024-09-25T21:35:00.000000000', '2024-09-25T21:45:00.000000000',\n",
       "       '2024-09-25T21:55:00.000000000', '2024-09-25T22:05:00.000000000',\n",
       "       '2024-09-25T22:15:00.000000000', '2024-09-25T22:25:00.000000000',\n",
       "       '2024-09-25T22:35:00.000000000', '2024-09-25T22:45:00.000000000',\n",
       "       '2024-09-25T22:55:00.000000000', '2024-09-25T23:05:00.000000000',\n",
       "       '2024-09-25T23:15:00.000000000', '2024-09-25T23:25:00.000000000',\n",
       "       '2024-09-25T23:35:00.000000000'], dtype='datetime64[ns]')"
      ]
     },
     "execution_count": 81,
     "metadata": {},
     "output_type": "execute_result"
    }
   ],
   "source": [
    "particles['time'].values"
   ]
  },
  {
   "cell_type": "code",
   "execution_count": 94,
   "id": "61ea3141-45a4-4309-981f-60e4d27ab01c",
   "metadata": {},
   "outputs": [],
   "source": [
    "plot_date = datetime(2024, 9, 24, 12,5,0)"
   ]
  },
  {
   "cell_type": "code",
   "execution_count": 95,
   "id": "47ffffc91cabd839",
   "metadata": {
    "ExecuteTime": {
     "end_time": "2024-09-23T13:31:12.824246Z",
     "start_time": "2024-09-23T13:31:12.808512Z"
    },
    "collapsed": false,
    "jupyter": {
     "outputs_hidden": false
    }
   },
   "outputs": [],
   "source": [
    "time_plot = plot_date\n",
    "particles_to_plot = filtered_particles.sel(time=time_plot)"
   ]
  },
  {
   "cell_type": "markdown",
   "id": "417ba14d-e98f-4cd0-a382-059daa61450d",
   "metadata": {},
   "source": [
    "### Transform coordinates into ch1903"
   ]
  },
  {
   "cell_type": "code",
   "execution_count": 96,
   "id": "b08ff83122e1df19",
   "metadata": {
    "ExecuteTime": {
     "end_time": "2024-09-23T13:31:14.076649Z",
     "start_time": "2024-09-23T13:31:14.057220Z"
    },
    "collapsed": false,
    "jupyter": {
     "outputs_hidden": false
    }
   },
   "outputs": [],
   "source": [
    "# point of origin in swiss grid \n",
    "XO_SG = 500000\n",
    "YO_SG = 116500\n",
    "\n",
    "# second point for tilted grid\n",
    "X1_SG = 563000\n",
    "Y1_SG = 138700\n",
    "\n",
    "# XY on mitgcm grid \n",
    "x = particles_to_plot['xtrack'].values\n",
    "y = particles_to_plot['ytrack'].values\n",
    "\n",
    "angle = get_grid_angle(XO_SG, YO_SG, X1_SG, Y1_SG)"
   ]
  },
  {
   "cell_type": "code",
   "execution_count": 97,
   "id": "3ac111a343e5e771",
   "metadata": {
    "ExecuteTime": {
     "end_time": "2024-09-23T13:31:15.485002Z",
     "start_time": "2024-09-23T13:31:15.477497Z"
    },
    "collapsed": false,
    "jupyter": {
     "outputs_hidden": false
    }
   },
   "outputs": [],
   "source": [
    "# XY on swiss grid \n",
    "x_sg = x + XO_SG\n",
    "y_sg = y + YO_SG"
   ]
  },
  {
   "cell_type": "code",
   "execution_count": 98,
   "id": "70e8a6ac34a21da0",
   "metadata": {
    "ExecuteTime": {
     "end_time": "2024-09-23T13:31:15.762298Z",
     "start_time": "2024-09-23T13:31:15.755296Z"
    },
    "collapsed": false,
    "jupyter": {
     "outputs_hidden": false
    }
   },
   "outputs": [],
   "source": [
    "x_rotated, y_rotated = rotate_grid(x_sg, y_sg, XO_SG, YO_SG, angle)"
   ]
  },
  {
   "cell_type": "markdown",
   "id": "0cd93f00-d15e-4e51-aedd-cc4b0c196ee2",
   "metadata": {},
   "source": [
    "### Get wwtp and shoreline coordinates"
   ]
  },
  {
   "cell_type": "code",
   "execution_count": 99,
   "id": "f475fd477cebc23",
   "metadata": {
    "ExecuteTime": {
     "end_time": "2024-09-23T13:31:16.695781Z",
     "start_time": "2024-09-23T13:31:16.682364Z"
    },
    "collapsed": false,
    "jupyter": {
     "outputs_hidden": false
    }
   },
   "outputs": [],
   "source": [
    "x_wwtp, y_wwtp = 534650,151350 \n",
    "xy_land = np.loadtxt(\"Q:\\Diverses\\Scratch-Disk\\Surf\\Leroquais\\geneva-field-trip_20240924\\shoreline.txt\")"
   ]
  },
  {
   "cell_type": "markdown",
   "id": "64c4f5c6-fdca-4e21-9ee5-ee249cf8cdbc",
   "metadata": {},
   "source": [
    "### Clean particles coordinates for display (nan values set to wwtp coordinates)"
   ]
  },
  {
   "cell_type": "code",
   "execution_count": 100,
   "id": "63d553f7f3f10346",
   "metadata": {
    "ExecuteTime": {
     "end_time": "2024-09-23T13:31:17.457904Z",
     "start_time": "2024-09-23T13:31:17.445240Z"
    },
    "collapsed": false,
    "jupyter": {
     "outputs_hidden": false
    }
   },
   "outputs": [],
   "source": [
    "x_rotated[x_rotated > 10**10] = x_wwtp\n",
    "y_rotated[y_rotated > 10**10] = y_wwtp"
   ]
  },
  {
   "cell_type": "markdown",
   "id": "442f96eec465bdf",
   "metadata": {
    "collapsed": false,
    "jupyter": {
     "outputs_hidden": false
    }
   },
   "source": [
    "## Add measure points"
   ]
  },
  {
   "cell_type": "code",
   "execution_count": 101,
   "id": "3f72257a38de6b67",
   "metadata": {
    "ExecuteTime": {
     "end_time": "2024-09-23T13:34:16.940976Z",
     "start_time": "2024-09-23T13:34:16.921070Z"
    },
    "collapsed": false,
    "jupyter": {
     "outputs_hidden": false
    }
   },
   "outputs": [],
   "source": [
    "meas_coordinates = [(534650,151350),\n",
    "                    (534670,151370)]\n",
    "meas_points = hv.Points((np.array(meas_coordinates)[:,0], np.array(meas_coordinates)[:,1]))\n",
    "meas_points = meas_points.opts( color='green', marker='x', size=8)"
   ]
  },
  {
   "cell_type": "markdown",
   "id": "a3c7a6f1-23c1-462f-b874-eab0b037f512",
   "metadata": {},
   "source": [
    "## Plot"
   ]
  },
  {
   "cell_type": "code",
   "execution_count": 102,
   "id": "833fe1b747491c0c",
   "metadata": {
    "ExecuteTime": {
     "end_time": "2024-09-23T13:34:17.411369Z",
     "start_time": "2024-09-23T13:34:17.391380Z"
    },
    "collapsed": false,
    "jupyter": {
     "outputs_hidden": false
    }
   },
   "outputs": [],
   "source": [
    "shoreline = hv.Curve(xy_land)\n",
    "shoreline = shoreline.opts(width=800, height=400, title= str(time_plot)[:19])"
   ]
  },
  {
   "cell_type": "code",
   "execution_count": 103,
   "id": "e31d65b1062d9f4a",
   "metadata": {
    "ExecuteTime": {
     "end_time": "2024-09-23T13:34:17.595920Z",
     "start_time": "2024-09-23T13:34:17.586235Z"
    },
    "collapsed": false,
    "jupyter": {
     "outputs_hidden": false
    }
   },
   "outputs": [],
   "source": [
    "particles_point = hv.Points(np.array([x_rotated.flatten(), y_rotated.flatten()]).transpose())\n",
    "particles_point = particles_point.opts(color='red', marker='o', size=5)"
   ]
  },
  {
   "cell_type": "code",
   "execution_count": 104,
   "id": "6bab4cbd0d44528a",
   "metadata": {
    "ExecuteTime": {
     "end_time": "2024-09-23T13:34:17.796739Z",
     "start_time": "2024-09-23T13:34:17.779905Z"
    },
    "collapsed": false,
    "jupyter": {
     "outputs_hidden": false
    }
   },
   "outputs": [],
   "source": [
    "wwtp_point = hv.Points((x_wwtp,y_wwtp))\n",
    "wwtp_point = wwtp_point.opts(color='black', marker='o', size=5)"
   ]
  },
  {
   "cell_type": "code",
   "execution_count": 105,
   "id": "2651aa288235f97c",
   "metadata": {
    "ExecuteTime": {
     "end_time": "2024-09-23T13:34:18.545245Z",
     "start_time": "2024-09-23T13:34:18.320375Z"
    },
    "collapsed": false,
    "jupyter": {
     "outputs_hidden": false
    }
   },
   "outputs": [
    {
     "data": {},
     "metadata": {},
     "output_type": "display_data"
    },
    {
     "data": {
      "application/vnd.holoviews_exec.v0+json": "",
      "text/html": [
       "<div id='p3287'>\n",
       "  <div id=\"e635d4f6-ccde-40bd-8844-7987c1fe966e\" data-root-id=\"p3287\" style=\"display: contents;\"></div>\n",
       "</div>\n",
       "<script type=\"application/javascript\">(function(root) {\n",
       "  var docs_json = {\"3ebcc5c4-1030-4b8a-a116-91170311600d\":{\"version\":\"3.3.4\",\"title\":\"Bokeh Application\",\"roots\":[{\"type\":\"object\",\"name\":\"Row\",\"id\":\"p3287\",\"attributes\":{\"name\":\"Row07283\",\"stylesheets\":[\"\\n:host(.pn-loading.pn-arc):before, .pn-loading.pn-arc:before {\\n  background-image: url(\\\"data:image/svg+xml;base64,PHN2ZyB4bWxucz0iaHR0cDovL3d3dy53My5vcmcvMjAwMC9zdmciIHN0eWxlPSJtYXJnaW46IGF1dG87IGJhY2tncm91bmQ6IG5vbmU7IGRpc3BsYXk6IGJsb2NrOyBzaGFwZS1yZW5kZXJpbmc6IGF1dG87IiB2aWV3Qm94PSIwIDAgMTAwIDEwMCIgcHJlc2VydmVBc3BlY3RSYXRpbz0ieE1pZFlNaWQiPiAgPGNpcmNsZSBjeD0iNTAiIGN5PSI1MCIgZmlsbD0ibm9uZSIgc3Ryb2tlPSIjYzNjM2MzIiBzdHJva2Utd2lkdGg9IjEwIiByPSIzNSIgc3Ryb2tlLWRhc2hhcnJheT0iMTY0LjkzMzYxNDMxMzQ2NDE1IDU2Ljk3Nzg3MTQzNzgyMTM4Ij4gICAgPGFuaW1hdGVUcmFuc2Zvcm0gYXR0cmlidXRlTmFtZT0idHJhbnNmb3JtIiB0eXBlPSJyb3RhdGUiIHJlcGVhdENvdW50PSJpbmRlZmluaXRlIiBkdXI9IjFzIiB2YWx1ZXM9IjAgNTAgNTA7MzYwIDUwIDUwIiBrZXlUaW1lcz0iMDsxIj48L2FuaW1hdGVUcmFuc2Zvcm0+ICA8L2NpcmNsZT48L3N2Zz4=\\\");\\n  background-size: auto calc(min(50%, 400px));\\n}\",{\"type\":\"object\",\"name\":\"ImportedStyleSheet\",\"id\":\"p3290\",\"attributes\":{\"url\":\"https://cdn.holoviz.org/panel/1.3.8/dist/css/loading.css\"}},{\"type\":\"object\",\"name\":\"ImportedStyleSheet\",\"id\":\"p3405\",\"attributes\":{\"url\":\"https://cdn.holoviz.org/panel/1.3.8/dist/css/listpanel.css\"}},{\"type\":\"object\",\"name\":\"ImportedStyleSheet\",\"id\":\"p3288\",\"attributes\":{\"url\":\"https://cdn.holoviz.org/panel/1.3.8/dist/bundled/theme/default.css\"}},{\"type\":\"object\",\"name\":\"ImportedStyleSheet\",\"id\":\"p3289\",\"attributes\":{\"url\":\"https://cdn.holoviz.org/panel/1.3.8/dist/bundled/theme/native.css\"}}],\"min_width\":800,\"margin\":0,\"sizing_mode\":\"stretch_width\",\"align\":\"start\",\"children\":[{\"type\":\"object\",\"name\":\"Spacer\",\"id\":\"p3291\",\"attributes\":{\"name\":\"HSpacer07287\",\"stylesheets\":[\"\\n:host(.pn-loading.pn-arc):before, .pn-loading.pn-arc:before {\\n  background-image: url(\\\"data:image/svg+xml;base64,PHN2ZyB4bWxucz0iaHR0cDovL3d3dy53My5vcmcvMjAwMC9zdmciIHN0eWxlPSJtYXJnaW46IGF1dG87IGJhY2tncm91bmQ6IG5vbmU7IGRpc3BsYXk6IGJsb2NrOyBzaGFwZS1yZW5kZXJpbmc6IGF1dG87IiB2aWV3Qm94PSIwIDAgMTAwIDEwMCIgcHJlc2VydmVBc3BlY3RSYXRpbz0ieE1pZFlNaWQiPiAgPGNpcmNsZSBjeD0iNTAiIGN5PSI1MCIgZmlsbD0ibm9uZSIgc3Ryb2tlPSIjYzNjM2MzIiBzdHJva2Utd2lkdGg9IjEwIiByPSIzNSIgc3Ryb2tlLWRhc2hhcnJheT0iMTY0LjkzMzYxNDMxMzQ2NDE1IDU2Ljk3Nzg3MTQzNzgyMTM4Ij4gICAgPGFuaW1hdGVUcmFuc2Zvcm0gYXR0cmlidXRlTmFtZT0idHJhbnNmb3JtIiB0eXBlPSJyb3RhdGUiIHJlcGVhdENvdW50PSJpbmRlZmluaXRlIiBkdXI9IjFzIiB2YWx1ZXM9IjAgNTAgNTA7MzYwIDUwIDUwIiBrZXlUaW1lcz0iMDsxIj48L2FuaW1hdGVUcmFuc2Zvcm0+ICA8L2NpcmNsZT48L3N2Zz4=\\\");\\n  background-size: auto calc(min(50%, 400px));\\n}\",{\"id\":\"p3290\"},{\"id\":\"p3288\"},{\"id\":\"p3289\"}],\"margin\":0,\"sizing_mode\":\"stretch_width\",\"align\":\"start\"}},{\"type\":\"object\",\"name\":\"Figure\",\"id\":\"p3306\",\"attributes\":{\"subscribed_events\":{\"type\":\"set\",\"entries\":[\"doubletap\",\"tap\"]},\"width\":800,\"height\":400,\"margin\":[5,10],\"sizing_mode\":\"fixed\",\"align\":\"start\",\"x_range\":{\"type\":\"object\",\"name\":\"Range1d\",\"id\":\"p3292\",\"attributes\":{\"tags\":[[[\"x\",\"x\",null]],[]],\"start\":500035.0,\"end\":560948.0,\"reset_start\":500035.0,\"reset_end\":560948.0}},\"y_range\":{\"type\":\"object\",\"name\":\"Range1d\",\"id\":\"p3293\",\"attributes\":{\"tags\":[[[\"y\",\"y\",null]],{\"type\":\"map\",\"entries\":[[\"invert_yaxis\",false],[\"autorange\",false]]}],\"start\":114336.6,\"end\":155765.4,\"reset_start\":114336.6,\"reset_end\":155765.4}},\"x_scale\":{\"type\":\"object\",\"name\":\"LinearScale\",\"id\":\"p3316\"},\"y_scale\":{\"type\":\"object\",\"name\":\"LinearScale\",\"id\":\"p3317\"},\"title\":{\"type\":\"object\",\"name\":\"Title\",\"id\":\"p3309\",\"attributes\":{\"text\":\"2024-09-24 12:05:00\",\"text_color\":\"black\",\"text_font_size\":\"12pt\"}},\"renderers\":[{\"type\":\"object\",\"name\":\"GlyphRenderer\",\"id\":\"p3346\",\"attributes\":{\"data_source\":{\"type\":\"object\",\"name\":\"ColumnDataSource\",\"id\":\"p3337\",\"attributes\":{\"selected\":{\"type\":\"object\",\"name\":\"Selection\",\"id\":\"p3338\",\"attributes\":{\"indices\":[],\"line_indices\":[]}},\"selection_policy\":{\"type\":\"object\",\"name\":\"UnionRenderers\",\"id\":\"p3339\"},\"data\":{\"type\":\"map\",\"entries\":[[\"x\",{\"type\":\"ndarray\",\"array\":{\"type\":\"bytes\",\"data\":\"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\"},\"shape\":[2219],\"dtype\":\"float64\",\"order\":\"little\"}],[\"y\",{\"type\":\"ndarray\",\"array\":{\"type\":\"bytes\",\"data\":\"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\"},\"shape\":[2219],\"dtype\":\"float64\",\"order\":\"little\"}]]}}},\"view\":{\"type\":\"object\",\"name\":\"CDSView\",\"id\":\"p3347\",\"attributes\":{\"filter\":{\"type\":\"object\",\"name\":\"AllIndices\",\"id\":\"p3348\"}}},\"glyph\":{\"type\":\"object\",\"name\":\"Line\",\"id\":\"p3343\",\"attributes\":{\"tags\":[\"apply_ranges\"],\"x\":{\"type\":\"field\",\"field\":\"x\"},\"y\":{\"type\":\"field\",\"field\":\"y\"},\"line_color\":\"#30a2da\",\"line_width\":2}},\"selection_glyph\":{\"type\":\"object\",\"name\":\"Line\",\"id\":\"p3349\",\"attributes\":{\"tags\":[\"apply_ranges\"],\"x\":{\"type\":\"field\",\"field\":\"x\"},\"y\":{\"type\":\"field\",\"field\":\"y\"},\"line_color\":\"#30a2da\",\"line_width\":2}},\"nonselection_glyph\":{\"type\":\"object\",\"name\":\"Line\",\"id\":\"p3344\",\"attributes\":{\"tags\":[\"apply_ranges\"],\"x\":{\"type\":\"field\",\"field\":\"x\"},\"y\":{\"type\":\"field\",\"field\":\"y\"},\"line_color\":\"#30a2da\",\"line_alpha\":0.1,\"line_width\":2}},\"muted_glyph\":{\"type\":\"object\",\"name\":\"Line\",\"id\":\"p3345\",\"attributes\":{\"tags\":[\"apply_ranges\"],\"x\":{\"type\":\"field\",\"field\":\"x\"},\"y\":{\"type\":\"field\",\"field\":\"y\"},\"line_color\":\"#30a2da\",\"line_alpha\":0.2,\"line_width\":2}}}},{\"type\":\"object\",\"name\":\"GlyphRenderer\",\"id\":\"p3359\",\"attributes\":{\"data_source\":{\"type\":\"object\",\"name\":\"ColumnDataSource\",\"id\":\"p3350\",\"attributes\":{\"selected\":{\"type\":\"object\",\"name\":\"Selection\",\"id\":\"p3351\",\"attributes\":{\"indices\":[],\"line_indices\":[]}},\"selection_policy\":{\"type\":\"object\",\"name\":\"UnionRenderers\",\"id\":\"p3352\"},\"data\":{\"type\":\"map\",\"entries\":[[\"x\",{\"type\":\"ndarray\",\"array\":{\"type\":\"bytes\",\"data\":\"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\"},\"shape\":[3800],\"dtype\":\"float64\",\"order\":\"little\"}],[\"y\",{\"type\":\"ndarray\",\"array\":{\"type\":\"bytes\",\"data\":\"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\"},\"shape\":[3800],\"dtype\":\"float64\",\"order\":\"little\"}]]}}},\"view\":{\"type\":\"object\",\"name\":\"CDSView\",\"id\":\"p3360\",\"attributes\":{\"filter\":{\"type\":\"object\",\"name\":\"AllIndices\",\"id\":\"p3361\"}}},\"glyph\":{\"type\":\"object\",\"name\":\"Scatter\",\"id\":\"p3356\",\"attributes\":{\"tags\":[\"apply_ranges\"],\"x\":{\"type\":\"field\",\"field\":\"x\"},\"y\":{\"type\":\"field\",\"field\":\"y\"},\"size\":{\"type\":\"value\",\"value\":5},\"line_color\":{\"type\":\"value\",\"value\":\"red\"},\"fill_color\":{\"type\":\"value\",\"value\":\"red\"},\"hatch_color\":{\"type\":\"value\",\"value\":\"red\"}}},\"selection_glyph\":{\"type\":\"object\",\"name\":\"Scatter\",\"id\":\"p3362\",\"attributes\":{\"tags\":[\"apply_ranges\"],\"x\":{\"type\":\"field\",\"field\":\"x\"},\"y\":{\"type\":\"field\",\"field\":\"y\"},\"size\":{\"type\":\"value\",\"value\":5},\"angle\":{\"type\":\"value\",\"value\":0.0},\"line_color\":{\"type\":\"value\",\"value\":\"red\"},\"line_alpha\":{\"type\":\"value\",\"value\":1.0},\"line_width\":{\"type\":\"value\",\"value\":1},\"line_join\":{\"type\":\"value\",\"value\":\"bevel\"},\"line_cap\":{\"type\":\"value\",\"value\":\"butt\"},\"line_dash\":{\"type\":\"value\",\"value\":[]},\"line_dash_offset\":{\"type\":\"value\",\"value\":0},\"fill_color\":{\"type\":\"value\",\"value\":\"red\"},\"fill_alpha\":{\"type\":\"value\",\"value\":1.0},\"hatch_color\":{\"type\":\"value\",\"value\":\"red\"},\"hatch_alpha\":{\"type\":\"value\",\"value\":1.0},\"hatch_scale\":{\"type\":\"value\",\"value\":12.0},\"hatch_pattern\":{\"type\":\"value\",\"value\":null},\"hatch_weight\":{\"type\":\"value\",\"value\":1.0},\"marker\":{\"type\":\"value\",\"value\":\"circle\"}}},\"nonselection_glyph\":{\"type\":\"object\",\"name\":\"Scatter\",\"id\":\"p3357\",\"attributes\":{\"tags\":[\"apply_ranges\"],\"x\":{\"type\":\"field\",\"field\":\"x\"},\"y\":{\"type\":\"field\",\"field\":\"y\"},\"size\":{\"type\":\"value\",\"value\":5},\"line_color\":{\"type\":\"value\",\"value\":\"red\"},\"line_alpha\":{\"type\":\"value\",\"value\":0.1},\"fill_color\":{\"type\":\"value\",\"value\":\"red\"},\"fill_alpha\":{\"type\":\"value\",\"value\":0.1},\"hatch_color\":{\"type\":\"value\",\"value\":\"red\"},\"hatch_alpha\":{\"type\":\"value\",\"value\":0.1}}},\"muted_glyph\":{\"type\":\"object\",\"name\":\"Scatter\",\"id\":\"p3358\",\"attributes\":{\"tags\":[\"apply_ranges\"],\"x\":{\"type\":\"field\",\"field\":\"x\"},\"y\":{\"type\":\"field\",\"field\":\"y\"},\"size\":{\"type\":\"value\",\"value\":5},\"line_color\":{\"type\":\"value\",\"value\":\"red\"},\"line_alpha\":{\"type\":\"value\",\"value\":0.2},\"fill_color\":{\"type\":\"value\",\"value\":\"red\"},\"fill_alpha\":{\"type\":\"value\",\"value\":0.2},\"hatch_color\":{\"type\":\"value\",\"value\":\"red\"},\"hatch_alpha\":{\"type\":\"value\",\"value\":0.2}}}}},{\"type\":\"object\",\"name\":\"GlyphRenderer\",\"id\":\"p3372\",\"attributes\":{\"data_source\":{\"type\":\"object\",\"name\":\"ColumnDataSource\",\"id\":\"p3363\",\"attributes\":{\"selected\":{\"type\":\"object\",\"name\":\"Selection\",\"id\":\"p3364\",\"attributes\":{\"indices\":[],\"line_indices\":[]}},\"selection_policy\":{\"type\":\"object\",\"name\":\"UnionRenderers\",\"id\":\"p3365\"},\"data\":{\"type\":\"map\",\"entries\":[[\"x\",{\"type\":\"ndarray\",\"array\":{\"type\":\"bytes\",\"data\":\"eigIAA==\"},\"shape\":[1],\"dtype\":\"int32\",\"order\":\"little\"}],[\"y\",{\"type\":\"ndarray\",\"array\":{\"type\":\"bytes\",\"data\":\"Nk8CAA==\"},\"shape\":[1],\"dtype\":\"int32\",\"order\":\"little\"}]]}}},\"view\":{\"type\":\"object\",\"name\":\"CDSView\",\"id\":\"p3373\",\"attributes\":{\"filter\":{\"type\":\"object\",\"name\":\"AllIndices\",\"id\":\"p3374\"}}},\"glyph\":{\"type\":\"object\",\"name\":\"Scatter\",\"id\":\"p3369\",\"attributes\":{\"tags\":[\"apply_ranges\"],\"x\":{\"type\":\"field\",\"field\":\"x\"},\"y\":{\"type\":\"field\",\"field\":\"y\"},\"size\":{\"type\":\"value\",\"value\":5},\"fill_color\":{\"type\":\"value\",\"value\":\"black\"}}},\"selection_glyph\":{\"type\":\"object\",\"name\":\"Scatter\",\"id\":\"p3375\",\"attributes\":{\"tags\":[\"apply_ranges\"],\"x\":{\"type\":\"field\",\"field\":\"x\"},\"y\":{\"type\":\"field\",\"field\":\"y\"},\"size\":{\"type\":\"value\",\"value\":5},\"angle\":{\"type\":\"value\",\"value\":0.0},\"line_color\":{\"type\":\"value\",\"value\":\"black\"},\"line_alpha\":{\"type\":\"value\",\"value\":1.0},\"line_width\":{\"type\":\"value\",\"value\":1},\"line_join\":{\"type\":\"value\",\"value\":\"bevel\"},\"line_cap\":{\"type\":\"value\",\"value\":\"butt\"},\"line_dash\":{\"type\":\"value\",\"value\":[]},\"line_dash_offset\":{\"type\":\"value\",\"value\":0},\"fill_color\":{\"type\":\"value\",\"value\":\"black\"},\"fill_alpha\":{\"type\":\"value\",\"value\":1.0},\"hatch_color\":{\"type\":\"value\",\"value\":\"black\"},\"hatch_alpha\":{\"type\":\"value\",\"value\":1.0},\"hatch_scale\":{\"type\":\"value\",\"value\":12.0},\"hatch_pattern\":{\"type\":\"value\",\"value\":null},\"hatch_weight\":{\"type\":\"value\",\"value\":1.0},\"marker\":{\"type\":\"value\",\"value\":\"circle\"}}},\"nonselection_glyph\":{\"type\":\"object\",\"name\":\"Scatter\",\"id\":\"p3370\",\"attributes\":{\"tags\":[\"apply_ranges\"],\"x\":{\"type\":\"field\",\"field\":\"x\"},\"y\":{\"type\":\"field\",\"field\":\"y\"},\"size\":{\"type\":\"value\",\"value\":5},\"line_alpha\":{\"type\":\"value\",\"value\":0.1},\"fill_color\":{\"type\":\"value\",\"value\":\"black\"},\"fill_alpha\":{\"type\":\"value\",\"value\":0.1},\"hatch_alpha\":{\"type\":\"value\",\"value\":0.1}}},\"muted_glyph\":{\"type\":\"object\",\"name\":\"Scatter\",\"id\":\"p3371\",\"attributes\":{\"tags\":[\"apply_ranges\"],\"x\":{\"type\":\"field\",\"field\":\"x\"},\"y\":{\"type\":\"field\",\"field\":\"y\"},\"size\":{\"type\":\"value\",\"value\":5},\"line_alpha\":{\"type\":\"value\",\"value\":0.2},\"fill_color\":{\"type\":\"value\",\"value\":\"black\"},\"fill_alpha\":{\"type\":\"value\",\"value\":0.2},\"hatch_alpha\":{\"type\":\"value\",\"value\":0.2}}}}},{\"type\":\"object\",\"name\":\"GlyphRenderer\",\"id\":\"p3385\",\"attributes\":{\"data_source\":{\"type\":\"object\",\"name\":\"ColumnDataSource\",\"id\":\"p3376\",\"attributes\":{\"selected\":{\"type\":\"object\",\"name\":\"Selection\",\"id\":\"p3377\",\"attributes\":{\"indices\":[],\"line_indices\":[]}},\"selection_policy\":{\"type\":\"object\",\"name\":\"UnionRenderers\",\"id\":\"p3378\"},\"data\":{\"type\":\"map\",\"entries\":[[\"x\",{\"type\":\"ndarray\",\"array\":{\"type\":\"bytes\",\"data\":\"eigIAI4oCAA=\"},\"shape\":[2],\"dtype\":\"int32\",\"order\":\"little\"}],[\"y\",{\"type\":\"ndarray\",\"array\":{\"type\":\"bytes\",\"data\":\"Nk8CAEpPAgA=\"},\"shape\":[2],\"dtype\":\"int32\",\"order\":\"little\"}]]}}},\"view\":{\"type\":\"object\",\"name\":\"CDSView\",\"id\":\"p3386\",\"attributes\":{\"filter\":{\"type\":\"object\",\"name\":\"AllIndices\",\"id\":\"p3387\"}}},\"glyph\":{\"type\":\"object\",\"name\":\"Scatter\",\"id\":\"p3382\",\"attributes\":{\"tags\":[\"apply_ranges\"],\"x\":{\"type\":\"field\",\"field\":\"x\"},\"y\":{\"type\":\"field\",\"field\":\"y\"},\"size\":{\"type\":\"value\",\"value\":8},\"angle\":{\"type\":\"value\",\"value\":0.7853981633974483},\"line_color\":{\"type\":\"value\",\"value\":\"green\"},\"fill_color\":{\"type\":\"value\",\"value\":\"green\"},\"hatch_color\":{\"type\":\"value\",\"value\":\"green\"},\"marker\":{\"type\":\"value\",\"value\":\"cross\"}}},\"selection_glyph\":{\"type\":\"object\",\"name\":\"Scatter\",\"id\":\"p3388\",\"attributes\":{\"tags\":[\"apply_ranges\"],\"x\":{\"type\":\"field\",\"field\":\"x\"},\"y\":{\"type\":\"field\",\"field\":\"y\"},\"size\":{\"type\":\"value\",\"value\":8},\"angle\":{\"type\":\"value\",\"value\":0.7853981633974483},\"line_color\":{\"type\":\"value\",\"value\":\"green\"},\"line_alpha\":{\"type\":\"value\",\"value\":1.0},\"line_width\":{\"type\":\"value\",\"value\":1},\"line_join\":{\"type\":\"value\",\"value\":\"bevel\"},\"line_cap\":{\"type\":\"value\",\"value\":\"butt\"},\"line_dash\":{\"type\":\"value\",\"value\":[]},\"line_dash_offset\":{\"type\":\"value\",\"value\":0},\"fill_color\":{\"type\":\"value\",\"value\":\"green\"},\"fill_alpha\":{\"type\":\"value\",\"value\":1.0},\"hatch_color\":{\"type\":\"value\",\"value\":\"green\"},\"hatch_alpha\":{\"type\":\"value\",\"value\":1.0},\"hatch_scale\":{\"type\":\"value\",\"value\":12.0},\"hatch_pattern\":{\"type\":\"value\",\"value\":null},\"hatch_weight\":{\"type\":\"value\",\"value\":1.0},\"marker\":{\"type\":\"value\",\"value\":\"cross\"}}},\"nonselection_glyph\":{\"type\":\"object\",\"name\":\"Scatter\",\"id\":\"p3383\",\"attributes\":{\"tags\":[\"apply_ranges\"],\"x\":{\"type\":\"field\",\"field\":\"x\"},\"y\":{\"type\":\"field\",\"field\":\"y\"},\"size\":{\"type\":\"value\",\"value\":8},\"angle\":{\"type\":\"value\",\"value\":0.7853981633974483},\"line_color\":{\"type\":\"value\",\"value\":\"green\"},\"line_alpha\":{\"type\":\"value\",\"value\":0.1},\"fill_color\":{\"type\":\"value\",\"value\":\"green\"},\"fill_alpha\":{\"type\":\"value\",\"value\":0.1},\"hatch_color\":{\"type\":\"value\",\"value\":\"green\"},\"hatch_alpha\":{\"type\":\"value\",\"value\":0.1},\"marker\":{\"type\":\"value\",\"value\":\"cross\"}}},\"muted_glyph\":{\"type\":\"object\",\"name\":\"Scatter\",\"id\":\"p3384\",\"attributes\":{\"tags\":[\"apply_ranges\"],\"x\":{\"type\":\"field\",\"field\":\"x\"},\"y\":{\"type\":\"field\",\"field\":\"y\"},\"size\":{\"type\":\"value\",\"value\":8},\"angle\":{\"type\":\"value\",\"value\":0.7853981633974483},\"line_color\":{\"type\":\"value\",\"value\":\"green\"},\"line_alpha\":{\"type\":\"value\",\"value\":0.2},\"fill_color\":{\"type\":\"value\",\"value\":\"green\"},\"fill_alpha\":{\"type\":\"value\",\"value\":0.2},\"hatch_color\":{\"type\":\"value\",\"value\":\"green\"},\"hatch_alpha\":{\"type\":\"value\",\"value\":0.2},\"marker\":{\"type\":\"value\",\"value\":\"cross\"}}}}},{\"type\":\"object\",\"name\":\"GlyphRenderer\",\"id\":\"p3398\",\"attributes\":{\"data_source\":{\"type\":\"object\",\"name\":\"ColumnDataSource\",\"id\":\"p3389\",\"attributes\":{\"selected\":{\"type\":\"object\",\"name\":\"Selection\",\"id\":\"p3390\",\"attributes\":{\"indices\":[],\"line_indices\":[]}},\"selection_policy\":{\"type\":\"object\",\"name\":\"UnionRenderers\",\"id\":\"p3391\"},\"data\":{\"type\":\"map\",\"entries\":[[\"x\",[{\"type\":\"number\",\"value\":\"nan\"}]],[\"y\",[{\"type\":\"number\",\"value\":\"nan\"}]],[\"text\",[\"(nan, nan)\"]]]}}},\"view\":{\"type\":\"object\",\"name\":\"CDSView\",\"id\":\"p3399\",\"attributes\":{\"filter\":{\"type\":\"object\",\"name\":\"AllIndices\",\"id\":\"p3400\"}}},\"glyph\":{\"type\":\"object\",\"name\":\"Text\",\"id\":\"p3395\",\"attributes\":{\"tags\":[\"apply_ranges\"],\"x\":{\"type\":\"field\",\"field\":\"x\"},\"y\":{\"type\":\"field\",\"field\":\"y\"},\"text\":{\"type\":\"field\",\"field\":\"text\"},\"text_color\":{\"type\":\"value\",\"value\":\"black\"},\"text_font_size\":{\"type\":\"value\",\"value\":\"12Pt\"},\"text_align\":{\"type\":\"value\",\"value\":\"center\"},\"text_baseline\":{\"type\":\"value\",\"value\":\"middle\"}}},\"selection_glyph\":{\"type\":\"object\",\"name\":\"Text\",\"id\":\"p3401\",\"attributes\":{\"tags\":[\"apply_ranges\"],\"x\":{\"type\":\"field\",\"field\":\"x\"},\"y\":{\"type\":\"field\",\"field\":\"y\"},\"text\":{\"type\":\"field\",\"field\":\"text\"},\"angle\":{\"type\":\"value\",\"value\":0.0},\"x_offset\":{\"type\":\"value\",\"value\":0},\"y_offset\":{\"type\":\"value\",\"value\":0},\"text_color\":{\"type\":\"value\",\"value\":\"black\"},\"text_outline_color\":{\"type\":\"value\",\"value\":null},\"text_alpha\":{\"type\":\"value\",\"value\":1.0},\"text_font_size\":{\"type\":\"value\",\"value\":\"12Pt\"},\"text_font_style\":{\"type\":\"value\",\"value\":\"normal\"},\"text_align\":{\"type\":\"value\",\"value\":\"center\"},\"text_baseline\":{\"type\":\"value\",\"value\":\"middle\"},\"text_line_height\":{\"type\":\"value\",\"value\":1.2},\"background_fill_color\":{\"type\":\"value\",\"value\":null},\"background_fill_alpha\":{\"type\":\"value\",\"value\":1.0},\"background_hatch_color\":{\"type\":\"value\",\"value\":null},\"background_hatch_alpha\":{\"type\":\"value\",\"value\":1.0},\"background_hatch_scale\":{\"type\":\"value\",\"value\":12.0},\"background_hatch_pattern\":{\"type\":\"value\",\"value\":null},\"background_hatch_weight\":{\"type\":\"value\",\"value\":1.0},\"border_line_color\":{\"type\":\"value\",\"value\":null},\"border_line_alpha\":{\"type\":\"value\",\"value\":1.0},\"border_line_width\":{\"type\":\"value\",\"value\":1},\"border_line_join\":{\"type\":\"value\",\"value\":\"bevel\"},\"border_line_cap\":{\"type\":\"value\",\"value\":\"butt\"},\"border_line_dash\":{\"type\":\"value\",\"value\":[]},\"border_line_dash_offset\":{\"type\":\"value\",\"value\":0}}},\"nonselection_glyph\":{\"type\":\"object\",\"name\":\"Text\",\"id\":\"p3396\",\"attributes\":{\"tags\":[\"apply_ranges\"],\"x\":{\"type\":\"field\",\"field\":\"x\"},\"y\":{\"type\":\"field\",\"field\":\"y\"},\"text\":{\"type\":\"field\",\"field\":\"text\"},\"text_color\":{\"type\":\"value\",\"value\":\"black\"},\"text_alpha\":{\"type\":\"value\",\"value\":0.1},\"text_font_size\":{\"type\":\"value\",\"value\":\"12Pt\"},\"text_align\":{\"type\":\"value\",\"value\":\"center\"},\"text_baseline\":{\"type\":\"value\",\"value\":\"middle\"}}},\"muted_glyph\":{\"type\":\"object\",\"name\":\"Text\",\"id\":\"p3397\",\"attributes\":{\"tags\":[\"apply_ranges\"],\"x\":{\"type\":\"field\",\"field\":\"x\"},\"y\":{\"type\":\"field\",\"field\":\"y\"},\"text\":{\"type\":\"field\",\"field\":\"text\"},\"text_color\":{\"type\":\"value\",\"value\":\"black\"},\"text_alpha\":{\"type\":\"value\",\"value\":0.2},\"text_font_size\":{\"type\":\"value\",\"value\":\"12Pt\"},\"text_align\":{\"type\":\"value\",\"value\":\"center\"},\"text_baseline\":{\"type\":\"value\",\"value\":\"middle\"}}}}}],\"toolbar\":{\"type\":\"object\",\"name\":\"Toolbar\",\"id\":\"p3315\",\"attributes\":{\"tools\":[{\"type\":\"object\",\"name\":\"WheelZoomTool\",\"id\":\"p3297\",\"attributes\":{\"tags\":[\"hv_created\"],\"renderers\":\"auto\",\"zoom_together\":\"none\"}},{\"type\":\"object\",\"name\":\"SaveTool\",\"id\":\"p3328\"},{\"type\":\"object\",\"name\":\"PanTool\",\"id\":\"p3329\"},{\"type\":\"object\",\"name\":\"BoxZoomTool\",\"id\":\"p3330\",\"attributes\":{\"overlay\":{\"type\":\"object\",\"name\":\"BoxAnnotation\",\"id\":\"p3331\",\"attributes\":{\"syncable\":false,\"level\":\"overlay\",\"visible\":false,\"left\":{\"type\":\"number\",\"value\":\"nan\"},\"right\":{\"type\":\"number\",\"value\":\"nan\"},\"top\":{\"type\":\"number\",\"value\":\"nan\"},\"bottom\":{\"type\":\"number\",\"value\":\"nan\"},\"left_units\":\"canvas\",\"right_units\":\"canvas\",\"top_units\":\"canvas\",\"bottom_units\":\"canvas\",\"line_color\":\"black\",\"line_alpha\":1.0,\"line_width\":2,\"line_dash\":[4,4],\"fill_color\":\"lightgrey\",\"fill_alpha\":0.5}}}},{\"type\":\"object\",\"name\":\"ResetTool\",\"id\":\"p3336\"}],\"active_drag\":{\"id\":\"p3329\"},\"active_scroll\":{\"id\":\"p3297\"}}},\"left\":[{\"type\":\"object\",\"name\":\"LinearAxis\",\"id\":\"p3323\",\"attributes\":{\"ticker\":{\"type\":\"object\",\"name\":\"BasicTicker\",\"id\":\"p3324\",\"attributes\":{\"mantissas\":[1,2,5]}},\"formatter\":{\"type\":\"object\",\"name\":\"BasicTickFormatter\",\"id\":\"p3325\"},\"axis_label\":\"y\",\"axis_label_text_font_size\":\"12pt\",\"major_label_policy\":{\"type\":\"object\",\"name\":\"AllLabels\",\"id\":\"p3326\"}}}],\"below\":[{\"type\":\"object\",\"name\":\"LinearAxis\",\"id\":\"p3318\",\"attributes\":{\"ticker\":{\"type\":\"object\",\"name\":\"BasicTicker\",\"id\":\"p3319\",\"attributes\":{\"mantissas\":[1,2,5]}},\"formatter\":{\"type\":\"object\",\"name\":\"BasicTickFormatter\",\"id\":\"p3320\"},\"axis_label\":\"x\",\"axis_label_text_font_size\":\"12pt\",\"major_label_policy\":{\"type\":\"object\",\"name\":\"AllLabels\",\"id\":\"p3321\"}}}],\"center\":[{\"type\":\"object\",\"name\":\"Grid\",\"id\":\"p3322\",\"attributes\":{\"axis\":{\"id\":\"p3318\"},\"grid_line_color\":null}},{\"type\":\"object\",\"name\":\"Grid\",\"id\":\"p3327\",\"attributes\":{\"dimension\":1,\"axis\":{\"id\":\"p3323\"},\"grid_line_color\":null}}],\"min_border_top\":10,\"min_border_bottom\":10,\"min_border_left\":10,\"min_border_right\":10,\"output_backend\":\"webgl\"}},{\"type\":\"object\",\"name\":\"Spacer\",\"id\":\"p3403\",\"attributes\":{\"name\":\"HSpacer07288\",\"stylesheets\":[\"\\n:host(.pn-loading.pn-arc):before, .pn-loading.pn-arc:before {\\n  background-image: url(\\\"data:image/svg+xml;base64,PHN2ZyB4bWxucz0iaHR0cDovL3d3dy53My5vcmcvMjAwMC9zdmciIHN0eWxlPSJtYXJnaW46IGF1dG87IGJhY2tncm91bmQ6IG5vbmU7IGRpc3BsYXk6IGJsb2NrOyBzaGFwZS1yZW5kZXJpbmc6IGF1dG87IiB2aWV3Qm94PSIwIDAgMTAwIDEwMCIgcHJlc2VydmVBc3BlY3RSYXRpbz0ieE1pZFlNaWQiPiAgPGNpcmNsZSBjeD0iNTAiIGN5PSI1MCIgZmlsbD0ibm9uZSIgc3Ryb2tlPSIjYzNjM2MzIiBzdHJva2Utd2lkdGg9IjEwIiByPSIzNSIgc3Ryb2tlLWRhc2hhcnJheT0iMTY0LjkzMzYxNDMxMzQ2NDE1IDU2Ljk3Nzg3MTQzNzgyMTM4Ij4gICAgPGFuaW1hdGVUcmFuc2Zvcm0gYXR0cmlidXRlTmFtZT0idHJhbnNmb3JtIiB0eXBlPSJyb3RhdGUiIHJlcGVhdENvdW50PSJpbmRlZmluaXRlIiBkdXI9IjFzIiB2YWx1ZXM9IjAgNTAgNTA7MzYwIDUwIDUwIiBrZXlUaW1lcz0iMDsxIj48L2FuaW1hdGVUcmFuc2Zvcm0+ICA8L2NpcmNsZT48L3N2Zz4=\\\");\\n  background-size: auto calc(min(50%, 400px));\\n}\",{\"id\":\"p3290\"},{\"id\":\"p3288\"},{\"id\":\"p3289\"}],\"margin\":0,\"sizing_mode\":\"stretch_width\",\"align\":\"start\"}}]}},{\"type\":\"object\",\"name\":\"panel.models.comm_manager.CommManager\",\"id\":\"p3406\",\"attributes\":{\"plot_id\":\"p3287\",\"comm_id\":\"ab289ff23636469cb06d7edb968c8dba\",\"client_comm_id\":\"d8168de202574ccc97288085fa0ff778\"}}],\"defs\":[{\"type\":\"model\",\"name\":\"ReactiveHTML1\"},{\"type\":\"model\",\"name\":\"FlexBox1\",\"properties\":[{\"name\":\"align_content\",\"kind\":\"Any\",\"default\":\"flex-start\"},{\"name\":\"align_items\",\"kind\":\"Any\",\"default\":\"flex-start\"},{\"name\":\"flex_direction\",\"kind\":\"Any\",\"default\":\"row\"},{\"name\":\"flex_wrap\",\"kind\":\"Any\",\"default\":\"wrap\"},{\"name\":\"justify_content\",\"kind\":\"Any\",\"default\":\"flex-start\"}]},{\"type\":\"model\",\"name\":\"FloatPanel1\",\"properties\":[{\"name\":\"config\",\"kind\":\"Any\",\"default\":{\"type\":\"map\"}},{\"name\":\"contained\",\"kind\":\"Any\",\"default\":true},{\"name\":\"position\",\"kind\":\"Any\",\"default\":\"right-top\"},{\"name\":\"offsetx\",\"kind\":\"Any\",\"default\":null},{\"name\":\"offsety\",\"kind\":\"Any\",\"default\":null},{\"name\":\"theme\",\"kind\":\"Any\",\"default\":\"primary\"},{\"name\":\"status\",\"kind\":\"Any\",\"default\":\"normalized\"}]},{\"type\":\"model\",\"name\":\"GridStack1\",\"properties\":[{\"name\":\"mode\",\"kind\":\"Any\",\"default\":\"warn\"},{\"name\":\"ncols\",\"kind\":\"Any\",\"default\":null},{\"name\":\"nrows\",\"kind\":\"Any\",\"default\":null},{\"name\":\"allow_resize\",\"kind\":\"Any\",\"default\":true},{\"name\":\"allow_drag\",\"kind\":\"Any\",\"default\":true},{\"name\":\"state\",\"kind\":\"Any\",\"default\":[]}]},{\"type\":\"model\",\"name\":\"drag1\",\"properties\":[{\"name\":\"slider_width\",\"kind\":\"Any\",\"default\":5},{\"name\":\"slider_color\",\"kind\":\"Any\",\"default\":\"black\"},{\"name\":\"value\",\"kind\":\"Any\",\"default\":50}]},{\"type\":\"model\",\"name\":\"click1\",\"properties\":[{\"name\":\"terminal_output\",\"kind\":\"Any\",\"default\":\"\"},{\"name\":\"debug_name\",\"kind\":\"Any\",\"default\":\"\"},{\"name\":\"clears\",\"kind\":\"Any\",\"default\":0}]},{\"type\":\"model\",\"name\":\"copy_to_clipboard1\",\"properties\":[{\"name\":\"fill\",\"kind\":\"Any\",\"default\":\"none\"},{\"name\":\"value\",\"kind\":\"Any\",\"default\":null}]},{\"type\":\"model\",\"name\":\"FastWrapper1\",\"properties\":[{\"name\":\"object\",\"kind\":\"Any\",\"default\":null},{\"name\":\"style\",\"kind\":\"Any\",\"default\":null}]},{\"type\":\"model\",\"name\":\"NotificationAreaBase1\",\"properties\":[{\"name\":\"js_events\",\"kind\":\"Any\",\"default\":{\"type\":\"map\"}},{\"name\":\"position\",\"kind\":\"Any\",\"default\":\"bottom-right\"},{\"name\":\"_clear\",\"kind\":\"Any\",\"default\":0}]},{\"type\":\"model\",\"name\":\"NotificationArea1\",\"properties\":[{\"name\":\"js_events\",\"kind\":\"Any\",\"default\":{\"type\":\"map\"}},{\"name\":\"notifications\",\"kind\":\"Any\",\"default\":[]},{\"name\":\"position\",\"kind\":\"Any\",\"default\":\"bottom-right\"},{\"name\":\"_clear\",\"kind\":\"Any\",\"default\":0},{\"name\":\"types\",\"kind\":\"Any\",\"default\":[{\"type\":\"map\",\"entries\":[[\"type\",\"warning\"],[\"background\",\"#ffc107\"],[\"icon\",{\"type\":\"map\",\"entries\":[[\"className\",\"fas fa-exclamation-triangle\"],[\"tagName\",\"i\"],[\"color\",\"white\"]]}]]},{\"type\":\"map\",\"entries\":[[\"type\",\"info\"],[\"background\",\"#007bff\"],[\"icon\",{\"type\":\"map\",\"entries\":[[\"className\",\"fas fa-info-circle\"],[\"tagName\",\"i\"],[\"color\",\"white\"]]}]]}]}]},{\"type\":\"model\",\"name\":\"Notification\",\"properties\":[{\"name\":\"background\",\"kind\":\"Any\",\"default\":null},{\"name\":\"duration\",\"kind\":\"Any\",\"default\":3000},{\"name\":\"icon\",\"kind\":\"Any\",\"default\":null},{\"name\":\"message\",\"kind\":\"Any\",\"default\":\"\"},{\"name\":\"notification_type\",\"kind\":\"Any\",\"default\":null},{\"name\":\"_destroyed\",\"kind\":\"Any\",\"default\":false}]},{\"type\":\"model\",\"name\":\"TemplateActions1\",\"properties\":[{\"name\":\"open_modal\",\"kind\":\"Any\",\"default\":0},{\"name\":\"close_modal\",\"kind\":\"Any\",\"default\":0}]},{\"type\":\"model\",\"name\":\"BootstrapTemplateActions1\",\"properties\":[{\"name\":\"open_modal\",\"kind\":\"Any\",\"default\":0},{\"name\":\"close_modal\",\"kind\":\"Any\",\"default\":0}]},{\"type\":\"model\",\"name\":\"MaterialTemplateActions1\",\"properties\":[{\"name\":\"open_modal\",\"kind\":\"Any\",\"default\":0},{\"name\":\"close_modal\",\"kind\":\"Any\",\"default\":0}]}]}};\n",
       "  var render_items = [{\"docid\":\"3ebcc5c4-1030-4b8a-a116-91170311600d\",\"roots\":{\"p3287\":\"e635d4f6-ccde-40bd-8844-7987c1fe966e\"},\"root_ids\":[\"p3287\"]}];\n",
       "  var docs = Object.values(docs_json)\n",
       "  if (!docs) {\n",
       "    return\n",
       "  }\n",
       "  const py_version = docs[0].version.replace('rc', '-rc.').replace('.dev', '-dev.')\n",
       "  function embed_document(root) {\n",
       "    var Bokeh = get_bokeh(root)\n",
       "    Bokeh.embed.embed_items_notebook(docs_json, render_items);\n",
       "    for (const render_item of render_items) {\n",
       "      for (const root_id of render_item.root_ids) {\n",
       "\tconst id_el = document.getElementById(root_id)\n",
       "\tif (id_el.children.length && (id_el.children[0].className === 'bk-root')) {\n",
       "\t  const root_el = id_el.children[0]\n",
       "\t  root_el.id = root_el.id + '-rendered'\n",
       "\t}\n",
       "      }\n",
       "    }\n",
       "  }\n",
       "  function get_bokeh(root) {\n",
       "    if (root.Bokeh === undefined) {\n",
       "      return null\n",
       "    } else if (root.Bokeh.version !== py_version) {\n",
       "      if (root.Bokeh.versions === undefined || !root.Bokeh.versions.has(py_version)) {\n",
       "\treturn null\n",
       "      }\n",
       "      return root.Bokeh.versions.get(py_version);\n",
       "    } else if (root.Bokeh.version === py_version) {\n",
       "      return root.Bokeh\n",
       "    }\n",
       "    return null\n",
       "  }\n",
       "  function is_loaded(root) {\n",
       "    var Bokeh = get_bokeh(root)\n",
       "    return (Bokeh != null && Bokeh.Panel !== undefined)\n",
       "  }\n",
       "  if (is_loaded(root)) {\n",
       "    embed_document(root);\n",
       "  } else {\n",
       "    var attempts = 0;\n",
       "    var timer = setInterval(function(root) {\n",
       "      if (is_loaded(root)) {\n",
       "        clearInterval(timer);\n",
       "        embed_document(root);\n",
       "      } else if (document.readyState == \"complete\") {\n",
       "        attempts++;\n",
       "        if (attempts > 200) {\n",
       "          clearInterval(timer);\n",
       "\t  var Bokeh = get_bokeh(root)\n",
       "\t  if (Bokeh == null || Bokeh.Panel == null) {\n",
       "            console.warn(\"Panel: ERROR: Unable to run Panel code because Bokeh or Panel library is missing\");\n",
       "\t  } else {\n",
       "\t    console.warn(\"Panel: WARNING: Attempting to render but not all required libraries could be resolved.\")\n",
       "\t    embed_document(root)\n",
       "\t  }\n",
       "        }\n",
       "      }\n",
       "    }, 25, root)\n",
       "  }\n",
       "})(window);</script>"
      ],
      "text/plain": [
       ":DynamicMap   []\n",
       "   :Overlay\n",
       "      .Curve.I    :Curve   [x]   (y)\n",
       "      .Points.I   :Points   [x,y]\n",
       "      .Points.II  :Points   [x,y]\n",
       "      .Points.III :Points   [x,y]\n",
       "      .Text.I     :Text   [x,y]"
      ]
     },
     "execution_count": 105,
     "metadata": {
      "application/vnd.holoviews_exec.v0+json": {
       "id": "p3287"
      }
     },
     "output_type": "execute_result"
    }
   ],
   "source": [
    "tap_stream = hv.streams.Tap(source=particles_point, x=np.nan, y=np.nan)\n",
    "# Define a callback to display coordinates where the user clicks\n",
    "def display_click_info(x, y):\n",
    "    return hv.Text(x, y, f'({x:.2f}, {y:.2f})').opts(text_color='black', fontsize=12)\n",
    "\n",
    "# Create a DynamicMap to update the coordinates on click\n",
    "click_info = hv.DynamicMap(lambda x, y: display_click_info(x, y), streams=[tap_stream])\n",
    "\n",
    "# Combine everything into one plot\n",
    "plot = shoreline * particles_point * wwtp_point * meas_points * click_info\n",
    "plot"
   ]
  },
  {
   "cell_type": "code",
   "execution_count": null,
   "id": "2cdbc46f-6694-46e9-b729-ee253f506f98",
   "metadata": {},
   "outputs": [],
   "source": []
  }
 ],
 "metadata": {
  "kernelspec": {
   "display_name": "Python 3 (ipykernel)",
   "language": "python",
   "name": "python3"
  },
  "language_info": {
   "codemirror_mode": {
    "name": "ipython",
    "version": 3
   },
   "file_extension": ".py",
   "mimetype": "text/x-python",
   "name": "python",
   "nbconvert_exporter": "python",
   "pygments_lexer": "ipython3",
   "version": "3.11.7"
  }
 },
 "nbformat": 4,
 "nbformat_minor": 5
}
