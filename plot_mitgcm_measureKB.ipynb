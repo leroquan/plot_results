{
 "cells": [
  {
   "cell_type": "code",
   "execution_count": 1,
   "id": "initial_id",
   "metadata": {
    "ExecuteTime": {
     "end_time": "2025-02-25T15:33:59.300311Z",
     "start_time": "2025-02-25T15:33:49.616294Z"
    }
   },
   "outputs": [],
   "source": [
    "import netCDF4\n",
    "import matplotlib.pyplot as plt\n",
    "import matplotlib.ticker as ticker\n",
    "import json\n",
    "from datetime import datetime, timezone, timedelta\n",
    "import os\n",
    "import glob\n",
    "import numpy as np\n",
    "import pandas as pd\n",
    "import xarray as xr\n",
    "import xmitgcm as xm\n",
    "import time\n",
    "import socket\n",
    "\n",
    "# %matplotlib notebook"
   ]
  },
  {
   "cell_type": "code",
   "execution_count": 2,
   "id": "3942a98c9771493a",
   "metadata": {
    "ExecuteTime": {
     "end_time": "2025-02-25T15:33:59.443172Z",
     "start_time": "2025-02-25T15:33:59.301521Z"
    },
    "collapsed": false,
    "jupyter": {
     "outputs_hidden": false
    }
   },
   "outputs": [],
   "source": [
    "from datalakes import download_data_from_datalakes_dataset\n",
    "from alplakes import parse_alplakes_3d_timeserie_from_directory, get_3d_profile_from_api, open_json, parse_json_3d_profile_to_df, parse_alplakes_1d_from_directory, parse_alplakes_json_3d_timeserie_to_df,parse_alplakes_json_profile_to_df\n",
    "from utils import save_json\n",
    "from mitgcm.utils_mitgcm import open_mitgcm_ds_from_config"
   ]
  },
  {
   "cell_type": "markdown",
   "id": "5763871c26f53ce3",
   "metadata": {
    "collapsed": false,
    "jupyter": {
     "outputs_hidden": false
    }
   },
   "source": [
    "# Comparison between MITgcm results, simstrat results (from Alplakes) and measurements from Datalakes\n",
    "This notebook displays :\n",
    "- the timeserie of the temperature at a given location and depth\n",
    "- the profile of the temperature at a given location and time\n",
    "- the heatmap of the profile at a given location\n",
    "\n",
    "It imports the measure from a netcdf file that can be dowloaded on the datalake platform (https://www.datalakes-eawag.ch/data).\n",
    "It imports local MITgcm simulation results."
   ]
  },
  {
   "cell_type": "code",
   "execution_count": 64,
   "id": "adab63e692a2ef67",
   "metadata": {
    "ExecuteTime": {
     "end_time": "2025-02-25T15:34:07.341562Z",
     "start_time": "2025-02-25T15:33:59.445279Z"
    },
    "collapsed": false,
    "jupyter": {
     "outputs_hidden": false
    }
   },
   "outputs": [],
   "source": [
    "lake_name = \"Luzern\"\n",
    "sta_name = 'urnersee_luzern'\n",
    "\n",
    "model = 'test_zurich'"
   ]
  },
  {
   "cell_type": "code",
   "execution_count": 65,
   "id": "91610b148f0a4a08",
   "metadata": {
    "ExecuteTime": {
     "end_time": "2025-02-25T15:34:07.746148Z",
     "start_time": "2025-02-25T15:34:07.343662Z"
    },
    "collapsed": false,
    "jupyter": {
     "outputs_hidden": false
    }
   },
   "outputs": [],
   "source": [
    "var_to_plot = 'THETA'"
   ]
  },
  {
   "cell_type": "code",
   "execution_count": 66,
   "id": "846cfec72b73aaff",
   "metadata": {
    "ExecuteTime": {
     "end_time": "2025-02-25T15:34:07.777034Z",
     "start_time": "2025-02-25T15:34:07.756478Z"
    }
   },
   "outputs": [
    {
     "data": {
      "text/plain": [
       "5070"
      ]
     },
     "execution_count": 66,
     "metadata": {},
     "output_type": "execute_result"
    }
   ],
   "source": [
    "with open(os.path.join('config_points.json'), 'r') as file:\n",
    "    config_points = json.load(file)[sta_name]\n",
    "    \n",
    "xc_mitgcm_station = config_points['xc_mitgcm_100m']\n",
    "yc_mitgcm_station = config_points['yc_mitgcm_100m']\n",
    "xc_mitgcm_station\n",
    "yc_mitgcm_station"
   ]
  },
  {
   "cell_type": "markdown",
   "id": "86e6557f21d17b11",
   "metadata": {
    "collapsed": false,
    "jupyter": {
     "outputs_hidden": false
    }
   },
   "source": [
    "## Import MITgcm results"
   ]
  },
  {
   "cell_type": "code",
   "execution_count": 6,
   "id": "8218bb22c9517e24",
   "metadata": {
    "ExecuteTime": {
     "end_time": "2025-02-25T16:10:24.774701Z",
     "start_time": "2025-02-25T15:34:07.778140Z"
    },
    "collapsed": false,
    "jupyter": {
     "outputs_hidden": false
    }
   },
   "outputs": [],
   "source": [
    "mitgcm_config, ds_to_plot = open_mitgcm_ds_from_config('mitgcm/config.json', model)"
   ]
  },
  {
   "cell_type": "markdown",
   "id": "ff5c3df4c36f13ce",
   "metadata": {
    "collapsed": false,
    "jupyter": {
     "outputs_hidden": false
    }
   },
   "source": [
    "# Import timeseries"
   ]
  },
  {
   "cell_type": "code",
   "execution_count": 72,
   "id": "888ea936-09ff-44e0-bcf3-56118e6c6b61",
   "metadata": {},
   "outputs": [],
   "source": [
    "#ds_to_plot['time']"
   ]
  },
  {
   "cell_type": "code",
   "execution_count": 67,
   "id": "8f4dcdbb5bb328d3",
   "metadata": {
    "ExecuteTime": {
     "end_time": "2025-02-25T16:10:24.789857Z",
     "start_time": "2025-02-25T16:10:24.775828Z"
    },
    "collapsed": false,
    "jupyter": {
     "outputs_hidden": false
    }
   },
   "outputs": [
    {
     "data": {
      "text/plain": [
       "datetime.datetime(2024, 3, 4, 1, 0, tzinfo=datetime.timezone.utc)"
      ]
     },
     "execution_count": 67,
     "metadata": {},
     "output_type": "execute_result"
    }
   ],
   "source": [
    "start_date = pd.to_datetime(ds_to_plot['time'].values[0],utc=True).to_pydatetime()  #datetime(2024, 1, 1, 0, 0, 0)\n",
    "end_date = pd.to_datetime(ds_to_plot['time'].values[-1],utc=True).to_pydatetime() #datetime(2025, 1, 1, 0, 0, 0)\n",
    "start_date"
   ]
  },
  {
   "cell_type": "markdown",
   "id": "c2b485e9-f6c9-4ae3-9f7c-4edce9e04a34",
   "metadata": {},
   "source": [
    " ### Hydronaut or Delft3D"
   ]
  },
  {
   "cell_type": "code",
   "execution_count": 97,
   "id": "32db83edb3e25ca0",
   "metadata": {
    "ExecuteTime": {
     "end_time": "2025-02-25T16:10:24.881435Z",
     "start_time": "2025-02-25T16:10:24.790929Z"
    },
    "collapsed": false,
    "jupyter": {
     "outputs_hidden": false
    }
   },
   "outputs": [
    {
     "name": "stdout",
     "output_type": "stream",
     "text": [
      "                         time  temperature\n",
      "236 2024-09-30 12:00:00+00:00       18.309\n",
      "237 2024-09-30 15:00:00+00:00       18.611\n",
      "238 2024-09-30 18:00:00+00:00       18.546\n",
      "239 2024-09-30 21:00:00+00:00       18.407\n",
      "240 2024-10-01 00:00:00+00:00       18.294\n"
     ]
    }
   ],
   "source": [
    "#xr_measure = xr.open_dataset(f'./data/datalakes/geneva_idronaut/2024.nc')\n",
    "#xr_measure = xr.open_dataset(f'C:/Users/rasmusso/Documents/ZH/data/measurement kanton/zurich_profile_2024.xlsx')\n",
    "\n",
    "json_folder = f\"data/alplakes_3d/{sta_name}/timeseries_0m\"\n",
    "\n",
    "alplakes_timeseries = parse_alplakes_3d_timeserie_from_directory(json_folder)\n",
    "\n",
    "alplakes_timeseries['time'] = pd.to_datetime(alplakes_timeseries['time'])\n",
    "alplakes_timeseries = alplakes_timeseries.sort_values(by='time', ascending=True)\n",
    "filtered_alplakes = alplakes_timeseries[alplakes_timeseries['time'] >= pd.to_datetime(start_date)]\n",
    "print(filtered_alplakes.tail())"
   ]
  },
  {
   "cell_type": "markdown",
   "id": "6391116f-9c92-4a60-8bb7-d78a0ae52b81",
   "metadata": {},
   "source": [
    "### Measurements"
   ]
  },
  {
   "cell_type": "code",
   "execution_count": 23,
   "id": "cb099810-b42b-4773-9dfc-3eef2e2891fc",
   "metadata": {},
   "outputs": [
    {
     "name": "stdout",
     "output_type": "stream",
     "text": [
      "                            time  temperature\n",
      "4318   2024-03-04 01:00:04+00:00          7.2\n",
      "4319   2024-03-04 01:01:04+00:00          7.2\n",
      "4320   2024-03-04 01:02:04+00:00          7.1\n",
      "4321   2024-03-04 01:03:05+00:00          7.2\n",
      "4322   2024-03-04 01:04:05+00:00          7.2\n",
      "...                          ...          ...\n",
      "250864 2024-08-28 06:27:56+00:00         21.0\n",
      "250865 2024-08-28 06:28:56+00:00         21.1\n",
      "250866 2024-08-28 06:29:56+00:00         21.0\n",
      "250867 2024-08-28 06:30:57+00:00         21.1\n",
      "250868 2024-08-28 06:31:57+00:00         21.0\n",
      "\n",
      "[246551 rows x 2 columns]\n"
     ]
    },
    {
     "data": {
      "text/plain": [
       "[<matplotlib.lines.Line2D at 0x7f427f7f1600>]"
      ]
     },
     "execution_count": 23,
     "metadata": {},
     "output_type": "execute_result"
    },
    {
     "data": {
      "image/png": "[encoded data removed]",
      "text/plain": [
       "<Figure size 640x480 with 1 Axes>"
      ]
     },
     "metadata": {},
     "output_type": "display_data"
    }
   ],
   "source": [
    "measurement_file = rf'data/alplakes_3d/{sta_name}/measurements/{sta_name}_data.csv' \n",
    "#measurement_file2 = rf'data/alplakes_3d/{sta_name}/measurements/{sta_name}_data_end.csv' \n",
    "\n",
    "#use xlsx or csv instead of nc to read the measurements\n",
    "#df = pd.read_excel(measurement_file,header=1, engine='openpyxl')\n",
    "df1 = pd.read_csv(measurement_file)\n",
    "#df2 = pd.read_csv(measurement_file2)\n",
    "\n",
    "df1['time'] = pd.to_datetime(df1['time'], utc=True)\n",
    "#df2['timestamp'] = pd.to_datetime(df2['timestamp'], utc=True)\n",
    "#df = pd.concat([df1, df2])\n",
    "#df = df.drop_duplicates(subset='timestamp', keep='first')\n",
    "mask = (df1['time'] >= start_date) & (df1['time'] <= end_date)\n",
    "adjusted_meas = df1.loc[mask]\n",
    "adjusted_meas = adjusted_meas.sort_values(by='time', ascending=True)\n",
    "adjusted_meas = adjusted_meas[adjusted_meas['temperature'] <= 35]\n",
    "print(adjusted_meas)\n",
    "plt.plot(adjusted_meas.time, adjusted_meas.temperature)"
   ]
  },
  {
   "cell_type": "markdown",
   "id": "a99e278fea30aced",
   "metadata": {
    "collapsed": false,
    "jupyter": {
     "outputs_hidden": false
    }
   },
   "source": [
    "xr_measure = download_data_from_datalakes_dataset(667, start_date.replace(tzinfo=timezone.utc), end_date.replace(tzinfo=timezone.utc), \"idronaut\")"
   ]
  },
  {
   "cell_type": "markdown",
   "id": "306c967d79956e73",
   "metadata": {
    "collapsed": false,
    "jupyter": {
     "outputs_hidden": false
    }
   },
   "source": [
    "## Import simstrat alplakes 1d "
   ]
  },
  {
   "cell_type": "code",
   "execution_count": 13,
   "id": "9a914b0e52035d51",
   "metadata": {
    "ExecuteTime": {
     "end_time": "2025-02-25T16:10:25.127360Z",
     "start_time": "2025-02-25T16:10:24.882494Z"
    },
    "collapsed": false,
    "jupyter": {
     "outputs_hidden": false
    }
   },
   "outputs": [
    {
     "data": {
      "text/html": [
       "<div><svg style=\"position: absolute; width: 0; height: 0; overflow: hidden\">\n",
       "<defs>\n",
       "<symbol id=\"icon-database\" viewBox=\"0 0 32 32\">\n",
       "<path d=\"M16 0c-8.837 0-16 2.239-16 5v4c0 2.761 7.163 5 16 5s16-2.239 16-5v-4c0-2.761-7.163-5-16-5z\"></path>\n",
       "<path d=\"M16 17c-8.837 0-16-2.239-16-5v6c0 2.761 7.163 5 16 5s16-2.239 16-5v-6c0 2.761-7.163 5-16 5z\"></path>\n",
       "<path d=\"M16 26c-8.837 0-16-2.239-16-5v6c0 2.761 7.163 5 16 5s16-2.239 16-5v-6c0 2.761-7.163 5-16 5z\"></path>\n",
       "</symbol>\n",
       "<symbol id=\"icon-file-text2\" viewBox=\"0 0 32 32\">\n",
       "<path d=\"M28.681 7.159c-0.694-0.947-1.662-2.053-2.724-3.116s-2.169-2.030-3.116-2.724c-1.612-1.182-2.393-1.319-2.841-1.319h-15.5c-1.378 0-2.5 1.121-2.5 2.5v27c0 1.378 1.122 2.5 2.5 2.5h23c1.378 0 2.5-1.122 2.5-2.5v-19.5c0-0.448-0.137-1.23-1.319-2.841zM24.543 5.457c0.959 0.959 1.712 1.825 2.268 2.543h-4.811v-4.811c0.718 0.556 1.584 1.309 2.543 2.268zM28 29.5c0 0.271-0.229 0.5-0.5 0.5h-23c-0.271 0-0.5-0.229-0.5-0.5v-27c0-0.271 0.229-0.5 0.5-0.5 0 0 15.499-0 15.5 0v7c0 0.552 0.448 1 1 1h7v19.5z\"></path>\n",
       "<path d=\"M23 26h-14c-0.552 0-1-0.448-1-1s0.448-1 1-1h14c0.552 0 1 0.448 1 1s-0.448 1-1 1z\"></path>\n",
       "<path d=\"M23 22h-14c-0.552 0-1-0.448-1-1s0.448-1 1-1h14c0.552 0 1 0.448 1 1s-0.448 1-1 1z\"></path>\n",
       "<path d=\"M23 18h-14c-0.552 0-1-0.448-1-1s0.448-1 1-1h14c0.552 0 1 0.448 1 1s-0.448 1-1 1z\"></path>\n",
       "</symbol>\n",
       "</defs>\n",
       "</svg>\n",
       "<style>/* CSS stylesheet for displaying xarray objects in jupyterlab.\n",
       " *\n",
       " */\n",
       "\n",
       ":root {\n",
       "  --xr-font-color0: var(--jp-content-font-color0, rgba(0, 0, 0, 1));\n",
       "  --xr-font-color2: var(--jp-content-font-color2, rgba(0, 0, 0, 0.54));\n",
       "  --xr-font-color3: var(--jp-content-font-color3, rgba(0, 0, 0, 0.38));\n",
       "  --xr-border-color: var(--jp-border-color2, #e0e0e0);\n",
       "  --xr-disabled-color: var(--jp-layout-color3, #bdbdbd);\n",
       "  --xr-background-color: var(--jp-layout-color0, white);\n",
       "  --xr-background-color-row-even: var(--jp-layout-color1, white);\n",
       "  --xr-background-color-row-odd: var(--jp-layout-color2, #eeeeee);\n",
       "}\n",
       "\n",
       "html[theme=\"dark\"],\n",
       "html[data-theme=\"dark\"],\n",
       "body[data-theme=\"dark\"],\n",
       "body.vscode-dark {\n",
       "  --xr-font-color0: rgba(255, 255, 255, 1);\n",
       "  --xr-font-color2: rgba(255, 255, 255, 0.54);\n",
       "  --xr-font-color3: rgba(255, 255, 255, 0.38);\n",
       "  --xr-border-color: #1f1f1f;\n",
       "  --xr-disabled-color: #515151;\n",
       "  --xr-background-color: #111111;\n",
       "  --xr-background-color-row-even: #111111;\n",
       "  --xr-background-color-row-odd: #313131;\n",
       "}\n",
       "\n",
       ".xr-wrap {\n",
       "  display: block !important;\n",
       "  min-width: 300px;\n",
       "  max-width: 700px;\n",
       "}\n",
       "\n",
       ".xr-text-repr-fallback {\n",
       "  /* fallback to plain text repr when CSS is not injected (untrusted notebook) */\n",
       "  display: none;\n",
       "}\n",
       "\n",
       ".xr-header {\n",
       "  padding-top: 6px;\n",
       "  padding-bottom: 6px;\n",
       "  margin-bottom: 4px;\n",
       "  border-bottom: solid 1px var(--xr-border-color);\n",
       "}\n",
       "\n",
       ".xr-header > div,\n",
       ".xr-header > ul {\n",
       "  display: inline;\n",
       "  margin-top: 0;\n",
       "  margin-bottom: 0;\n",
       "}\n",
       "\n",
       ".xr-obj-type,\n",
       ".xr-array-name {\n",
       "  margin-left: 2px;\n",
       "  margin-right: 10px;\n",
       "}\n",
       "\n",
       ".xr-obj-type {\n",
       "  color: var(--xr-font-color2);\n",
       "}\n",
       "\n",
       ".xr-sections {\n",
       "  padding-left: 0 !important;\n",
       "  display: grid;\n",
       "  grid-template-columns: 150px auto auto 1fr 0 20px 0 20px;\n",
       "}\n",
       "\n",
       ".xr-section-item {\n",
       "  display: contents;\n",
       "}\n",
       "\n",
       ".xr-section-item input {\n",
       "  display: inline-block;\n",
       "  opacity: 0;\n",
       "  height: 0;\n",
       "}\n",
       "\n",
       ".xr-section-item input + label {\n",
       "  color: var(--xr-disabled-color);\n",
       "}\n",
       "\n",
       ".xr-section-item input:enabled + label {\n",
       "  cursor: pointer;\n",
       "  color: var(--xr-font-color2);\n",
       "}\n",
       "\n",
       ".xr-section-item input:focus + label {\n",
       "  border: 2px solid var(--xr-font-color0);\n",
       "}\n",
       "\n",
       ".xr-section-item input:enabled + label:hover {\n",
       "  color: var(--xr-font-color0);\n",
       "}\n",
       "\n",
       ".xr-section-summary {\n",
       "  grid-column: 1;\n",
       "  color: var(--xr-font-color2);\n",
       "  font-weight: 500;\n",
       "}\n",
       "\n",
       ".xr-section-summary > span {\n",
       "  display: inline-block;\n",
       "  padding-left: 0.5em;\n",
       "}\n",
       "\n",
       ".xr-section-summary-in:disabled + label {\n",
       "  color: var(--xr-font-color2);\n",
       "}\n",
       "\n",
       ".xr-section-summary-in + label:before {\n",
       "  display: inline-block;\n",
       "  content: \"►\";\n",
       "  font-size: 11px;\n",
       "  width: 15px;\n",
       "  text-align: center;\n",
       "}\n",
       "\n",
       ".xr-section-summary-in:disabled + label:before {\n",
       "  color: var(--xr-disabled-color);\n",
       "}\n",
       "\n",
       ".xr-section-summary-in:checked + label:before {\n",
       "  content: \"▼\";\n",
       "}\n",
       "\n",
       ".xr-section-summary-in:checked + label > span {\n",
       "  display: none;\n",
       "}\n",
       "\n",
       ".xr-section-summary,\n",
       ".xr-section-inline-details {\n",
       "  padding-top: 4px;\n",
       "  padding-bottom: 4px;\n",
       "}\n",
       "\n",
       ".xr-section-inline-details {\n",
       "  grid-column: 2 / -1;\n",
       "}\n",
       "\n",
       ".xr-section-details {\n",
       "  display: none;\n",
       "  grid-column: 1 / -1;\n",
       "  margin-bottom: 5px;\n",
       "}\n",
       "\n",
       ".xr-section-summary-in:checked ~ .xr-section-details {\n",
       "  display: contents;\n",
       "}\n",
       "\n",
       ".xr-array-wrap {\n",
       "  grid-column: 1 / -1;\n",
       "  display: grid;\n",
       "  grid-template-columns: 20px auto;\n",
       "}\n",
       "\n",
       ".xr-array-wrap > label {\n",
       "  grid-column: 1;\n",
       "  vertical-align: top;\n",
       "}\n",
       "\n",
       ".xr-preview {\n",
       "  color: var(--xr-font-color3);\n",
       "}\n",
       "\n",
       ".xr-array-preview,\n",
       ".xr-array-data {\n",
       "  padding: 0 5px !important;\n",
       "  grid-column: 2;\n",
       "}\n",
       "\n",
       ".xr-array-data,\n",
       ".xr-array-in:checked ~ .xr-array-preview {\n",
       "  display: none;\n",
       "}\n",
       "\n",
       ".xr-array-in:checked ~ .xr-array-data,\n",
       ".xr-array-preview {\n",
       "  display: inline-block;\n",
       "}\n",
       "\n",
       ".xr-dim-list {\n",
       "  display: inline-block !important;\n",
       "  list-style: none;\n",
       "  padding: 0 !important;\n",
       "  margin: 0;\n",
       "}\n",
       "\n",
       ".xr-dim-list li {\n",
       "  display: inline-block;\n",
       "  padding: 0;\n",
       "  margin: 0;\n",
       "}\n",
       "\n",
       ".xr-dim-list:before {\n",
       "  content: \"(\";\n",
       "}\n",
       "\n",
       ".xr-dim-list:after {\n",
       "  content: \")\";\n",
       "}\n",
       "\n",
       ".xr-dim-list li:not(:last-child):after {\n",
       "  content: \",\";\n",
       "  padding-right: 5px;\n",
       "}\n",
       "\n",
       ".xr-has-index {\n",
       "  font-weight: bold;\n",
       "}\n",
       "\n",
       ".xr-var-list,\n",
       ".xr-var-item {\n",
       "  display: contents;\n",
       "}\n",
       "\n",
       ".xr-var-item > div,\n",
       ".xr-var-item label,\n",
       ".xr-var-item > .xr-var-name span {\n",
       "  background-color: var(--xr-background-color-row-even);\n",
       "  margin-bottom: 0;\n",
       "}\n",
       "\n",
       ".xr-var-item > .xr-var-name:hover span {\n",
       "  padding-right: 5px;\n",
       "}\n",
       "\n",
       ".xr-var-list > li:nth-child(odd) > div,\n",
       ".xr-var-list > li:nth-child(odd) > label,\n",
       ".xr-var-list > li:nth-child(odd) > .xr-var-name span {\n",
       "  background-color: var(--xr-background-color-row-odd);\n",
       "}\n",
       "\n",
       ".xr-var-name {\n",
       "  grid-column: 1;\n",
       "}\n",
       "\n",
       ".xr-var-dims {\n",
       "  grid-column: 2;\n",
       "}\n",
       "\n",
       ".xr-var-dtype {\n",
       "  grid-column: 3;\n",
       "  text-align: right;\n",
       "  color: var(--xr-font-color2);\n",
       "}\n",
       "\n",
       ".xr-var-preview {\n",
       "  grid-column: 4;\n",
       "}\n",
       "\n",
       ".xr-index-preview {\n",
       "  grid-column: 2 / 5;\n",
       "  color: var(--xr-font-color2);\n",
       "}\n",
       "\n",
       ".xr-var-name,\n",
       ".xr-var-dims,\n",
       ".xr-var-dtype,\n",
       ".xr-preview,\n",
       ".xr-attrs dt {\n",
       "  white-space: nowrap;\n",
       "  overflow: hidden;\n",
       "  text-overflow: ellipsis;\n",
       "  padding-right: 10px;\n",
       "}\n",
       "\n",
       ".xr-var-name:hover,\n",
       ".xr-var-dims:hover,\n",
       ".xr-var-dtype:hover,\n",
       ".xr-attrs dt:hover {\n",
       "  overflow: visible;\n",
       "  width: auto;\n",
       "  z-index: 1;\n",
       "}\n",
       "\n",
       ".xr-var-attrs,\n",
       ".xr-var-data,\n",
       ".xr-index-data {\n",
       "  display: none;\n",
       "  background-color: var(--xr-background-color) !important;\n",
       "  padding-bottom: 5px !important;\n",
       "}\n",
       "\n",
       ".xr-var-attrs-in:checked ~ .xr-var-attrs,\n",
       ".xr-var-data-in:checked ~ .xr-var-data,\n",
       ".xr-index-data-in:checked ~ .xr-index-data {\n",
       "  display: block;\n",
       "}\n",
       "\n",
       ".xr-var-data > table {\n",
       "  float: right;\n",
       "}\n",
       "\n",
       ".xr-var-name span,\n",
       ".xr-var-data,\n",
       ".xr-index-name div,\n",
       ".xr-index-data,\n",
       ".xr-attrs {\n",
       "  padding-left: 25px !important;\n",
       "}\n",
       "\n",
       ".xr-attrs,\n",
       ".xr-var-attrs,\n",
       ".xr-var-data,\n",
       ".xr-index-data {\n",
       "  grid-column: 1 / -1;\n",
       "}\n",
       "\n",
       "dl.xr-attrs {\n",
       "  padding: 0;\n",
       "  margin: 0;\n",
       "  display: grid;\n",
       "  grid-template-columns: 125px auto;\n",
       "}\n",
       "\n",
       ".xr-attrs dt,\n",
       ".xr-attrs dd {\n",
       "  padding: 0;\n",
       "  margin: 0;\n",
       "  float: left;\n",
       "  padding-right: 10px;\n",
       "  width: auto;\n",
       "}\n",
       "\n",
       ".xr-attrs dt {\n",
       "  font-weight: normal;\n",
       "  grid-column: 1;\n",
       "}\n",
       "\n",
       ".xr-attrs dt:hover span {\n",
       "  display: inline-block;\n",
       "  background: var(--xr-background-color);\n",
       "  padding-right: 10px;\n",
       "}\n",
       "\n",
       ".xr-attrs dd {\n",
       "  grid-column: 2;\n",
       "  white-space: pre-wrap;\n",
       "  word-break: break-all;\n",
       "}\n",
       "\n",
       ".xr-icon-database,\n",
       ".xr-icon-file-text2,\n",
       ".xr-no-icon {\n",
       "  display: inline-block;\n",
       "  vertical-align: middle;\n",
       "  width: 1em;\n",
       "  height: 1.5em !important;\n",
       "  stroke-width: 0;\n",
       "  stroke: currentColor;\n",
       "  fill: currentColor;\n",
       "}\n",
       "</style><pre class='xr-text-repr-fallback'>&lt;xarray.DataArray &#x27;time&#x27; (time: 8)&gt; Size: 64B\n",
       "array([&#x27;2024-10-15T01:00:02.880000000&#x27;, &#x27;2024-10-15T04:00:02.880000000&#x27;,\n",
       "       &#x27;2024-10-15T07:00:02.880000000&#x27;, &#x27;2024-10-15T10:00:02.880000000&#x27;,\n",
       "       &#x27;2024-10-15T13:00:02.880000000&#x27;, &#x27;2024-10-15T16:00:02.880000000&#x27;,\n",
       "       &#x27;2024-10-15T19:00:02.880000000&#x27;, &#x27;2024-10-15T22:00:02.880000000&#x27;],\n",
       "      dtype=&#x27;datetime64[ns]&#x27;)\n",
       "Coordinates:\n",
       "  * time     (time) datetime64[ns] 64B 2024-10-15T01:00:02.880000 ... 2024-10...</pre><div class='xr-wrap' style='display:none'><div class='xr-header'><div class='xr-obj-type'>xarray.DataArray</div><div class='xr-array-name'>'time'</div><ul class='xr-dim-list'><li><span class='xr-has-index'>time</span>: 8</li></ul></div><ul class='xr-sections'><li class='xr-section-item'><div class='xr-array-wrap'><input id='section-2b55b910-f2e8-497f-b76b-f47d15f8307e' class='xr-array-in' type='checkbox' checked><label for='section-2b55b910-f2e8-497f-b76b-f47d15f8307e' title='Show/hide data repr'><svg class='icon xr-icon-database'><use xlink:href='#icon-database'></use></svg></label><div class='xr-array-preview xr-preview'><span>2024-10-15T01:00:02.880000 ... 2024-10-15T22:00:02.880000</span></div><div class='xr-array-data'><pre>array([&#x27;2024-10-15T01:00:02.880000000&#x27;, &#x27;2024-10-15T04:00:02.880000000&#x27;,\n",
       "       &#x27;2024-10-15T07:00:02.880000000&#x27;, &#x27;2024-10-15T10:00:02.880000000&#x27;,\n",
       "       &#x27;2024-10-15T13:00:02.880000000&#x27;, &#x27;2024-10-15T16:00:02.880000000&#x27;,\n",
       "       &#x27;2024-10-15T19:00:02.880000000&#x27;, &#x27;2024-10-15T22:00:02.880000000&#x27;],\n",
       "      dtype=&#x27;datetime64[ns]&#x27;)</pre></div></div></li><li class='xr-section-item'><input id='section-7a23ffaa-bcfa-48df-a199-cb6ebf0d2afa' class='xr-section-summary-in' type='checkbox'  checked><label for='section-7a23ffaa-bcfa-48df-a199-cb6ebf0d2afa' class='xr-section-summary' >Coordinates: <span>(1)</span></label><div class='xr-section-inline-details'></div><div class='xr-section-details'><ul class='xr-var-list'><li class='xr-var-item'><div class='xr-var-name'><span class='xr-has-index'>time</span></div><div class='xr-var-dims'>(time)</div><div class='xr-var-dtype'>datetime64[ns]</div><div class='xr-var-preview xr-preview'>2024-10-15T01:00:02.880000 ... 2...</div><input id='attrs-cc57709d-fe32-4115-af2f-a48c5b504304' class='xr-var-attrs-in' type='checkbox' disabled><label for='attrs-cc57709d-fe32-4115-af2f-a48c5b504304' title='Show/Hide attributes'><svg class='icon xr-icon-file-text2'><use xlink:href='#icon-file-text2'></use></svg></label><input id='data-eca79420-b206-4148-9366-accc40bba1d3' class='xr-var-data-in' type='checkbox'><label for='data-eca79420-b206-4148-9366-accc40bba1d3' title='Show/Hide data repr'><svg class='icon xr-icon-database'><use xlink:href='#icon-database'></use></svg></label><div class='xr-var-attrs'><dl class='xr-attrs'></dl></div><div class='xr-var-data'><pre>array([&#x27;2024-10-15T01:00:02.880000000&#x27;, &#x27;2024-10-15T04:00:02.880000000&#x27;,\n",
       "       &#x27;2024-10-15T07:00:02.880000000&#x27;, &#x27;2024-10-15T10:00:02.880000000&#x27;,\n",
       "       &#x27;2024-10-15T13:00:02.880000000&#x27;, &#x27;2024-10-15T16:00:02.880000000&#x27;,\n",
       "       &#x27;2024-10-15T19:00:02.880000000&#x27;, &#x27;2024-10-15T22:00:02.880000000&#x27;],\n",
       "      dtype=&#x27;datetime64[ns]&#x27;)</pre></div></li></ul></div></li><li class='xr-section-item'><input id='section-355fd902-5786-4ace-b936-02cf84ff1916' class='xr-section-summary-in' type='checkbox'  ><label for='section-355fd902-5786-4ace-b936-02cf84ff1916' class='xr-section-summary' >Indexes: <span>(1)</span></label><div class='xr-section-inline-details'></div><div class='xr-section-details'><ul class='xr-var-list'><li class='xr-var-item'><div class='xr-index-name'><div>time</div></div><div class='xr-index-preview'>PandasIndex</div><input type='checkbox' disabled/><label></label><input id='index-da6deaae-d71c-4227-b3aa-9fe9cf21cd03' class='xr-index-data-in' type='checkbox'/><label for='index-da6deaae-d71c-4227-b3aa-9fe9cf21cd03' title='Show/Hide index repr'><svg class='icon xr-icon-database'><use xlink:href='#icon-database'></use></svg></label><div class='xr-index-data'><pre>PandasIndex(DatetimeIndex([&#x27;2024-10-15 01:00:02.880000&#x27;, &#x27;2024-10-15 04:00:02.880000&#x27;,\n",
       "               &#x27;2024-10-15 07:00:02.880000&#x27;, &#x27;2024-10-15 10:00:02.880000&#x27;,\n",
       "               &#x27;2024-10-15 13:00:02.880000&#x27;, &#x27;2024-10-15 16:00:02.880000&#x27;,\n",
       "               &#x27;2024-10-15 19:00:02.880000&#x27;, &#x27;2024-10-15 22:00:02.880000&#x27;],\n",
       "              dtype=&#x27;datetime64[ns]&#x27;, name=&#x27;time&#x27;, freq=None))</pre></div></li></ul></div></li><li class='xr-section-item'><input id='section-d93e37ea-70d7-4258-ae23-b4e0dfed6695' class='xr-section-summary-in' type='checkbox' disabled ><label for='section-d93e37ea-70d7-4258-ae23-b4e0dfed6695' class='xr-section-summary'  title='Expand/collapse section'>Attributes: <span>(0)</span></label><div class='xr-section-inline-details'></div><div class='xr-section-details'><dl class='xr-attrs'></dl></div></li></ul></div></div>"
      ],
      "text/plain": [
       "<xarray.DataArray 'time' (time: 8)> Size: 64B\n",
       "array(['2024-10-15T01:00:02.880000000', '2024-10-15T04:00:02.880000000',\n",
       "       '2024-10-15T07:00:02.880000000', '2024-10-15T10:00:02.880000000',\n",
       "       '2024-10-15T13:00:02.880000000', '2024-10-15T16:00:02.880000000',\n",
       "       '2024-10-15T19:00:02.880000000', '2024-10-15T22:00:02.880000000'],\n",
       "      dtype='datetime64[ns]')\n",
       "Coordinates:\n",
       "  * time     (time) datetime64[ns] 64B 2024-10-15T01:00:02.880000 ... 2024-10..."
      ]
     },
     "execution_count": 13,
     "metadata": {},
     "output_type": "execute_result"
    }
   ],
   "source": [
    "folder_path = '../simstrat_data'\n",
    "simstrat_data = parse_alplakes_1d_from_directory(folder_path)"
   ]
  },
  {
   "cell_type": "markdown",
   "id": "7ff48e918cbb054c",
   "metadata": {
    "collapsed": false,
    "jupyter": {
     "outputs_hidden": false
    }
   },
   "source": [
    "## Plot timeseries temperature at depth \"depth_simu\"\n",
    "#### dataklakes"
   ]
  },
  {
   "cell_type": "markdown",
   "id": "497985df-35f7-46e3-9f86-6ce7aa6eda64",
   "metadata": {
    "ExecuteTime": {
     "end_time": "2025-02-25T16:18:01.143475Z",
     "start_time": "2025-02-25T16:10:25.128429Z"
    },
    "collapsed": true,
    "jupyter": {
     "outputs_hidden": true
    },
    "scrolled": true
   },
   "source": [
    "depth_plot=-1 # Value should be negative !!\n",
    "\n",
    "fig, ax = plt.subplots(1,1,figsize=(15, 7))\n",
    "\n",
    "if xr_measure is not None:\n",
    "    meas_selected = xr_measure['temperature']#.sel(depth=depth_plot, method='nearest') #.sel(time=slice(start_date,end_date))\n",
    "    meas_selected.plot(label=f'Measure Idronaut', color='r')\n",
    "\n",
    "#simstrat_data['temperature'].sel(depth=-depth_plot, method='nearest').sel(time=slice(start_date,end_date)).plot(label=f'Simstrat 1D', color='g')\n",
    "\n",
    "sim_selected=ds_to_plot[var_to_plot].sel(Z=depth_plot, XC=xc_mitgcm_station, YC=yc_mitgcm_station, method='nearest') #.sel(time=slice(start_date, end_date))\n",
    "sim_selected.plot(label='Simulation MITgcm', color='b')\n",
    "\n",
    "plt.grid(True, which='both', linestyle='-', linewidth=0.5)\n",
    "plt.legend()\n",
    "ax.yaxis.set_major_locator(ticker.MultipleLocator(1))\n",
    "plt.title(f\"Temperature {sta_name} at depth {depth_plot}m\")\n",
    "\n",
    "#plt.savefig(rf\"output_plots\\{lake_name}\\geneva_1year_200m_{depth_plot}m.png\")"
   ]
  },
  {
   "cell_type": "markdown",
   "id": "a0013745-0ade-46f5-8fb8-a1d0a4262adf",
   "metadata": {},
   "source": [
    "### alplakes"
   ]
  },
  {
   "cell_type": "code",
   "execution_count": 25,
   "id": "edcb01f5-134b-4e35-8a6b-235d64d3f53e",
   "metadata": {},
   "outputs": [
    {
     "data": {
      "image/png": "[encoded data removed]",
      "text/plain": [
       "<Figure size 1500x700 with 1 Axes>"
      ]
     },
     "metadata": {},
     "output_type": "display_data"
    }
   ],
   "source": [
    "depth_plot=0 # Value should be negative !!\n",
    "\n",
    "fig, ax = plt.subplots(1,1,figsize=(15, 7))\n",
    "\n",
    "#if alplakes_timeseries is not None:\n",
    "    #meas_selected = xr_measure['temperature']#.sel(depth=depth_plot, method='nearest') #.sel(time=slice(start_date,end_date))\n",
    "    #plt.scatter(filtered_alplakes['time'],filtered_alplakes['temperature'],label=f'Delft3D', marker='+', s=3, c='orange')\n",
    "\n",
    "#simstrat_data['temperature'].sel(depth=-depth_plot, method='nearest').sel(time=slice(start_date,end_date)).plot(label=f'Simstrat 1D', color='g')\n",
    "plt.plot(adjusted_meas.time,adjusted_meas.temperature, label=rf'{sta_name} station',color='r', lw=1)\n",
    "\n",
    "sim_selected=ds_to_plot[var_to_plot].sel(Z=depth_plot, XC=xc_mitgcm_station, YC=yc_mitgcm_station, method='nearest') #.sel(time=slice(start_date, end_date))\n",
    "sim_selected.plot(label='Simulation MITgcm', color='b')\n",
    "\n",
    "plt.grid(True, which='both', linestyle='-', linewidth=0.5)\n",
    "plt.legend()\n",
    "ax.yaxis.set_major_locator(ticker.MultipleLocator(1))\n",
    "plt.title(f\"Temperature {sta_name} at depth {depth_plot}m\")\n",
    "plt.savefig(rf\"output_plots/timeseries_{sta_name}_{depth_plot}m_100.png\")\n",
    "plt.show()"
   ]
  },
  {
   "cell_type": "markdown",
   "id": "5303226b4a8da33f",
   "metadata": {
    "collapsed": false,
    "jupyter": {
     "outputs_hidden": false
    }
   },
   "source": [
    "# Import Profile\n",
    "## alplakes (delf3d)"
   ]
  },
  {
   "cell_type": "markdown",
   "id": "6681b2d9-a10b-4447-9c0a-43928e27de31",
   "metadata": {},
   "source": [
    "## simstrat 1D"
   ]
  },
  {
   "cell_type": "code",
   "execution_count": 68,
   "id": "491f3729-2740-488f-833d-923961a6405d",
   "metadata": {},
   "outputs": [
    {
     "data": {
      "text/html": [
       "<div><svg style=\"position: absolute; width: 0; height: 0; overflow: hidden\">\n",
       "<defs>\n",
       "<symbol id=\"icon-database\" viewBox=\"0 0 32 32\">\n",
       "<path d=\"M16 0c-8.837 0-16 2.239-16 5v4c0 2.761 7.163 5 16 5s16-2.239 16-5v-4c0-2.761-7.163-5-16-5z\"></path>\n",
       "<path d=\"M16 17c-8.837 0-16-2.239-16-5v6c0 2.761 7.163 5 16 5s16-2.239 16-5v-6c0 2.761-7.163 5-16 5z\"></path>\n",
       "<path d=\"M16 26c-8.837 0-16-2.239-16-5v6c0 2.761 7.163 5 16 5s16-2.239 16-5v-6c0 2.761-7.163 5-16 5z\"></path>\n",
       "</symbol>\n",
       "<symbol id=\"icon-file-text2\" viewBox=\"0 0 32 32\">\n",
       "<path d=\"M28.681 7.159c-0.694-0.947-1.662-2.053-2.724-3.116s-2.169-2.030-3.116-2.724c-1.612-1.182-2.393-1.319-2.841-1.319h-15.5c-1.378 0-2.5 1.121-2.5 2.5v27c0 1.378 1.122 2.5 2.5 2.5h23c1.378 0 2.5-1.122 2.5-2.5v-19.5c0-0.448-0.137-1.23-1.319-2.841zM24.543 5.457c0.959 0.959 1.712 1.825 2.268 2.543h-4.811v-4.811c0.718 0.556 1.584 1.309 2.543 2.268zM28 29.5c0 0.271-0.229 0.5-0.5 0.5h-23c-0.271 0-0.5-0.229-0.5-0.5v-27c0-0.271 0.229-0.5 0.5-0.5 0 0 15.499-0 15.5 0v7c0 0.552 0.448 1 1 1h7v19.5z\"></path>\n",
       "<path d=\"M23 26h-14c-0.552 0-1-0.448-1-1s0.448-1 1-1h14c0.552 0 1 0.448 1 1s-0.448 1-1 1z\"></path>\n",
       "<path d=\"M23 22h-14c-0.552 0-1-0.448-1-1s0.448-1 1-1h14c0.552 0 1 0.448 1 1s-0.448 1-1 1z\"></path>\n",
       "<path d=\"M23 18h-14c-0.552 0-1-0.448-1-1s0.448-1 1-1h14c0.552 0 1 0.448 1 1s-0.448 1-1 1z\"></path>\n",
       "</symbol>\n",
       "</defs>\n",
       "</svg>\n",
       "<style>/* CSS stylesheet for displaying xarray objects in jupyterlab.\n",
       " *\n",
       " */\n",
       "\n",
       ":root {\n",
       "  --xr-font-color0: var(--jp-content-font-color0, rgba(0, 0, 0, 1));\n",
       "  --xr-font-color2: var(--jp-content-font-color2, rgba(0, 0, 0, 0.54));\n",
       "  --xr-font-color3: var(--jp-content-font-color3, rgba(0, 0, 0, 0.38));\n",
       "  --xr-border-color: var(--jp-border-color2, #e0e0e0);\n",
       "  --xr-disabled-color: var(--jp-layout-color3, #bdbdbd);\n",
       "  --xr-background-color: var(--jp-layout-color0, white);\n",
       "  --xr-background-color-row-even: var(--jp-layout-color1, white);\n",
       "  --xr-background-color-row-odd: var(--jp-layout-color2, #eeeeee);\n",
       "}\n",
       "\n",
       "html[theme=\"dark\"],\n",
       "html[data-theme=\"dark\"],\n",
       "body[data-theme=\"dark\"],\n",
       "body.vscode-dark {\n",
       "  --xr-font-color0: rgba(255, 255, 255, 1);\n",
       "  --xr-font-color2: rgba(255, 255, 255, 0.54);\n",
       "  --xr-font-color3: rgba(255, 255, 255, 0.38);\n",
       "  --xr-border-color: #1f1f1f;\n",
       "  --xr-disabled-color: #515151;\n",
       "  --xr-background-color: #111111;\n",
       "  --xr-background-color-row-even: #111111;\n",
       "  --xr-background-color-row-odd: #313131;\n",
       "}\n",
       "\n",
       ".xr-wrap {\n",
       "  display: block !important;\n",
       "  min-width: 300px;\n",
       "  max-width: 700px;\n",
       "}\n",
       "\n",
       ".xr-text-repr-fallback {\n",
       "  /* fallback to plain text repr when CSS is not injected (untrusted notebook) */\n",
       "  display: none;\n",
       "}\n",
       "\n",
       ".xr-header {\n",
       "  padding-top: 6px;\n",
       "  padding-bottom: 6px;\n",
       "  margin-bottom: 4px;\n",
       "  border-bottom: solid 1px var(--xr-border-color);\n",
       "}\n",
       "\n",
       ".xr-header > div,\n",
       ".xr-header > ul {\n",
       "  display: inline;\n",
       "  margin-top: 0;\n",
       "  margin-bottom: 0;\n",
       "}\n",
       "\n",
       ".xr-obj-type,\n",
       ".xr-array-name {\n",
       "  margin-left: 2px;\n",
       "  margin-right: 10px;\n",
       "}\n",
       "\n",
       ".xr-obj-type {\n",
       "  color: var(--xr-font-color2);\n",
       "}\n",
       "\n",
       ".xr-sections {\n",
       "  padding-left: 0 !important;\n",
       "  display: grid;\n",
       "  grid-template-columns: 150px auto auto 1fr 0 20px 0 20px;\n",
       "}\n",
       "\n",
       ".xr-section-item {\n",
       "  display: contents;\n",
       "}\n",
       "\n",
       ".xr-section-item input {\n",
       "  display: inline-block;\n",
       "  opacity: 0;\n",
       "  height: 0;\n",
       "}\n",
       "\n",
       ".xr-section-item input + label {\n",
       "  color: var(--xr-disabled-color);\n",
       "}\n",
       "\n",
       ".xr-section-item input:enabled + label {\n",
       "  cursor: pointer;\n",
       "  color: var(--xr-font-color2);\n",
       "}\n",
       "\n",
       ".xr-section-item input:focus + label {\n",
       "  border: 2px solid var(--xr-font-color0);\n",
       "}\n",
       "\n",
       ".xr-section-item input:enabled + label:hover {\n",
       "  color: var(--xr-font-color0);\n",
       "}\n",
       "\n",
       ".xr-section-summary {\n",
       "  grid-column: 1;\n",
       "  color: var(--xr-font-color2);\n",
       "  font-weight: 500;\n",
       "}\n",
       "\n",
       ".xr-section-summary > span {\n",
       "  display: inline-block;\n",
       "  padding-left: 0.5em;\n",
       "}\n",
       "\n",
       ".xr-section-summary-in:disabled + label {\n",
       "  color: var(--xr-font-color2);\n",
       "}\n",
       "\n",
       ".xr-section-summary-in + label:before {\n",
       "  display: inline-block;\n",
       "  content: \"►\";\n",
       "  font-size: 11px;\n",
       "  width: 15px;\n",
       "  text-align: center;\n",
       "}\n",
       "\n",
       ".xr-section-summary-in:disabled + label:before {\n",
       "  color: var(--xr-disabled-color);\n",
       "}\n",
       "\n",
       ".xr-section-summary-in:checked + label:before {\n",
       "  content: \"▼\";\n",
       "}\n",
       "\n",
       ".xr-section-summary-in:checked + label > span {\n",
       "  display: none;\n",
       "}\n",
       "\n",
       ".xr-section-summary,\n",
       ".xr-section-inline-details {\n",
       "  padding-top: 4px;\n",
       "  padding-bottom: 4px;\n",
       "}\n",
       "\n",
       ".xr-section-inline-details {\n",
       "  grid-column: 2 / -1;\n",
       "}\n",
       "\n",
       ".xr-section-details {\n",
       "  display: none;\n",
       "  grid-column: 1 / -1;\n",
       "  margin-bottom: 5px;\n",
       "}\n",
       "\n",
       ".xr-section-summary-in:checked ~ .xr-section-details {\n",
       "  display: contents;\n",
       "}\n",
       "\n",
       ".xr-array-wrap {\n",
       "  grid-column: 1 / -1;\n",
       "  display: grid;\n",
       "  grid-template-columns: 20px auto;\n",
       "}\n",
       "\n",
       ".xr-array-wrap > label {\n",
       "  grid-column: 1;\n",
       "  vertical-align: top;\n",
       "}\n",
       "\n",
       ".xr-preview {\n",
       "  color: var(--xr-font-color3);\n",
       "}\n",
       "\n",
       ".xr-array-preview,\n",
       ".xr-array-data {\n",
       "  padding: 0 5px !important;\n",
       "  grid-column: 2;\n",
       "}\n",
       "\n",
       ".xr-array-data,\n",
       ".xr-array-in:checked ~ .xr-array-preview {\n",
       "  display: none;\n",
       "}\n",
       "\n",
       ".xr-array-in:checked ~ .xr-array-data,\n",
       ".xr-array-preview {\n",
       "  display: inline-block;\n",
       "}\n",
       "\n",
       ".xr-dim-list {\n",
       "  display: inline-block !important;\n",
       "  list-style: none;\n",
       "  padding: 0 !important;\n",
       "  margin: 0;\n",
       "}\n",
       "\n",
       ".xr-dim-list li {\n",
       "  display: inline-block;\n",
       "  padding: 0;\n",
       "  margin: 0;\n",
       "}\n",
       "\n",
       ".xr-dim-list:before {\n",
       "  content: \"(\";\n",
       "}\n",
       "\n",
       ".xr-dim-list:after {\n",
       "  content: \")\";\n",
       "}\n",
       "\n",
       ".xr-dim-list li:not(:last-child):after {\n",
       "  content: \",\";\n",
       "  padding-right: 5px;\n",
       "}\n",
       "\n",
       ".xr-has-index {\n",
       "  font-weight: bold;\n",
       "}\n",
       "\n",
       ".xr-var-list,\n",
       ".xr-var-item {\n",
       "  display: contents;\n",
       "}\n",
       "\n",
       ".xr-var-item > div,\n",
       ".xr-var-item label,\n",
       ".xr-var-item > .xr-var-name span {\n",
       "  background-color: var(--xr-background-color-row-even);\n",
       "  margin-bottom: 0;\n",
       "}\n",
       "\n",
       ".xr-var-item > .xr-var-name:hover span {\n",
       "  padding-right: 5px;\n",
       "}\n",
       "\n",
       ".xr-var-list > li:nth-child(odd) > div,\n",
       ".xr-var-list > li:nth-child(odd) > label,\n",
       ".xr-var-list > li:nth-child(odd) > .xr-var-name span {\n",
       "  background-color: var(--xr-background-color-row-odd);\n",
       "}\n",
       "\n",
       ".xr-var-name {\n",
       "  grid-column: 1;\n",
       "}\n",
       "\n",
       ".xr-var-dims {\n",
       "  grid-column: 2;\n",
       "}\n",
       "\n",
       ".xr-var-dtype {\n",
       "  grid-column: 3;\n",
       "  text-align: right;\n",
       "  color: var(--xr-font-color2);\n",
       "}\n",
       "\n",
       ".xr-var-preview {\n",
       "  grid-column: 4;\n",
       "}\n",
       "\n",
       ".xr-index-preview {\n",
       "  grid-column: 2 / 5;\n",
       "  color: var(--xr-font-color2);\n",
       "}\n",
       "\n",
       ".xr-var-name,\n",
       ".xr-var-dims,\n",
       ".xr-var-dtype,\n",
       ".xr-preview,\n",
       ".xr-attrs dt {\n",
       "  white-space: nowrap;\n",
       "  overflow: hidden;\n",
       "  text-overflow: ellipsis;\n",
       "  padding-right: 10px;\n",
       "}\n",
       "\n",
       ".xr-var-name:hover,\n",
       ".xr-var-dims:hover,\n",
       ".xr-var-dtype:hover,\n",
       ".xr-attrs dt:hover {\n",
       "  overflow: visible;\n",
       "  width: auto;\n",
       "  z-index: 1;\n",
       "}\n",
       "\n",
       ".xr-var-attrs,\n",
       ".xr-var-data,\n",
       ".xr-index-data {\n",
       "  display: none;\n",
       "  background-color: var(--xr-background-color) !important;\n",
       "  padding-bottom: 5px !important;\n",
       "}\n",
       "\n",
       ".xr-var-attrs-in:checked ~ .xr-var-attrs,\n",
       ".xr-var-data-in:checked ~ .xr-var-data,\n",
       ".xr-index-data-in:checked ~ .xr-index-data {\n",
       "  display: block;\n",
       "}\n",
       "\n",
       ".xr-var-data > table {\n",
       "  float: right;\n",
       "}\n",
       "\n",
       ".xr-var-name span,\n",
       ".xr-var-data,\n",
       ".xr-index-name div,\n",
       ".xr-index-data,\n",
       ".xr-attrs {\n",
       "  padding-left: 25px !important;\n",
       "}\n",
       "\n",
       ".xr-attrs,\n",
       ".xr-var-attrs,\n",
       ".xr-var-data,\n",
       ".xr-index-data {\n",
       "  grid-column: 1 / -1;\n",
       "}\n",
       "\n",
       "dl.xr-attrs {\n",
       "  padding: 0;\n",
       "  margin: 0;\n",
       "  display: grid;\n",
       "  grid-template-columns: 125px auto;\n",
       "}\n",
       "\n",
       ".xr-attrs dt,\n",
       ".xr-attrs dd {\n",
       "  padding: 0;\n",
       "  margin: 0;\n",
       "  float: left;\n",
       "  padding-right: 10px;\n",
       "  width: auto;\n",
       "}\n",
       "\n",
       ".xr-attrs dt {\n",
       "  font-weight: normal;\n",
       "  grid-column: 1;\n",
       "}\n",
       "\n",
       ".xr-attrs dt:hover span {\n",
       "  display: inline-block;\n",
       "  background: var(--xr-background-color);\n",
       "  padding-right: 10px;\n",
       "}\n",
       "\n",
       ".xr-attrs dd {\n",
       "  grid-column: 2;\n",
       "  white-space: pre-wrap;\n",
       "  word-break: break-all;\n",
       "}\n",
       "\n",
       ".xr-icon-database,\n",
       ".xr-icon-file-text2,\n",
       ".xr-no-icon {\n",
       "  display: inline-block;\n",
       "  vertical-align: middle;\n",
       "  width: 1em;\n",
       "  height: 1.5em !important;\n",
       "  stroke-width: 0;\n",
       "  stroke: currentColor;\n",
       "  fill: currentColor;\n",
       "}\n",
       "</style><pre class='xr-text-repr-fallback'>&lt;xarray.Dataset&gt; Size: 14kB\n",
       "Dimensions:      (depth: 200, time: 8)\n",
       "Coordinates:\n",
       "  * time         (time) datetime64[ns] 64B 2024-10-15T01:00:02.880000 ... 202...\n",
       "  * depth        (depth) int64 2kB 199 198 197 196 195 194 193 ... 6 5 4 3 2 1 0\n",
       "Data variables:\n",
       "    temperature  (depth, time) float64 13kB 5.141 5.141 5.141 ... 12.34 12.3</pre><div class='xr-wrap' style='display:none'><div class='xr-header'><div class='xr-obj-type'>xarray.Dataset</div></div><ul class='xr-sections'><li class='xr-section-item'><input id='section-98e970db-1a21-45ba-8df6-19e0668a5f93' class='xr-section-summary-in' type='checkbox' disabled ><label for='section-98e970db-1a21-45ba-8df6-19e0668a5f93' class='xr-section-summary'  title='Expand/collapse section'>Dimensions:</label><div class='xr-section-inline-details'><ul class='xr-dim-list'><li><span class='xr-has-index'>depth</span>: 200</li><li><span class='xr-has-index'>time</span>: 8</li></ul></div><div class='xr-section-details'></div></li><li class='xr-section-item'><input id='section-12e1ef49-185e-4f2a-bd5a-7e5e299e73a9' class='xr-section-summary-in' type='checkbox'  checked><label for='section-12e1ef49-185e-4f2a-bd5a-7e5e299e73a9' class='xr-section-summary' >Coordinates: <span>(2)</span></label><div class='xr-section-inline-details'></div><div class='xr-section-details'><ul class='xr-var-list'><li class='xr-var-item'><div class='xr-var-name'><span class='xr-has-index'>time</span></div><div class='xr-var-dims'>(time)</div><div class='xr-var-dtype'>datetime64[ns]</div><div class='xr-var-preview xr-preview'>2024-10-15T01:00:02.880000 ... 2...</div><input id='attrs-53e23f33-804d-4579-8d06-c13354d0fd84' class='xr-var-attrs-in' type='checkbox' disabled><label for='attrs-53e23f33-804d-4579-8d06-c13354d0fd84' title='Show/Hide attributes'><svg class='icon xr-icon-file-text2'><use xlink:href='#icon-file-text2'></use></svg></label><input id='data-646c6a59-2545-43c2-9118-3805f937db60' class='xr-var-data-in' type='checkbox'><label for='data-646c6a59-2545-43c2-9118-3805f937db60' title='Show/Hide data repr'><svg class='icon xr-icon-database'><use xlink:href='#icon-database'></use></svg></label><div class='xr-var-attrs'><dl class='xr-attrs'></dl></div><div class='xr-var-data'><pre>array([&#x27;2024-10-15T01:00:02.880000000&#x27;, &#x27;2024-10-15T04:00:02.880000000&#x27;,\n",
       "       &#x27;2024-10-15T07:00:02.880000000&#x27;, &#x27;2024-10-15T10:00:02.880000000&#x27;,\n",
       "       &#x27;2024-10-15T13:00:02.880000000&#x27;, &#x27;2024-10-15T16:00:02.880000000&#x27;,\n",
       "       &#x27;2024-10-15T19:00:02.880000000&#x27;, &#x27;2024-10-15T22:00:02.880000000&#x27;],\n",
       "      dtype=&#x27;datetime64[ns]&#x27;)</pre></div></li><li class='xr-var-item'><div class='xr-var-name'><span class='xr-has-index'>depth</span></div><div class='xr-var-dims'>(depth)</div><div class='xr-var-dtype'>int64</div><div class='xr-var-preview xr-preview'>199 198 197 196 195 ... 4 3 2 1 0</div><input id='attrs-909426c2-bf59-45f5-b532-10f19882c636' class='xr-var-attrs-in' type='checkbox' disabled><label for='attrs-909426c2-bf59-45f5-b532-10f19882c636' title='Show/Hide attributes'><svg class='icon xr-icon-file-text2'><use xlink:href='#icon-file-text2'></use></svg></label><input id='data-15f969a7-2e47-4a78-af14-ffe33bb2d5f4' class='xr-var-data-in' type='checkbox'><label for='data-15f969a7-2e47-4a78-af14-ffe33bb2d5f4' title='Show/Hide data repr'><svg class='icon xr-icon-database'><use xlink:href='#icon-database'></use></svg></label><div class='xr-var-attrs'><dl class='xr-attrs'></dl></div><div class='xr-var-data'><pre>array([199, 198, 197, 196, 195, 194, 193, 192, 191, 190, 189, 188, 187, 186,\n",
       "       185, 184, 183, 182, 181, 180, 179, 178, 177, 176, 175, 174, 173, 172,\n",
       "       171, 170, 169, 168, 167, 166, 165, 164, 163, 162, 161, 160, 159, 158,\n",
       "       157, 156, 155, 154, 153, 152, 151, 150, 149, 148, 147, 146, 145, 144,\n",
       "       143, 142, 141, 140, 139, 138, 137, 136, 135, 134, 133, 132, 131, 130,\n",
       "       129, 128, 127, 126, 125, 124, 123, 122, 121, 120, 119, 118, 117, 116,\n",
       "       115, 114, 113, 112, 111, 110, 109, 108, 107, 106, 105, 104, 103, 102,\n",
       "       101, 100,  99,  98,  97,  96,  95,  94,  93,  92,  91,  90,  89,  88,\n",
       "        87,  86,  85,  84,  83,  82,  81,  80,  79,  78,  77,  76,  75,  74,\n",
       "        73,  72,  71,  70,  69,  68,  67,  66,  65,  64,  63,  62,  61,  60,\n",
       "        59,  58,  57,  56,  55,  54,  53,  52,  51,  50,  49,  48,  47,  46,\n",
       "        45,  44,  43,  42,  41,  40,  39,  38,  37,  36,  35,  34,  33,  32,\n",
       "        31,  30,  29,  28,  27,  26,  25,  24,  23,  22,  21,  20,  19,  18,\n",
       "        17,  16,  15,  14,  13,  12,  11,  10,   9,   8,   7,   6,   5,   4,\n",
       "         3,   2,   1,   0])</pre></div></li></ul></div></li><li class='xr-section-item'><input id='section-3654280f-0220-43aa-8659-1b8f9fe08bfb' class='xr-section-summary-in' type='checkbox'  checked><label for='section-3654280f-0220-43aa-8659-1b8f9fe08bfb' class='xr-section-summary' >Data variables: <span>(1)</span></label><div class='xr-section-inline-details'></div><div class='xr-section-details'><ul class='xr-var-list'><li class='xr-var-item'><div class='xr-var-name'><span>temperature</span></div><div class='xr-var-dims'>(depth, time)</div><div class='xr-var-dtype'>float64</div><div class='xr-var-preview xr-preview'>5.141 5.141 5.141 ... 12.34 12.3</div><input id='attrs-6c0b8766-ab0b-41a4-a6f3-063b7435ff4f' class='xr-var-attrs-in' type='checkbox' disabled><label for='attrs-6c0b8766-ab0b-41a4-a6f3-063b7435ff4f' title='Show/Hide attributes'><svg class='icon xr-icon-file-text2'><use xlink:href='#icon-file-text2'></use></svg></label><input id='data-00e22984-2b06-47fb-85d5-ed92f519be63' class='xr-var-data-in' type='checkbox'><label for='data-00e22984-2b06-47fb-85d5-ed92f519be63' title='Show/Hide data repr'><svg class='icon xr-icon-database'><use xlink:href='#icon-database'></use></svg></label><div class='xr-var-attrs'><dl class='xr-attrs'></dl></div><div class='xr-var-data'><pre>array([[ 5.141,  5.141,  5.141, ...,  5.141,  5.141,  5.141],\n",
       "       [ 5.141,  5.141,  5.141, ...,  5.141,  5.141,  5.141],\n",
       "       [ 5.14 ,  5.141,  5.141, ...,  5.141,  5.141,  5.141],\n",
       "       ...,\n",
       "       [12.31 , 12.284, 12.259, ..., 12.349, 12.344, 12.303],\n",
       "       [12.308, 12.282, 12.257, ..., 12.395, 12.342, 12.301],\n",
       "       [12.305, 12.279, 12.252, ..., 12.406, 12.339, 12.298]])</pre></div></li></ul></div></li><li class='xr-section-item'><input id='section-37499d57-58bd-4fd0-8a10-625671a8caf4' class='xr-section-summary-in' type='checkbox'  ><label for='section-37499d57-58bd-4fd0-8a10-625671a8caf4' class='xr-section-summary' >Indexes: <span>(2)</span></label><div class='xr-section-inline-details'></div><div class='xr-section-details'><ul class='xr-var-list'><li class='xr-var-item'><div class='xr-index-name'><div>time</div></div><div class='xr-index-preview'>PandasIndex</div><input type='checkbox' disabled/><label></label><input id='index-8fe234e6-e463-4413-a6d3-ceef4a371061' class='xr-index-data-in' type='checkbox'/><label for='index-8fe234e6-e463-4413-a6d3-ceef4a371061' title='Show/Hide index repr'><svg class='icon xr-icon-database'><use xlink:href='#icon-database'></use></svg></label><div class='xr-index-data'><pre>PandasIndex(DatetimeIndex([&#x27;2024-10-15 01:00:02.880000&#x27;, &#x27;2024-10-15 04:00:02.880000&#x27;,\n",
       "               &#x27;2024-10-15 07:00:02.880000&#x27;, &#x27;2024-10-15 10:00:02.880000&#x27;,\n",
       "               &#x27;2024-10-15 13:00:02.880000&#x27;, &#x27;2024-10-15 16:00:02.880000&#x27;,\n",
       "               &#x27;2024-10-15 19:00:02.880000&#x27;, &#x27;2024-10-15 22:00:02.880000&#x27;],\n",
       "              dtype=&#x27;datetime64[ns]&#x27;, name=&#x27;time&#x27;, freq=None))</pre></div></li><li class='xr-var-item'><div class='xr-index-name'><div>depth</div></div><div class='xr-index-preview'>PandasIndex</div><input type='checkbox' disabled/><label></label><input id='index-fbf28df9-2b9d-427c-a1bd-ea8a1be3b115' class='xr-index-data-in' type='checkbox'/><label for='index-fbf28df9-2b9d-427c-a1bd-ea8a1be3b115' title='Show/Hide index repr'><svg class='icon xr-icon-database'><use xlink:href='#icon-database'></use></svg></label><div class='xr-index-data'><pre>PandasIndex(Index([199, 198, 197, 196, 195, 194, 193, 192, 191, 190,\n",
       "       ...\n",
       "         9,   8,   7,   6,   5,   4,   3,   2,   1,   0],\n",
       "      dtype=&#x27;int64&#x27;, name=&#x27;depth&#x27;, length=200))</pre></div></li></ul></div></li><li class='xr-section-item'><input id='section-d643b347-e828-49b4-a41b-cbfde45f6254' class='xr-section-summary-in' type='checkbox' disabled ><label for='section-d643b347-e828-49b4-a41b-cbfde45f6254' class='xr-section-summary'  title='Expand/collapse section'>Attributes: <span>(0)</span></label><div class='xr-section-inline-details'></div><div class='xr-section-details'><dl class='xr-attrs'></dl></div></li></ul></div></div>"
      ],
      "text/plain": [
       "<xarray.Dataset> Size: 14kB\n",
       "Dimensions:      (depth: 200, time: 8)\n",
       "Coordinates:\n",
       "  * time         (time) datetime64[ns] 64B 2024-10-15T01:00:02.880000 ... 202...\n",
       "  * depth        (depth) int64 2kB 199 198 197 196 195 194 193 ... 6 5 4 3 2 1 0\n",
       "Data variables:\n",
       "    temperature  (depth, time) float64 13kB 5.141 5.141 5.141 ... 12.34 12.3"
      ]
     },
     "execution_count": 68,
     "metadata": {},
     "output_type": "execute_result"
    }
   ],
   "source": [
    "folder_path = '../simstrat_data'\n",
    "simstrat_data = parse_alplakes_1d_from_directory(folder_path)\n",
    "simstrat_data"
   ]
  },
  {
   "cell_type": "markdown",
   "id": "77eba52a-7d82-4a60-980b-dba994c00575",
   "metadata": {},
   "source": [
    "## measurements canton"
   ]
  },
  {
   "cell_type": "code",
   "execution_count": 69,
   "id": "2c290601-78f8-42eb-a09d-6eab9f5a43d4",
   "metadata": {},
   "outputs": [
    {
     "data": {
      "text/plain": [
       "['2024.10.15']"
      ]
     },
     "execution_count": 69,
     "metadata": {},
     "output_type": "execute_result"
    }
   ],
   "source": [
    "measurement_file = rf'data/alplakes_3d/{sta_name}/measurements/{sta_name}_data.xlsx' \n",
    "#use xlsx or csv instead of nc to read the measurements\n",
    "df = pd.read_excel(measurement_file,header=0, sheet_name= 'oct24_high', engine='openpyxl')\n",
    "profile_dates_list = df.columns[1:].to_list()\n",
    "profile_dates = [ v.strftime(\"%Y.%m.%d\") for v in profile_dates_list]\n",
    "profile_dates"
   ]
  },
  {
   "cell_type": "code",
   "execution_count": 70,
   "id": "181cc19aa2447c2f",
   "metadata": {
    "ExecuteTime": {
     "end_time": "2025-02-24T14:40:59.717437Z",
     "start_time": "2025-02-24T14:40:59.714198Z"
    }
   },
   "outputs": [
    {
     "name": "stdout",
     "output_type": "stream",
     "text": [
      "2024-10-15 09:00:00\n"
     ]
    }
   ],
   "source": [
    "month = 1\n",
    "hours = timedelta(hours=9)\n",
    "date_plot_profil = df.columns[month] + hours\n",
    "date_plot_profil_str = date_plot_profil.strftime('%Y%m%d%H%M')\n",
    "print(date_plot_profil)\n",
    "\n",
    "#with open(f\"data/alplakes_3d/{sta_name}/profile/{date_plot_profil_str}.json\", 'r') as file:\n",
    " #   alplakes_json = json.load(file)\n",
    "#alplakes_profile = parse_alplakes_json_profile_to_df(alplakes_json)\n",
    "#alplakes_profile"
   ]
  },
  {
   "cell_type": "code",
   "execution_count": 71,
   "id": "c1818a18f3b10ee8",
   "metadata": {
    "ExecuteTime": {
     "end_time": "2025-02-24T14:43:15.037425Z",
     "start_time": "2025-02-24T14:41:02.919907Z"
    },
    "collapsed": false,
    "jupyter": {
     "outputs_hidden": false
    }
   },
   "outputs": [
    {
     "data": {
      "image/png": "[encoded data removed]",
      "text/plain": [
       "<Figure size 700x1000 with 1 Axes>"
      ]
     },
     "metadata": {},
     "output_type": "display_data"
    }
   ],
   "source": [
    "fig = plt.figure(figsize=(7, 10))\n",
    "\n",
    "#meas_profile = xr_measure['temp'].sel(time=date_plot_profil, method='nearest')\n",
    "#plt.plot(meas_profile.values, meas_profile.depth.values, label=f'Measure Idronaut', color='r')\n",
    "\n",
    "# plot the xlsx format, just change the DATE\n",
    "plt.plot(df[df.columns[month]],-1*df.Depth, label=f'Measures Canton', color='r')\n",
    "\n",
    "#plt.plot(alplakes_profile.temperature,-1*alplakes_profile.depth, label=f'Delft3d', color='orange')\n",
    "# Convert Simstrat depth to negative and plot\n",
    "simstrat_depth_negative = -simstrat_data['depth'].values  # Convert to negative NumPy array\n",
    "simstrat_temperature = simstrat_data['temperature'].sel(time=date_plot_profil, method='nearest')\n",
    "plt.plot(simstrat_temperature.values, simstrat_depth_negative, label='Simstrat 1D', color='g')\n",
    "\n",
    "\n",
    "profile_to_plot = ds_to_plot['THETA'].sel(XC=xc_mitgcm_station, YC=yc_mitgcm_station, time=date_plot_profil, method='nearest')\n",
    "profile_to_plot.where(profile_to_plot != 0, np.nan).plot(y='Z', label='Simulation MITgcm', color='b')\n",
    "\n",
    "plt.title(f\"Temperature profile {sta_name} at time {date_plot_profil}\")\n",
    "plt.grid(True, which='both', linestyle='-', linewidth=0.5)\n",
    "plt.ylabel('Depth (m)')\n",
    "plt.ylim(bottom=-100)\n",
    "plt.xlabel('Temperature (°C)')\n",
    "plt.legend(loc='upper left')\n",
    "plt.savefig(rf\"{sta_name}_profile_{date_plot_profil.date()}_UTC.png\")\n",
    "plt.show()"
   ]
  },
  {
   "cell_type": "code",
   "execution_count": null,
   "id": "b7f3dc5185ea3b04",
   "metadata": {
    "ExecuteTime": {
     "start_time": "2025-01-14T12:33:07.026127Z"
    },
    "collapsed": false,
    "jupyter": {
     "outputs_hidden": false
    }
   },
   "outputs": [],
   "source": []
  },
  {
   "cell_type": "code",
   "execution_count": null,
   "id": "f34eeff5a647ce56",
   "metadata": {
    "ExecuteTime": {
     "start_time": "2025-01-14T12:33:07.027229Z"
    },
    "collapsed": false,
    "jupyter": {
     "outputs_hidden": false
    }
   },
   "outputs": [],
   "source": []
  }
 ],
 "metadata": {
  "kernelspec": {
   "display_name": "plot_results",
   "language": "python",
   "name": "plot_results"
  },
  "language_info": {
   "codemirror_mode": {
    "name": "ipython",
    "version": 3
   },
   "file_extension": ".py",
   "mimetype": "text/x-python",
   "name": "python",
   "nbconvert_exporter": "python",
   "pygments_lexer": "ipython3",
   "version": "3.10.16"
  }
 },
 "nbformat": 4,
 "nbformat_minor": 5
}
