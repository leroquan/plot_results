{
 "cells": [
  {
   "cell_type": "code",
   "execution_count": 1,
   "id": "initial_id",
   "metadata": {
    "collapsed": true,
    "ExecuteTime": {
     "end_time": "2024-08-19T07:58:18.449114Z",
     "start_time": "2024-08-19T07:58:18.427984Z"
    }
   },
   "outputs": [],
   "source": [
    "import os"
   ]
  },
  {
   "cell_type": "code",
   "outputs": [],
   "source": [
    "path_results_folder = r\"C:\\Users\\leroquan\\Documents\\00-Work_space\\06-mit_gcm_geneva\\2024_08_15_geneva_50m\\results\""
   ],
   "metadata": {
    "collapsed": false,
    "ExecuteTime": {
     "end_time": "2024-08-19T07:58:18.464111Z",
     "start_time": "2024-08-19T07:58:18.451095Z"
    }
   },
   "id": "669fd38db497dd47",
   "execution_count": 2
  },
  {
   "cell_type": "code",
   "outputs": [
    {
     "name": "stdout",
     "output_type": "stream",
     "text": [
      "Tiled dimensions: Xp1 Y X Yp1\n",
      "Record dimension: T\n"
     ]
    },
    {
     "name": "stderr",
     "output_type": "stream",
     "text": [
      "Writing non-record variables\n",
      "Writing 4 records: ...C:\\Users\\leroquan\\Documents\\python\\MITgcm\\utils\\python\\MITgcmutils\\scripts\\gluemncbig:556: RuntimeWarning: overflow encountered in scalar multiply\n",
      "  pos = self._begins[name] + rec*self._recsize\n",
      "Traceback (most recent call last):\n",
      "  File \"C:\\Users\\leroquan\\Documents\\python\\MITgcm\\utils\\python\\MITgcmutils\\scripts\\gluemncbig\", line 1507, in <module>\n",
      "    ncout.write_recvar(name, irec+irecin, data, j0, iY)\n",
      "  File \"C:\\Users\\leroquan\\Documents\\python\\MITgcm\\utils\\python\\MITgcmutils\\scripts\\gluemncbig\", line 576, in write_recvar\n",
      "    self.fp.seek(pos)\n",
      "OSError: [Errno 22] Invalid argument\n"
     ]
    }
   ],
   "source": [
    "# Define paths\n",
    "output_file = os.path.join(path_results_folder, 'merged_results.nc')\n",
    "input_files = os.path.join(path_results_folder, r'3Dsnaps.0000000000.t*.nc')\n",
    "\n",
    "# Run the command\n",
    "!python C:\\Users\\leroquan\\Documents\\python\\MITgcm\\utils\\python\\MITgcmutils\\scripts\\gluemncbig -o \"{output_file}\" \"{input_files}\" --many"
   ],
   "metadata": {
    "collapsed": false,
    "ExecuteTime": {
     "end_time": "2024-08-19T07:58:20.678759Z",
     "start_time": "2024-08-19T07:58:18.765332Z"
    }
   },
   "id": "794d5be2d106d7ad",
   "execution_count": 3
  },
  {
   "cell_type": "code",
   "outputs": [],
   "source": [],
   "metadata": {
    "collapsed": false
   },
   "id": "9edac87e47dbe9c7"
  }
 ],
 "metadata": {
  "kernelspec": {
   "display_name": "Python 3",
   "language": "python",
   "name": "python3"
  },
  "language_info": {
   "codemirror_mode": {
    "name": "ipython",
    "version": 2
   },
   "file_extension": ".py",
   "mimetype": "text/x-python",
   "name": "python",
   "nbconvert_exporter": "python",
   "pygments_lexer": "ipython2",
   "version": "2.7.6"
  }
 },
 "nbformat": 4,
 "nbformat_minor": 5
}
