{
 "cells": [
  {
   "cell_type": "code",
   "execution_count": 1,
   "id": "initial_id",
   "metadata": {
    "collapsed": true,
    "ExecuteTime": {
     "end_time": "2024-09-10T13:47:28.404924Z",
     "start_time": "2024-09-10T13:47:28.383026Z"
    }
   },
   "outputs": [],
   "source": [
    "import os"
   ]
  },
  {
   "cell_type": "code",
   "outputs": [],
   "source": [
    "path_results_folder = r\"D:\\2024_08_26_geneva_50m_cscs\\pickup\""
   ],
   "metadata": {
    "collapsed": false,
    "ExecuteTime": {
     "end_time": "2024-09-10T13:49:00.886220Z",
     "start_time": "2024-09-10T13:49:00.868720Z"
    }
   },
   "id": "669fd38db497dd47",
   "execution_count": 5
  },
  {
   "cell_type": "code",
   "outputs": [
    {
     "name": "stdout",
     "output_type": "stream",
     "text": [
      "Tiled dimensions: Xp1 Y X Yp1\n",
      "Record dimension: T\n"
     ]
    },
    {
     "name": "stderr",
     "output_type": "stream",
     "text": [
      "C:\\Users\\leroquan\\Documents\\python\\MITgcm\\utils\\python\\MITgcmutils\\scripts\\gluemncbig:466: RuntimeWarning: overflow encountered in scalar add\n",
      "  pos += var._vsize\n",
      "Writing non-record variables\n",
      "Writing 1 records: .Traceback (most recent call last):\n",
      "  File \"C:\\Users\\leroquan\\Documents\\python\\MITgcm\\utils\\python\\MITgcmutils\\scripts\\gluemncbig\", line 1507, in <module>\n",
      "    ncout.write_recvar(name, irec+irecin, data, j0, iY)\n",
      "  File \"C:\\Users\\leroquan\\Documents\\python\\MITgcm\\utils\\python\\MITgcmutils\\scripts\\gluemncbig\", line 570, in write_recvar\n",
      "    self.fp.seek(pos+offset)\n",
      "OSError: [Errno 22] Invalid argument\n"
     ]
    }
   ],
   "source": [
    "# Define paths\n",
    "output_file = os.path.join(path_results_folder, 'merged_pickup.nc')\n",
    "input_files = os.path.join(path_results_folder, r'pickup.*.nc')\n",
    "\n",
    "# Run the command\n",
    "!python C:\\Users\\leroquan\\Documents\\python\\MITgcm\\utils\\python\\MITgcmutils\\scripts\\gluemncbig -o \"{output_file}\" \"{input_files}\" --many"
   ],
   "metadata": {
    "collapsed": false,
    "ExecuteTime": {
     "end_time": "2024-09-10T13:49:31.876482Z",
     "start_time": "2024-09-10T13:49:24.608686Z"
    }
   },
   "id": "794d5be2d106d7ad",
   "execution_count": 7
  },
  {
   "cell_type": "code",
   "outputs": [],
   "source": [],
   "metadata": {
    "collapsed": false
   },
   "id": "9edac87e47dbe9c7"
  }
 ],
 "metadata": {
  "kernelspec": {
   "display_name": "Python 3",
   "language": "python",
   "name": "python3"
  },
  "language_info": {
   "codemirror_mode": {
    "name": "ipython",
    "version": 2
   },
   "file_extension": ".py",
   "mimetype": "text/x-python",
   "name": "python",
   "nbconvert_exporter": "python",
   "pygments_lexer": "ipython2",
   "version": "2.7.6"
  }
 },
 "nbformat": 4,
 "nbformat_minor": 5
}
