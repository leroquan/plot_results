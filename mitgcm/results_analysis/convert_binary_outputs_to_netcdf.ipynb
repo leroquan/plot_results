{
 "cells": [
  {
   "cell_type": "code",
   "execution_count": 3,
   "id": "657b568e-8042-4c43-a438-e07f558b660e",
   "metadata": {},
   "outputs": [],
   "source": [
    "import xmitgcm as xm\n",
    "import json\n",
    "import os\n",
    "import sys\n",
    "\n",
    "# Get the path to the 'mitgcm' directory\n",
    "parent_dir = os.path.abspath(os.path.join(os.getcwd(), \"..\"))\n",
    "sys.path.append(parent_dir)\n",
    "\n",
    "from utils.open_files import open_mitgcm_ds_from_config"
   ]
  },
  {
   "cell_type": "code",
   "execution_count": 4,
   "id": "7cac4fd2-e735-4e13-ab64-6142f90b0a18",
   "metadata": {},
   "outputs": [],
   "source": [
    "model = 'geneva_artful_01'"
   ]
  },
  {
   "cell_type": "code",
   "execution_count": 5,
   "id": "1c8a5551-d0f1-4b89-b200-c8ca87cf9ebb",
   "metadata": {},
   "outputs": [],
   "source": [
    "# load velocity data\n",
    "mitgcm_config, ds_to_plot = open_mitgcm_ds_from_config('../config.json', model)"
   ]
  },
  {
   "cell_type": "code",
   "execution_count": 6,
   "id": "8d07a7fa-4275-405b-a4a1-dbc545bce9c2",
   "metadata": {},
   "outputs": [
    {
     "data": {
      "text/plain": [
       "1.5355203132639872"
      ]
     },
     "execution_count": 6,
     "metadata": {},
     "output_type": "execute_result"
    }
   ],
   "source": [
    "ds_to_plot.nbytes / (1024 ** 4)  # Convert to TB"
   ]
  },
  {
   "cell_type": "code",
   "execution_count": 10,
   "id": "96fa8134-3530-4f5b-aa89-295f442c9421",
   "metadata": {
    "ExecuteTime": {
     "end_time": "2025-02-14T10:47:24.529074Z",
     "start_time": "2025-02-14T10:47:24.515053Z"
    },
    "collapsed": false,
    "jupyter": {
     "outputs_hidden": false
    }
   },
   "outputs": [],
   "source": [
    "with open(os.path.join('../../config_points.json'), 'r') as file:\n",
    "    config_points = json.load(file)['geneva_lexplore']\n",
    "    \n",
    "xc_mitgcm_station = config_points['xc_mitgcm_200m']\n",
    "yc_mitgcm_station = config_points['yc_mitgcm_200m']"
   ]
  },
  {
   "cell_type": "code",
   "execution_count": 12,
   "id": "09d58971-3c88-418d-b9ca-3e04694667bb",
   "metadata": {},
   "outputs": [],
   "source": [
    "import numpy as np\n",
    "i_xc = np.argmin(np.abs(ds_to_plot['XC'].values - xc_mitgcm_station))\n",
    "i_yc = np.argmin(np.abs(ds_to_plot['YC'].values - yc_mitgcm_station))\n",
    "ds_crop = ds_to_plot['THETA'].isel(XC=i_xc, YC=i_yc)"
   ]
  },
  {
   "cell_type": "code",
   "execution_count": 13,
   "id": "f5ceeadc-18df-4b16-9d50-a09b2ec34877",
   "metadata": {},
   "outputs": [
    {
     "data": {
      "text/plain": [
       "5.406036507338285e-07"
      ]
     },
     "execution_count": 13,
     "metadata": {},
     "output_type": "execute_result"
    }
   ],
   "source": [
    "ds_crop.nbytes / (1024 ** 4)  # Convert to TB"
   ]
  },
  {
   "cell_type": "code",
   "execution_count": 17,
   "id": "ce72dc4d-897e-4b48-a7ae-1a30d5a4075c",
   "metadata": {},
   "outputs": [],
   "source": [
    "ds_crop.to_netcdf(mitgcm_config['datapath'] + '.nc')"
   ]
  }
 ],
 "metadata": {
  "kernelspec": {
   "display_name": "parcels_venv",
   "language": "python",
   "name": "parcels_venv"
  },
  "language_info": {
   "codemirror_mode": {
    "name": "ipython",
    "version": 3
   },
   "file_extension": ".py",
   "mimetype": "text/x-python",
   "name": "python",
   "nbconvert_exporter": "python",
   "pygments_lexer": "ipython3",
   "version": "3.12.7"
  }
 },
 "nbformat": 4,
 "nbformat_minor": 5
}
