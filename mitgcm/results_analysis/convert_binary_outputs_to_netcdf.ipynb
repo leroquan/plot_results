{
 "cells": [
  {
   "cell_type": "code",
   "execution_count": 1,
   "id": "657b568e-8042-4c43-a438-e07f558b660e",
   "metadata": {
    "ExecuteTime": {
     "end_time": "2025-02-26T08:33:02.076778Z",
     "start_time": "2025-02-26T08:33:00.935258Z"
    }
   },
   "outputs": [],
   "source": [
    "import xmitgcm as xm\n",
    "import json\n",
    "import os\n",
    "import sys\n",
    "\n",
    "# Get the path to the 'mitgcm' directory\n",
    "parent_dir = os.path.abspath(os.path.join(os.getcwd(), \"..\"))\n",
    "sys.path.append(parent_dir)\n",
    "\n",
    "from utils_mitgcm.open_files import open_mitgcm_ds_from_config"
   ]
  },
  {
   "cell_type": "code",
   "execution_count": 2,
   "id": "7cac4fd2-e735-4e13-ab64-6142f90b0a18",
   "metadata": {
    "ExecuteTime": {
     "end_time": "2025-02-26T08:33:02.092052Z",
     "start_time": "2025-02-26T08:33:02.078977Z"
    }
   },
   "outputs": [],
   "source": [
    "model = 'geneva_200m_secchi_half'"
   ]
  },
  {
   "cell_type": "code",
   "execution_count": 3,
   "id": "1c8a5551-d0f1-4b89-b200-c8ca87cf9ebb",
   "metadata": {
    "ExecuteTime": {
     "end_time": "2025-02-26T08:34:10.295136Z",
     "start_time": "2025-02-26T08:33:02.094172Z"
    }
   },
   "outputs": [],
   "source": [
    "# load velocity data\n",
    "mitgcm_config, ds_to_plot = open_mitgcm_ds_from_config('../config.json', model)"
   ]
  },
  {
   "cell_type": "code",
   "execution_count": 4,
   "id": "8d07a7fa-4275-405b-a4a1-dbc545bce9c2",
   "metadata": {
    "ExecuteTime": {
     "end_time": "2025-02-26T08:34:10.325714Z",
     "start_time": "2025-02-26T08:34:10.296702Z"
    }
   },
   "outputs": [
    {
     "data": {
      "text/plain": "0.3706550954520935"
     },
     "execution_count": 4,
     "metadata": {},
     "output_type": "execute_result"
    }
   ],
   "source": [
    "ds_to_plot.nbytes / (1024 ** 4)  # Convert to TB"
   ]
  },
  {
   "cell_type": "markdown",
   "source": [
    "ds_crop = ds_to_plot.isel(Z=0)[['UVEL','VVEL','THETA']]"
   ],
   "metadata": {
    "collapsed": false
   },
   "id": "1a3da6b6a762dcde"
  },
  {
   "cell_type": "code",
   "outputs": [],
   "source": [
    "with open(os.path.join('../../config_points.json'), 'r') as file:\n",
    "    config_points = json.load(file)['geneva_lexplore']\n",
    "    \n",
    "xc_mitgcm_station = config_points['xc_mitgcm_200m']\n",
    "yc_mitgcm_station = config_points['yc_mitgcm_200m']\n",
    "\n",
    "import numpy as np\n",
    "i_xc = np.argmin(np.abs(ds_to_plot['XC'].values - xc_mitgcm_station))\n",
    "i_yc = np.argmin(np.abs(ds_to_plot['YC'].values - yc_mitgcm_station))\n",
    "i_xg = np.argmin(np.abs(ds_to_plot['XG'].values - xc_mitgcm_station))\n",
    "i_yg = np.argmin(np.abs(ds_to_plot['YG'].values - yc_mitgcm_station))\n",
    "ds_crop = ds_to_plot[['THETA','UVEL','VVEL']].isel(XC=i_xc, YC=i_yc, XG=i_xg, YG=i_yg)"
   ],
   "metadata": {
    "collapsed": false,
    "ExecuteTime": {
     "end_time": "2025-02-26T08:34:10.373535Z",
     "start_time": "2025-02-26T08:34:10.327332Z"
    }
   },
   "id": "dcbab304a85115da",
   "execution_count": 5
  },
  {
   "cell_type": "code",
   "execution_count": 6,
   "id": "f5ceeadc-18df-4b16-9d50-a09b2ec34877",
   "metadata": {
    "ExecuteTime": {
     "end_time": "2025-02-26T08:34:10.389499Z",
     "start_time": "2025-02-26T08:34:10.374663Z"
    }
   },
   "outputs": [
    {
     "data": {
      "text/plain": "0.0009804564360820223"
     },
     "execution_count": 6,
     "metadata": {},
     "output_type": "execute_result"
    }
   ],
   "source": [
    "ds_crop.nbytes / (1024 ** 4)  # Convert to TB"
   ]
  },
  {
   "cell_type": "code",
   "execution_count": 7,
   "id": "ce72dc4d-897e-4b48-a7ae-1a30d5a4075c",
   "metadata": {
    "ExecuteTime": {
     "end_time": "2025-02-26T09:32:37.292873Z",
     "start_time": "2025-02-26T08:34:10.390441Z"
    }
   },
   "outputs": [],
   "source": [
    "ds_crop.to_netcdf(r'D:\\geneva_200m_secchi_half\\cropped_results_nc\\lexplore_depth_time.nc')"
   ]
  },
  {
   "cell_type": "code",
   "outputs": [],
   "source": [],
   "metadata": {
    "collapsed": false,
    "is_executing": true
   },
   "id": "51a37695cc5385a3"
  },
  {
   "cell_type": "code",
   "outputs": [],
   "source": [
    "import xmitgcm as xm\n",
    "import numpy as np\n",
    "ds = xm.open_mdsdataset(\"./\", ref_date=\"2024-03-01 0:0:0\", prefix='3Dsnaps', delta_t=32, endian=\">\")\n",
    "i_xc = np.argmin(np.abs(ds['XC'].values - 49850))\n",
    "i_yc = np.argmin(np.abs(ds['YC'].values - 18100))\n",
    "i_xg = np.argmin(np.abs(ds['XG'].values - 49850))\n",
    "i_yg = np.argmin(np.abs(ds['YG'].values - 18100))\n",
    "ds_crop = ds[['THETA','UVEL','VVEL']].isel(XC=i_xc, YC=i_yc, XG=i_xg, YG=i_yg)\n",
    "ds_crop.to_netcdf(r'./lexplore_depth_time.nc')"
   ],
   "metadata": {
    "collapsed": false
   },
   "id": "93ec95d8af331ceb"
  }
 ],
 "metadata": {
  "kernelspec": {
   "name": "python3",
   "language": "python",
   "display_name": "Python 3 (ipykernel)"
  },
  "language_info": {
   "codemirror_mode": {
    "name": "ipython",
    "version": 3
   },
   "file_extension": ".py",
   "mimetype": "text/x-python",
   "name": "python",
   "nbconvert_exporter": "python",
   "pygments_lexer": "ipython3",
   "version": "3.12.7"
  }
 },
 "nbformat": 4,
 "nbformat_minor": 5
}
