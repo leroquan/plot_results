{
 "cells": [
  {
   "cell_type": "code",
   "execution_count": 2,
   "id": "initial_id",
   "metadata": {
    "collapsed": true,
    "ExecuteTime": {
     "end_time": "2024-05-22T09:30:16.532915Z",
     "start_time": "2024-05-22T09:30:16.396596Z"
    }
   },
   "outputs": [],
   "source": [
    "import netCDF4 as nc\n",
    "import sys\n",
    "sys.path.append('../src')"
   ]
  },
  {
   "cell_type": "code",
   "outputs": [],
   "source": [
    "nc_file_path = r\"C:\\Users\\leroquan\\Documents\\00-Work_space\\01-Lake-Lugano_Delft3D-FM\\test_parallel_1m\\parallel_10part\\output\\FlowFM_merged_map.nc\"\n",
    "nc_data = nc.Dataset(nc_file_path)"
   ],
   "metadata": {
    "collapsed": false,
    "ExecuteTime": {
     "end_time": "2024-05-22T09:30:18.374545Z",
     "start_time": "2024-05-22T09:30:18.354182Z"
    }
   },
   "id": "accd64aa7af28d2a",
   "execution_count": 3
  },
  {
   "cell_type": "code",
   "outputs": [
    {
     "data": {
      "text/plain": "<class 'netCDF4._netCDF4.Variable'>\nfloat64 time(time)\n    standard_name: time\n    units: seconds since 2008-03-01 00:00:00 +00:00\nunlimited dimensions: time\ncurrent shape = (224,)\nfilling on, default _FillValue of 9.969209968386869e+36 used"
     },
     "execution_count": 25,
     "metadata": {},
     "output_type": "execute_result"
    }
   ],
   "source": [
    "nc_data['time']"
   ],
   "metadata": {
    "collapsed": false,
    "ExecuteTime": {
     "end_time": "2024-05-22T09:36:54.844069Z",
     "start_time": "2024-05-22T09:36:54.826764Z"
    }
   },
   "id": "790b8a2a5c6c4f54",
   "execution_count": 25
  },
  {
   "cell_type": "code",
   "outputs": [
    {
     "name": "stdout",
     "output_type": "stream",
     "text": [
      "time\n",
      "timestep: Latest computational timestep size in each output interval\n",
      "projected_coordinate_system\n",
      "mesh2d: Topology data of 2D mesh\n",
      "mesh2d_node_x: x-coordinate of mesh nodes\n",
      "mesh2d_node_y: y-coordinate of mesh nodes\n",
      "mesh2d_node_z: z-coordinate of mesh nodes\n",
      "mesh2d_edge_x: characteristic x-coordinate of the mesh edge (e.g. midpoint)\n",
      "mesh2d_edge_y: characteristic y-coordinate of the mesh edge (e.g. midpoint)\n",
      "mesh2d_edge_nodes: Start and end nodes of mesh edges\n",
      "mesh2d_face_nodes: Vertex nodes of mesh faces (counterclockwise)\n",
      "mesh2d_edge_faces: Neighboring faces of mesh edges\n",
      "mesh2d_face_x: Characteristic x-coordinate of mesh face\n",
      "mesh2d_face_y: Characteristic y-coordinate of mesh face\n",
      "mesh2d_face_x_bnd: x-coordinate bounds of mesh faces (i.e. corner coordinates)\n",
      "mesh2d_face_y_bnd: y-coordinate bounds of mesh faces (i.e. corner coordinates)\n",
      "mesh2d_layer_z: Vertical coordinate of layer centres\n",
      "mesh2d_interface_z: Vertical coordinate of layer interfaces\n",
      "mesh2d_edge_type: edge type (relation between edge and flow geometry)\n",
      "mesh2d_flowelem_ba\n",
      "mesh2d_flowelem_bl: flow element center bedlevel (bl)\n",
      "mesh2d_flowelem_domain: domain number of flow element\n",
      "mesh2d_flowelem_globalnr: global flow element numbering\n",
      "mesh2d_Numlimdt: Number of times flow element was Courant limiting\n",
      "mesh2d_s1: Water level\n",
      "mesh2d_waterdepth: Water depth at pressure points\n",
      "mesh2d_u1: Velocity at velocity point, n-component\n",
      "mesh2d_ucx: Flow element center velocity vector, x-component\n",
      "mesh2d_ucy: Flow element center velocity vector, y-component\n",
      "mesh2d_ucz: Flow element center velocity vector, z-component\n",
      "mesh2d_ucxa: Flow element center depth-averaged velocity, x-component\n",
      "mesh2d_ucya: Flow element center depth-averaged velocity, y-component\n",
      "mesh2d_ucmag: Flow element center velocity magnitude\n",
      "mesh2d_ucmaga: Flow element center depth-averaged velocity magnitude\n",
      "mesh2d_ww1: Upward velocity on vertical interface, n-component\n",
      "mesh2d_rho: Flow element center mass density\n",
      "mesh2d_q1: Discharge through flow link at current time\n",
      "mesh2d_viu: Horizontal eddy viscosity\n",
      "mesh2d_diu: Horizontal eddy diffusivity\n",
      "mesh2d_tausx: Total bed shear stress vector, x-component\n",
      "mesh2d_tausy: Total bed shear stress vector, y-component\n",
      "mesh2d_taus: Total bed shear stress magnitude\n",
      "mesh2d_czs: Chezy roughness in flow element center\n",
      "mesh2d_czu: Chezy roughness on flow links\n",
      "mesh2d_cfu: Input roughness on flow links\n",
      "mesh2d_cfutyp: Input roughness type on flow links\n",
      "mesh2d_tem1: Temperature in flow element\n",
      "mesh2d_Patm: Atmospheric pressure near surface\n",
      "mesh2d_windx: velocity of air on flow element center, x-component\n",
      "mesh2d_windy: velocity of air on flow element center, y-component\n",
      "mesh2d_windxu: velocity of air on flow links, x-component\n",
      "mesh2d_windyu: velocity of air on flow links, y-component\n",
      "mesh2d_Tair: Air temperature near surface\n",
      "mesh2d_Rhum: Relative humidity near surface\n",
      "mesh2d_Clou: Cloudiness\n",
      "mesh2d_Qsun: Solar influx\n",
      "mesh2d_Qeva: Evaporative heat flux\n",
      "mesh2d_Qcon: Sensible heat flux\n",
      "mesh2d_Qlong: Long wave back radiation\n",
      "mesh2d_Qfreva: Free convection evaporative heat flux\n",
      "mesh2d_Qfrcon: Free convection sensible heat flux\n",
      "mesh2d_Qtot: Total heat flux\n",
      "mesh2d_turkin1: turbulent kinetic energy\n",
      "mesh2d_vicwwu: turbulent vertical eddy viscosity\n",
      "mesh2d_tureps1: turbulent energy dissipation\n"
     ]
    }
   ],
   "source": [
    "for var in nc_data.variables:\n",
    "    try:\n",
    "        print(f'{var}: {nc_data[var].long_name}')\n",
    "    except AttributeError:\n",
    "        print(var)"
   ],
   "metadata": {
    "collapsed": false,
    "ExecuteTime": {
     "end_time": "2024-05-22T09:38:26.334209Z",
     "start_time": "2024-05-22T09:38:26.322704Z"
    }
   },
   "id": "4d090f736ccb3e99",
   "execution_count": 27
  }
 ],
 "metadata": {
  "kernelspec": {
   "display_name": "Python 3",
   "language": "python",
   "name": "python3"
  },
  "language_info": {
   "codemirror_mode": {
    "name": "ipython",
    "version": 2
   },
   "file_extension": ".py",
   "mimetype": "text/x-python",
   "name": "python",
   "nbconvert_exporter": "python",
   "pygments_lexer": "ipython2",
   "version": "2.7.6"
  }
 },
 "nbformat": 4,
 "nbformat_minor": 5
}
