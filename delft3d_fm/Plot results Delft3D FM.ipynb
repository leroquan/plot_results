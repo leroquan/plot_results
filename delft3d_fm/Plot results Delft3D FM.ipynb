{
 "cells": [
  {
   "cell_type": "code",
   "outputs": [],
   "source": [
    "import netCDF4\n",
    "from datetime import datetime, timedelta\n",
    "import matplotlib.pyplot as plt\n",
    "import numpy as np\n",
    "from ipywidgets import interact, IntSlider, Button\n",
    "import sys\n",
    "import subprocess\n",
    "import os\n",
    "sys.path.append('../src')\n",
    "from create_animations_delft3dfm import extract_and_save_transect_animation, get_timestamps, get_closest_index_by_coord, get_closest_flow_element_index, interpolate_points_on_line, extract_and_save_xy_animation, plot_transect, get_transect_direction"
   ],
   "metadata": {
    "collapsed": false,
    "ExecuteTime": {
     "end_time": "2024-05-11T21:27:20.630968Z",
     "start_time": "2024-05-11T21:27:20.134370Z"
    }
   },
   "id": "20b68183c89921a4",
   "execution_count": 1
  },
  {
   "cell_type": "markdown",
   "source": [
    "## Parameters plot"
   ],
   "metadata": {
    "collapsed": false
   },
   "id": "2b799391f332e217"
  },
  {
   "cell_type": "code",
   "outputs": [],
   "source": [
    "name_simu = r'test_dummy\\buoyancy_flux' # grosserbrombachsee run_004_ope_grid test_dummy\\seiche\n",
    "working_dir = rf'C:\\Users\\leroquan\\Documents\\00-Work_space\\01-Lake-Lugano_Delft3D-FM\\{name_simu}'\n",
    "#working_dir = r'C:\\Users\\leroquan\\Documents\\GIT\\alplakes-simulations\\runs\\eawag_delft3dflow60210142612_delft3dfm_lugano_20230201_20240201'"
   ],
   "metadata": {
    "collapsed": false,
    "ExecuteTime": {
     "end_time": "2024-05-11T21:27:20.646453Z",
     "start_time": "2024-05-11T21:27:20.633199Z"
    }
   },
   "id": "79b3567730ec71e1",
   "execution_count": 2
  },
  {
   "cell_type": "code",
   "outputs": [],
   "source": [
    "delft3Dfm_exe_path = r\"C:\\Program Files\\Deltares\\Delft3D FM Suite 2023.02 HMWQ\\plugins\\DeltaShell.Dimr\\kernels\\x64\\dimr\\scripts\\run_dimr.bat\"\n",
    "dimr_file_path = os.path.join(working_dir, 'dimr_config.xml')\n",
    "\n",
    "process = subprocess.Popen([delft3Dfm_exe_path, dimr_file_path],\n",
    "                            stdout=subprocess.PIPE,\n",
    "                            stderr=subprocess.PIPE,\n",
    "                            universal_newlines=True,\n",
    "                            cwd=working_dir)\n",
    "process.communicate()"
   ],
   "metadata": {
    "collapsed": false
   },
   "id": "fdc1dc6feb6e45eb"
  },
  {
   "cell_type": "code",
   "outputs": [],
   "source": [
    "output_file = rf\"{working_dir}\\dflowfm\\output\\FlowFM_map.nc\"\n",
    "output_data = netCDF4.Dataset(output_file)\n",
    "var_to_plot = 'ucx'\n",
    "index_time_to_plot = 5\n",
    "i_depth = 179 # TODO : find depth corresponding to i_depth\n",
    "x_to_plot = 500 # 729429.4\n",
    "y_to_plot = 500 # 98326.6"
   ],
   "metadata": {
    "collapsed": false,
    "ExecuteTime": {
     "end_time": "2024-05-11T21:27:31.030963Z",
     "start_time": "2024-05-11T21:27:31.012765Z"
    }
   },
   "id": "c377beb362b90876",
   "execution_count": 3
  },
  {
   "cell_type": "code",
   "outputs": [],
   "source": [
    "# tem1(time, nFlowElem, laydim) : water temperature\n",
    "# ucx(time, nFlowElem, laydim) : velocity on flow element center, x-component\n",
    "# ucy(time, nFlowElem, laydim) : velocity on flow element center, x-component\n",
    "# ucz(time, nFlowElem, laydim) : upward velocity on flow element center\n",
    "# taus('time', 'nFlowElem') : taucurrent in flow element\"\n",
    "# czs('time', 'nFlowElem') Chezy roughness\","
   ],
   "metadata": {
    "collapsed": false,
    "ExecuteTime": {
     "end_time": "2024-05-06T13:56:36.773018Z",
     "start_time": "2024-05-06T13:56:36.759035Z"
    }
   },
   "id": "be00993386b1a046",
   "execution_count": 149
  },
  {
   "cell_type": "markdown",
   "source": [
    "## Get grid and time properties"
   ],
   "metadata": {
    "collapsed": false
   },
   "id": "eb07602f604e8291"
  },
  {
   "cell_type": "code",
   "outputs": [
    {
     "ename": "IndexError",
     "evalue": "FlowElem_xzw not found in /",
     "output_type": "error",
     "traceback": [
      "\u001B[1;31m---------------------------------------------------------------------------\u001B[0m",
      "\u001B[1;31mIndexError\u001B[0m                                Traceback (most recent call last)",
      "Cell \u001B[1;32mIn[4], line 1\u001B[0m\n\u001B[1;32m----> 1\u001B[0m x_flowElems \u001B[38;5;241m=\u001B[39m \u001B[43moutput_data\u001B[49m\u001B[43m[\u001B[49m\u001B[38;5;124;43m'\u001B[39;49m\u001B[38;5;124;43mFlowElem_xzw\u001B[39;49m\u001B[38;5;124;43m'\u001B[39;49m\u001B[43m]\u001B[49m[:]\u001B[38;5;241m.\u001B[39mdata \u001B[38;5;66;03m#FlowElem_xzw(nFlowElem) : x-coordinate of flow element center of mass\u001B[39;00m\n\u001B[0;32m      2\u001B[0m y_flowElems \u001B[38;5;241m=\u001B[39m output_data[\u001B[38;5;124m'\u001B[39m\u001B[38;5;124mFlowElem_yzw\u001B[39m\u001B[38;5;124m'\u001B[39m][:]\u001B[38;5;241m.\u001B[39mdata \u001B[38;5;66;03m#FlowElem_yzw(nFlowElem) : y-coordinate of flow element center of mass\u001B[39;00m\n\u001B[0;32m      3\u001B[0m z_flowElems \u001B[38;5;241m=\u001B[39m output_data[\u001B[38;5;124m'\u001B[39m\u001B[38;5;124mFlowElem_zcc\u001B[39m\u001B[38;5;124m'\u001B[39m][\u001B[38;5;241m0\u001B[39m]\u001B[38;5;241m.\u001B[39mdata[\u001B[38;5;241m0\u001B[39m,:]\n",
      "File \u001B[1;32msrc\\netCDF4\\_netCDF4.pyx:2519\u001B[0m, in \u001B[0;36mnetCDF4._netCDF4.Dataset.__getitem__\u001B[1;34m()\u001B[0m\n",
      "\u001B[1;31mIndexError\u001B[0m: FlowElem_xzw not found in /"
     ]
    }
   ],
   "source": [
    "x_flowElems = output_data['FlowElem_xzw'][:].data #FlowElem_xzw(nFlowElem) : x-coordinate of flow element center of mass\n",
    "y_flowElems = output_data['FlowElem_yzw'][:].data #FlowElem_yzw(nFlowElem) : y-coordinate of flow element center of mass\n",
    "z_flowElems = output_data['FlowElem_zcc'][0].data[0,:] #FlowElem_zcc(nFlowElem) : bed level of flow element"
   ],
   "metadata": {
    "collapsed": false,
    "ExecuteTime": {
     "end_time": "2024-05-11T21:27:36.793591Z",
     "start_time": "2024-05-11T21:27:36.192346Z"
    }
   },
   "id": "d7d290cb53d6255c",
   "execution_count": 4
  },
  {
   "cell_type": "code",
   "outputs": [],
   "source": [
    "timestamps = get_timestamps(output_data)"
   ],
   "metadata": {
    "collapsed": false,
    "ExecuteTime": {
     "start_time": "2024-05-11T21:27:36.794632Z"
    }
   },
   "id": "4fb73bb0d2aeedc6",
   "execution_count": null
  },
  {
   "cell_type": "code",
   "outputs": [
    {
     "ename": "NameError",
     "evalue": "name 'x_flowElems' is not defined",
     "output_type": "error",
     "traceback": [
      "\u001B[1;31m---------------------------------------------------------------------------\u001B[0m",
      "\u001B[1;31mNameError\u001B[0m                                 Traceback (most recent call last)",
      "Cell \u001B[1;32mIn[5], line 1\u001B[0m\n\u001B[1;32m----> 1\u001B[0m i_nElem \u001B[38;5;241m=\u001B[39m get_closest_index_by_coord(\u001B[43mx_flowElems\u001B[49m, y_flowElems, x_to_plot, y_to_plot)\n\u001B[0;32m      2\u001B[0m pattern \u001B[38;5;241m=\u001B[39m index_time_to_plot, \u001B[38;5;28mslice\u001B[39m(\u001B[38;5;28;01mNone\u001B[39;00m), i_depth \n\u001B[0;32m      3\u001B[0m pattern_timeserie \u001B[38;5;241m=\u001B[39m \u001B[38;5;28mslice\u001B[39m(\u001B[38;5;28;01mNone\u001B[39;00m), i_nElem, i_depth\n",
      "\u001B[1;31mNameError\u001B[0m: name 'x_flowElems' is not defined"
     ]
    }
   ],
   "source": [
    "i_nElem = get_closest_index_by_coord(x_flowElems, y_flowElems, x_to_plot, y_to_plot)\n",
    "pattern = index_time_to_plot, slice(None), i_depth \n",
    "pattern_timeserie = slice(None), i_nElem, i_depth\n",
    "if  var_to_plot in ['czs', 'taus']:\n",
    "    pattern = index_time_to_plot, slice(None)\n",
    "    pattern_timeserie = slice(None), i_nElem"
   ],
   "metadata": {
    "collapsed": false,
    "ExecuteTime": {
     "end_time": "2024-05-11T21:27:37.335754Z",
     "start_time": "2024-05-11T21:27:37.307347Z"
    }
   },
   "id": "10d7d1057924a8a0",
   "execution_count": 5
  },
  {
   "cell_type": "markdown",
   "source": [
    "## Get results"
   ],
   "metadata": {
    "collapsed": false
   },
   "id": "d7eeac21addf04a3"
  },
  {
   "cell_type": "code",
   "outputs": [],
   "source": [
    "data_to_plot = output_data[var_to_plot][:].data\n",
    "data_to_plot[data_to_plot == -999] = np.nan"
   ],
   "metadata": {
    "collapsed": false,
    "ExecuteTime": {
     "start_time": "2024-05-06T13:56:36.809912Z"
    }
   },
   "id": "9b4262816d3aa4da",
   "execution_count": null
  },
  {
   "cell_type": "markdown",
   "source": [
    "## Plot results"
   ],
   "metadata": {
    "collapsed": false
   },
   "id": "bbbbadb8c5d6727"
  },
  {
   "cell_type": "markdown",
   "source": [
    "def plot_transect(i_time):\n",
    "    fig = plt.figure(figsize=(15, 7))\n",
    "    data_plot_transect = data_to_plot[i_time, transect_flow_elems, slice(None)].transpose()\n",
    "    l_coords = [np.arange(len(transect_flow_elems)) * distance_between_points]\n",
    "    z_coords = z_flowElems\n",
    "    L, dummy = np.meshgrid(l_coords, z_coords)\n",
    "    # Bricolage to fix z values for Nan cells\n",
    "    Z = output_data['FlowElem_zcc'][0].data[transect_flow_elems,:].transpose()\n",
    "    indices = np.where(Z == -999)\n",
    "    Z[Z==-999] = np.nan\n",
    "    Z[indices] = (len(z_flowElems)-indices[0] ) * np.nanmin(Z) / len(z_flowElems)\n",
    "    v_min = np.nanmin(data_to_plot[slice(None), transect_flow_elems, slice(None)])\n",
    "    v_max = np.nanmax(data_to_plot[slice(None), transect_flow_elems, slice(None)])\n",
    "    \n",
    "    plt.pcolormesh(L, Z, data_plot_transect, cmap='coolwarm', vmin=v_min, vmax=v_max)\n",
    "    plt.title(var_to_plot + \" at time: \" + str(timestamps[i_time]))\n",
    "    plt.colorbar()"
   ],
   "metadata": {
    "collapsed": false
   },
   "id": "1a411e0676bfae8a"
  },
  {
   "cell_type": "code",
   "outputs": [],
   "source": [
    "def project_speed(u, v, xy1, xy2):\n",
    "    if np.isnan(u) or np.isnan(v):\n",
    "        return np.nan\n",
    "    # Calculate direction vector\n",
    "    dx = xy2[0] - xy1[0]\n",
    "    dy = xy2[1] - xy1[1]\n",
    "    # Normalize direction vector\n",
    "    mag = np.sqrt(dx**2 + dy**2)\n",
    "    if mag == 0:  # Prevent division by zero\n",
    "        return np.nan\n",
    "    dir_x = dx / mag\n",
    "    dir_y = dy / mag\n",
    "    # Calculate dot product\n",
    "    projection = u * dir_x + v * dir_y\n",
    "    return projection"
   ],
   "metadata": {
    "collapsed": false,
    "ExecuteTime": {
     "start_time": "2024-05-06T13:56:36.810963Z"
    }
   },
   "id": "fd79d734f6320d9",
   "execution_count": null
  },
  {
   "cell_type": "code",
   "outputs": [],
   "source": [
    "xy_transect_start = [701000,87000]\n",
    "xy_transect_end = [728000,87000]\n",
    "interpolated_points, step_length = interpolate_points_on_line(xy_transect_start, xy_transect_end)\n",
    "transect_flow_elems = []\n",
    "for point in interpolated_points:\n",
    "    transect_flow_elems.append(int(get_closest_flow_element_index(x_flowElems, y_flowElems, point[0], point[1])))\n",
    "\n",
    "dir_x, dir_y = get_transect_direction(xy_transect_start, xy_transect_end)\n",
    "\n",
    "def increment_time(button):\n",
    "    time_slider_transect.value += 1\n",
    "    \n",
    "button_increment = Button(description='Increment Time')\n",
    "button_increment.on_click(increment_time)\n",
    "\n",
    "def update_plot_transect(i_time):\n",
    "    fig, ax = plt.subplots(figsize=(15, 7)) \n",
    "    ax.clear()\n",
    "    img = plot_transect(ax, i_time, output_data, data_to_plot, transect_flow_elems,\n",
    "                                  step_length, z_flowElems, timestamps, var_to_plot)\n",
    "    cbar = fig.colorbar(ax.collections[0], ax=ax)\n",
    "    plt.show()\n",
    "\n",
    "time_slider_transect = IntSlider(min=0, max=len(timestamps)-1, step=1, value=0, continuous_update=True)\n",
    "interact(update_plot_transect, i_time=time_slider_transect)\n",
    "display(button_increment)"
   ],
   "metadata": {
    "collapsed": false,
    "ExecuteTime": {
     "start_time": "2024-05-06T13:56:36.812920Z"
    }
   },
   "id": "d9f008d1025c2088",
   "execution_count": null
  },
  {
   "cell_type": "code",
   "outputs": [],
   "source": [
    "def plot_xy(i_time, data_pattern, data, x_values, y_values, title, vmin, vmax):\n",
    "    plt.figure(figsize=(15, 7))\n",
    "    new_pattern = (i_time,) + data_pattern[1:]\n",
    "    scatter = plt.scatter(x_values, y_values, s=50, c=data[new_pattern], cmap='coolwarm', vmin=vmin, vmax=vmax)\n",
    "    plt.colorbar(scatter, label='Value')\n",
    "    plt.title(title)\n",
    "    plt.show()"
   ],
   "metadata": {
    "collapsed": false
   },
   "id": "cb0377dcb9957b04",
   "execution_count": null
  },
  {
   "cell_type": "code",
   "outputs": [],
   "source": [
    "def plot_xy_with_vectors(i_time, data_pattern, var_data, x_values, y_values, title, vmin, vmax, index_depth, data):\n",
    "    plt.figure(figsize=(15, 7))\n",
    "    new_pattern = (i_time,) + data_pattern[1:]\n",
    "    scatter = plt.scatter(x_values, y_values, s=50, c=var_data[new_pattern], cmap='coolwarm', vmin=vmin, vmax=vmax)\n",
    "    plt.quiver(x_values, y_values, data['ucx'][:].data[i_time, slice(None), index_depth],data['ucy'][:].data[i_time, slice(None), index_depth])\n",
    "    plt.colorbar(scatter, label='Value')\n",
    "    plt.title(title)\n",
    "    plt.show()"
   ],
   "metadata": {
    "collapsed": false
   },
   "id": "36253d411ada8e82",
   "execution_count": null
  },
  {
   "cell_type": "code",
   "outputs": [],
   "source": [
    "time_slider = IntSlider(min=0, max=len(timestamps)-1, step=1, value=0, continuous_update=True)\n",
    "title_plot_xy = f'{var_to_plot} at time {str(timestamps[index_time_to_plot])}, depth = {round(z_flowElems[i_depth],2)}'\n",
    "v_min = np.nanmin(data_to_plot[(slice(None),) + pattern[1:]]) \n",
    "v_max = np.nanmax(data_to_plot[(slice(None),) + pattern[1:]])\n",
    "\n",
    "def plot_xy_slider(i_time_slider):\n",
    "    plot_xy(i_time_slider, pattern, data_to_plot, x_flowElems, y_flowElems, title_plot_xy, v_min, v_max)\n",
    "\n",
    "def increment_time_xy(button):\n",
    "    time_slider.value += 1\n",
    "    \n",
    "button_increment_xy = Button(description='Increment Time')\n",
    "button_increment_xy.on_click(increment_time_xy)\n",
    "\n",
    "interact(plot_xy_slider, i_time_slider=time_slider)\n",
    "display(button_increment_xy)"
   ],
   "metadata": {
    "collapsed": false,
    "ExecuteTime": {
     "start_time": "2024-05-06T13:56:36.817969Z"
    }
   },
   "id": "8696e2b7ecd514c9",
   "execution_count": null
  },
  {
   "cell_type": "markdown",
   "source": [
    "## Save Animation"
   ],
   "metadata": {
    "collapsed": false
   },
   "id": "250583ac5d19d531"
  },
  {
   "cell_type": "markdown",
   "source": [
    "output_animation_path = r'C:\\Users\\leroquan\\Documents\\00-Work_space\\01-Lake-Lugano_Delft3D-FM\\test_dummy\\seiche\\animation.gif'\n",
    "\n",
    "extract_and_save_transect_animation(output_file, output_animation_path, var_to_plot, xy_transect_start, xy_transect_end, distance_between_points)"
   ],
   "metadata": {
    "collapsed": false
   },
   "id": "eed58aa9f277a723"
  },
  {
   "cell_type": "markdown",
   "source": [
    "output_animation_path = r'C:\\Users\\leroquan\\Documents\\00-Work_space\\01-Lake-Lugano_Delft3D-FM\\test_dummy\\seiche\\animation.gif'\n",
    "\n",
    "extract_and_save_xy_animation(output_file, output_animation_path, var_to_plot, i_depth)"
   ],
   "metadata": {
    "collapsed": false
   },
   "id": "4aa39cbccbcd7f29"
  },
  {
   "cell_type": "markdown",
   "source": [
    "## Display speed vectors"
   ],
   "metadata": {
    "collapsed": false
   },
   "id": "489a42beb8d19cf1"
  },
  {
   "cell_type": "code",
   "outputs": [],
   "source": [
    "def plot_speed_vectors(data, i_time, index_depth, x_values, y_values, title):\n",
    "    plt.figure(figsize=(15, 7))\n",
    "    \n",
    "    plt.title(title)\n",
    "    plt.show()"
   ],
   "metadata": {
    "collapsed": false,
    "ExecuteTime": {
     "start_time": "2024-05-06T13:56:36.818955Z"
    }
   },
   "id": "3fa1e36adcb6e4ab",
   "execution_count": null
  },
  {
   "cell_type": "markdown",
   "source": [
    "title_plot_speed_vectors =  f'Horizontale speed at time {str(timestamps[index_time_to_plot])}, depth = {round(z_flowElems[i_depth],2)}'\n",
    "plot_speed_vectors(output_data, 10, i_depth, x_flowElems, y_flowElems, title_plot_speed_vectors)"
   ],
   "metadata": {
    "collapsed": false
   },
   "id": "216f8578c6c8b22"
  },
  {
   "cell_type": "markdown",
   "source": [
    "## Analyse inputs"
   ],
   "metadata": {
    "collapsed": false
   },
   "id": "5fdfb64ed4f00e8e"
  },
  {
   "cell_type": "markdown",
   "source": [
    "input_grid_file = r\"C:\\Users\\leroquan\\Documents\\00-Work_space\\01-Lake-Lugano_Delft3D-FM\\test_dummy\\dimr\\dflowfm\\FlowFM_net.nc\"\n",
    "grid_data = netCDF4.Dataset(input_grid_file)"
   ],
   "metadata": {
    "collapsed": false
   },
   "id": "304b2943c1369583"
  },
  {
   "cell_type": "markdown",
   "source": [
    "grid_data"
   ],
   "metadata": {
    "collapsed": false
   },
   "id": "bee6879ab212654a"
  },
  {
   "cell_type": "markdown",
   "source": [
    "grid_data2['mesh2d_node_z'][:].data"
   ],
   "metadata": {
    "collapsed": false
   },
   "id": "24f1f2e728ce85a1"
  },
  {
   "cell_type": "markdown",
   "source": [
    "bath_file_path = r\"C:\\Users\\leroquan\\Documents\\00-Work_space\\01-Lake-Lugano_Delft3D-FM\\run_005\\dflowfm\\bathymetry_fill.xyz\"\n",
    "bath = open(bath_file_path, 'r')"
   ],
   "metadata": {
    "collapsed": false
   },
   "id": "175f744d9e9955a8"
  },
  {
   "cell_type": "markdown",
   "source": [
    "corr_bath_path = r\"C:\\Users\\leroquan\\Documents\\00-Work_space\\01-Lake-Lugano_Delft3D-FM\\run_005\\dflowfm\\corr_bath.xyz\"\n",
    "with open(corr_bath_path, 'w') as f:\n",
    "    for line in bath:        \n",
    "        coords = line.split('   ')\n",
    "        depth = coords[3]\n",
    "        print(coords)\n",
    "        corr_depth = - float(depth)\n",
    "        print(corr_depth)\n",
    "        line_to_write = '   ' + coords[1] + '   ' + coords[2] + '   ' + str(corr_depth) + '\\n'\n",
    "        print(line_to_write)\n",
    "        f.write(line_to_write)\n",
    "    "
   ],
   "metadata": {
    "collapsed": false
   },
   "id": "2f9dd5c24f4e748a"
  },
  {
   "cell_type": "markdown",
   "source": [
    "## Analyse results variables"
   ],
   "metadata": {
    "collapsed": false
   },
   "id": "d09c9f0c181f1c1d"
  },
  {
   "cell_type": "markdown",
   "source": [
    "var_infos = {}\n",
    "for var_name in output_data.variables.keys():\n",
    "    var = output_data.variables[var_name]\n",
    "    long_name = ''\n",
    "    if 'long_name' in var.ncattrs():\n",
    "        long_name = var.getncattr('long_name')\n",
    "    var_infos[var_name] = f\"{var.dimensions} {long_name}\""
   ],
   "metadata": {
    "collapsed": false
   },
   "id": "4beb604b6e428d1"
  }
 ],
 "metadata": {
  "kernelspec": {
   "display_name": "Python 3",
   "language": "python",
   "name": "python3"
  },
  "language_info": {
   "codemirror_mode": {
    "name": "ipython",
    "version": 2
   },
   "file_extension": ".py",
   "mimetype": "text/x-python",
   "name": "python",
   "nbconvert_exporter": "python",
   "pygments_lexer": "ipython2",
   "version": "2.7.6"
  }
 },
 "nbformat": 4,
 "nbformat_minor": 5
}
