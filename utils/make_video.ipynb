{
 "cells": [
  {
   "cell_type": "code",
   "execution_count": 5,
   "id": "initial_id",
   "metadata": {
    "collapsed": true,
    "ExecuteTime": {
     "end_time": "2025-04-08T14:40:38.892783Z",
     "start_time": "2025-04-08T14:40:38.868961Z"
    }
   },
   "outputs": [],
   "source": [
    "import glob\n",
    "import os\n",
    "from moviepy.editor import ImageSequenceClip"
   ]
  },
  {
   "cell_type": "code",
   "outputs": [
    {
     "name": "stdout",
     "output_type": "stream",
     "text": [
      "Moviepy - Building video C:\\Users\\leroquan\\Documents\\00-Work_space\\08-ARTFUL\\reanalysis\\artful03\\particles\\3d\\video.mp4.\n",
      "Moviepy - Writing video C:\\Users\\leroquan\\Documents\\00-Work_space\\08-ARTFUL\\reanalysis\\artful03\\particles\\3d\\video.mp4\n"
     ]
    },
    {
     "name": "stderr",
     "output_type": "stream",
     "text": [
      "                                                            \r"
     ]
    },
    {
     "name": "stdout",
     "output_type": "stream",
     "text": [
      "Moviepy - Done !\n",
      "Moviepy - video ready C:\\Users\\leroquan\\Documents\\00-Work_space\\08-ARTFUL\\reanalysis\\artful03\\particles\\3d\\video.mp4\n",
      "Video created successfully.\n"
     ]
    }
   ],
   "source": [
    "work_folder = r'C:\\Users\\leroquan\\Documents\\00-Work_space\\08-ARTFUL\\reanalysis\\artful03\\particles\\3d'\n",
    "video_name = 'video.mp4'\n",
    "fps = 10\n",
    "\n",
    "# Get all images\n",
    "images = glob.glob(f\"{work_folder}/*.png\")\n",
    "\n",
    "# Create a clip from the images\n",
    "clip = ImageSequenceClip(images, fps=fps)\n",
    "clip.write_videofile(os.path.join(work_folder, video_name), fps=fps, codec=\"libx264\", audio=False)\n",
    "print(\"Video created successfully.\")"
   ],
   "metadata": {
    "collapsed": false,
    "ExecuteTime": {
     "end_time": "2025-04-09T12:52:54.012872Z",
     "start_time": "2025-04-09T12:52:52.039994Z"
    }
   },
   "id": "c6e669dfee5be00d",
   "execution_count": 9
  },
  {
   "cell_type": "code",
   "outputs": [],
   "source": [],
   "metadata": {
    "collapsed": false
   },
   "id": "aa9a04f78a05d141"
  }
 ],
 "metadata": {
  "kernelspec": {
   "display_name": "Python 3",
   "language": "python",
   "name": "python3"
  },
  "language_info": {
   "codemirror_mode": {
    "name": "ipython",
    "version": 2
   },
   "file_extension": ".py",
   "mimetype": "text/x-python",
   "name": "python",
   "nbconvert_exporter": "python",
   "pygments_lexer": "ipython2",
   "version": "2.7.6"
  }
 },
 "nbformat": 4,
 "nbformat_minor": 5
}
